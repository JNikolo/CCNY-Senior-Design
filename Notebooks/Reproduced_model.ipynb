{
  "metadata": {
    "kernelspec": {
      "display_name": "Python 3",
      "name": "python3"
    },
    "language_info": {
      "name": "python",
      "version": "3.7.10",
      "mimetype": "text/x-python",
      "codemirror_mode": {
        "name": "ipython",
        "version": 3
      },
      "pygments_lexer": "ipython3",
      "nbconvert_exporter": "python",
      "file_extension": ".py"
    },
    "colab": {
      "provenance": [],
      "machine_shape": "hm",
      "gpuType": "T4",
      "collapsed_sections": [
        "a8LjOI2k043-",
        "FAaR-_eS044A",
        "8vhvwPFk044G",
        "FO1-136V044H",
        "T3o7f3Y3S0n3"
      ]
    },
    "accelerator": "GPU"
  },
  "nbformat_minor": 0,
  "nbformat": 4,
  "cells": [
    {
      "cell_type": "markdown",
      "source": [
        "# Acknowledgements\n",
        "\n",
        "The code for the transformer model is take from  this tutorial https://www.tensorflow.org/text/tutorials/transformer"
      ],
      "metadata": {
        "id": "4IJwZVdq0438"
      }
    },
    {
      "cell_type": "markdown",
      "source": [
        "# Installing Packages needed and Importing Libraries"
      ],
      "metadata": {
        "id": "a8LjOI2k043-"
      }
    },
    {
      "cell_type": "code",
      "source": [
        "!pip install openpyxl  --quiet"
      ],
      "metadata": {
        "execution": {
          "iopub.status.busy": "2022-11-08T11:03:52.753721Z",
          "iopub.execute_input": "2022-11-08T11:03:52.754027Z",
          "iopub.status.idle": "2022-11-08T11:04:02.805286Z",
          "shell.execute_reply.started": "2022-11-08T11:03:52.753934Z",
          "shell.execute_reply": "2022-11-08T11:04:02.804217Z"
        },
        "trusted": true,
        "id": "eTQoiKn9043-"
      },
      "execution_count": 1,
      "outputs": []
    },
    {
      "cell_type": "code",
      "source": [
        "from google.colab import drive\n",
        "#drive.mount('/content/drive')"
      ],
      "metadata": {
        "id": "xoXt3ffH0Eyn"
      },
      "execution_count": 2,
      "outputs": []
    },
    {
      "cell_type": "code",
      "source": [
        "import numpy as np\n",
        "import matplotlib.pyplot as plt\n",
        "import seaborn as sns\n",
        "import pandas as pd\n",
        "from collections import defaultdict\n",
        "import string\n",
        "import tensorflow as tf\n",
        "import re\n",
        "import os\n",
        "import time\n",
        "from tensorflow import keras\n",
        "from tensorflow.keras.layers import Dense, Input\n",
        "from tensorflow.keras.optimizers import Adam\n",
        "from tensorflow.keras.models import Model\n",
        "from tensorflow.keras.callbacks import ModelCheckpoint\n",
        "from sklearn.preprocessing import OneHotEncoder\n",
        "from sklearn.model_selection import train_test_split"
      ],
      "metadata": {
        "execution": {
          "iopub.status.busy": "2022-11-08T11:08:19.446140Z",
          "iopub.execute_input": "2022-11-08T11:08:19.446474Z",
          "iopub.status.idle": "2022-11-08T11:08:24.806869Z",
          "shell.execute_reply.started": "2022-11-08T11:08:19.446442Z",
          "shell.execute_reply": "2022-11-08T11:08:24.806056Z"
        },
        "trusted": true,
        "id": "iWdHS12O043_"
      },
      "execution_count": 3,
      "outputs": []
    },
    {
      "cell_type": "code",
      "source": [
        "ENCODER_LEN = 400\n",
        "DECODER_LEN = 75\n",
        "BATCH_SIZE = 64\n",
        "BUFFER_SIZE = 20000"
      ],
      "metadata": {
        "execution": {
          "iopub.status.busy": "2022-11-08T11:08:24.902383Z",
          "iopub.execute_input": "2022-11-08T11:08:24.902645Z",
          "iopub.status.idle": "2022-11-08T11:08:24.907855Z",
          "shell.execute_reply.started": "2022-11-08T11:08:24.902618Z",
          "shell.execute_reply": "2022-11-08T11:08:24.906895Z"
        },
        "trusted": true,
        "id": "VXwDJduK044A"
      },
      "execution_count": 12,
      "outputs": []
    },
    {
      "cell_type": "markdown",
      "source": [
        "# Dataset\n",
        "\n",
        "After creating the dataframe we apply Start of Sentence(<SOS>) and End of Sentence(<EOS>) tokens.\n",
        "These sentences are then tokenized and padded to fix length."
      ],
      "metadata": {
        "id": "FAaR-_eS044A"
      }
    },
    {
      "cell_type": "code",
      "source": [
        "#Jair\n",
        "duc=pd.read_excel(\"/content/duc_2004.xlsx\",engine = 'openpyxl')\n",
        "\n",
        "#Evan\n",
        "#duc=pd.read_excel(\"/content/drive/MyDrive/SD_data/duc_2004.xlsx\",engine = 'openpyxl')"
      ],
      "metadata": {
        "execution": {
          "iopub.status.busy": "2022-11-08T11:38:04.549933Z",
          "iopub.execute_input": "2022-11-08T11:38:04.550290Z",
          "iopub.status.idle": "2022-11-08T11:38:04.642331Z",
          "shell.execute_reply.started": "2022-11-08T11:38:04.550259Z",
          "shell.execute_reply": "2022-11-08T11:38:04.641553Z"
        },
        "trusted": true,
        "id": "2_EFOF_D044B"
      },
      "execution_count": 5,
      "outputs": []
    },
    {
      "cell_type": "code",
      "source": [
        "duc.head()"
      ],
      "metadata": {
        "execution": {
          "iopub.status.busy": "2022-11-08T11:38:05.325178Z",
          "iopub.execute_input": "2022-11-08T11:38:05.325543Z",
          "iopub.status.idle": "2022-11-08T11:38:05.339039Z",
          "shell.execute_reply.started": "2022-11-08T11:38:05.325511Z",
          "shell.execute_reply": "2022-11-08T11:38:05.337987Z"
        },
        "trusted": true,
        "colab": {
          "base_uri": "https://localhost:8080/",
          "height": 293
        },
        "id": "vYd81kEO044B",
        "outputId": "0c578479-8868-4bae-f7d1-c4402b5fe40d"
      },
      "execution_count": 6,
      "outputs": [
        {
          "output_type": "execute_result",
          "data": {
            "text/plain": [
              "                                                text  \\\n",
              "0  cambodian leader hun sen on friday rejected op...   \n",
              "1  king norodom sihanouk has declined requests to...   \n",
              "2  cambodia 's two-party opposition asked the asi...   \n",
              "3  cambodia 's ruling party responded tuesday to ...   \n",
              "4  cambodia 's leading opposition party ruled out...   \n",
              "\n",
              "                                            summary1  \\\n",
              "0  Cambodian government rejects opposition's call...   \n",
              "1  Sihanouk refuses to chair Cambodian political ...   \n",
              "2  Opposition asks end to loans to \"illegal\" Camb...   \n",
              "3  Cambodian party defends leader Hun Sen against...   \n",
              "4  Cambodian party rejects government offer to sh...   \n",
              "\n",
              "                                            summary2  \\\n",
              "0  Cambodian leader Hun Sen rejects opposition de...   \n",
              "1  Sihanouk refuses to host talks of Cambodian po...   \n",
              "2  Cambodian opposition asks ADB to stop loans to...   \n",
              "3  CPP defends Hun Sen to US Senate. Asks rejecti...   \n",
              "4  FUNCINPEC refuses to share presidency with CPP...   \n",
              "\n",
              "                                            summary3  \\\n",
              "0  Hun Sen rejects out of country talks, Sihanouk...   \n",
              "1  Efforts to form a government deadlocked, Sihan...   \n",
              "2  Cambodia's two-party opposition seeks to block...   \n",
              "3  Cambodia's ruling party seeks to counter human...   \n",
              "4  Disputes over presidency block efforts to form...   \n",
              "\n",
              "                                            summary4  \n",
              "0  New Cambodian government in limbo as Hun Sen r...  \n",
              "1  Norodom Sihanouk declines role to mediate in C...  \n",
              "2  Opponents of Cambodian government ask Asian De...  \n",
              "3  US House seeks probe of Cambodian rights viola...  \n",
              "4  Opposition Royalists reject power sharing and ...  "
            ],
            "text/html": [
              "\n",
              "  <div id=\"df-7fbd3e8e-ea04-4988-829d-5a2a5c07b9b5\" class=\"colab-df-container\">\n",
              "    <div>\n",
              "<style scoped>\n",
              "    .dataframe tbody tr th:only-of-type {\n",
              "        vertical-align: middle;\n",
              "    }\n",
              "\n",
              "    .dataframe tbody tr th {\n",
              "        vertical-align: top;\n",
              "    }\n",
              "\n",
              "    .dataframe thead th {\n",
              "        text-align: right;\n",
              "    }\n",
              "</style>\n",
              "<table border=\"1\" class=\"dataframe\">\n",
              "  <thead>\n",
              "    <tr style=\"text-align: right;\">\n",
              "      <th></th>\n",
              "      <th>text</th>\n",
              "      <th>summary1</th>\n",
              "      <th>summary2</th>\n",
              "      <th>summary3</th>\n",
              "      <th>summary4</th>\n",
              "    </tr>\n",
              "  </thead>\n",
              "  <tbody>\n",
              "    <tr>\n",
              "      <th>0</th>\n",
              "      <td>cambodian leader hun sen on friday rejected op...</td>\n",
              "      <td>Cambodian government rejects opposition's call...</td>\n",
              "      <td>Cambodian leader Hun Sen rejects opposition de...</td>\n",
              "      <td>Hun Sen rejects out of country talks, Sihanouk...</td>\n",
              "      <td>New Cambodian government in limbo as Hun Sen r...</td>\n",
              "    </tr>\n",
              "    <tr>\n",
              "      <th>1</th>\n",
              "      <td>king norodom sihanouk has declined requests to...</td>\n",
              "      <td>Sihanouk refuses to chair Cambodian political ...</td>\n",
              "      <td>Sihanouk refuses to host talks of Cambodian po...</td>\n",
              "      <td>Efforts to form a government deadlocked, Sihan...</td>\n",
              "      <td>Norodom Sihanouk declines role to mediate in C...</td>\n",
              "    </tr>\n",
              "    <tr>\n",
              "      <th>2</th>\n",
              "      <td>cambodia 's two-party opposition asked the asi...</td>\n",
              "      <td>Opposition asks end to loans to \"illegal\" Camb...</td>\n",
              "      <td>Cambodian opposition asks ADB to stop loans to...</td>\n",
              "      <td>Cambodia's two-party opposition seeks to block...</td>\n",
              "      <td>Opponents of Cambodian government ask Asian De...</td>\n",
              "    </tr>\n",
              "    <tr>\n",
              "      <th>3</th>\n",
              "      <td>cambodia 's ruling party responded tuesday to ...</td>\n",
              "      <td>Cambodian party defends leader Hun Sen against...</td>\n",
              "      <td>CPP defends Hun Sen to US Senate. Asks rejecti...</td>\n",
              "      <td>Cambodia's ruling party seeks to counter human...</td>\n",
              "      <td>US House seeks probe of Cambodian rights viola...</td>\n",
              "    </tr>\n",
              "    <tr>\n",
              "      <th>4</th>\n",
              "      <td>cambodia 's leading opposition party ruled out...</td>\n",
              "      <td>Cambodian party rejects government offer to sh...</td>\n",
              "      <td>FUNCINPEC refuses to share presidency with CPP...</td>\n",
              "      <td>Disputes over presidency block efforts to form...</td>\n",
              "      <td>Opposition Royalists reject power sharing and ...</td>\n",
              "    </tr>\n",
              "  </tbody>\n",
              "</table>\n",
              "</div>\n",
              "    <div class=\"colab-df-buttons\">\n",
              "\n",
              "  <div class=\"colab-df-container\">\n",
              "    <button class=\"colab-df-convert\" onclick=\"convertToInteractive('df-7fbd3e8e-ea04-4988-829d-5a2a5c07b9b5')\"\n",
              "            title=\"Convert this dataframe to an interactive table.\"\n",
              "            style=\"display:none;\">\n",
              "\n",
              "  <svg xmlns=\"http://www.w3.org/2000/svg\" height=\"24px\" viewBox=\"0 -960 960 960\">\n",
              "    <path d=\"M120-120v-720h720v720H120Zm60-500h600v-160H180v160Zm220 220h160v-160H400v160Zm0 220h160v-160H400v160ZM180-400h160v-160H180v160Zm440 0h160v-160H620v160ZM180-180h160v-160H180v160Zm440 0h160v-160H620v160Z\"/>\n",
              "  </svg>\n",
              "    </button>\n",
              "\n",
              "  <style>\n",
              "    .colab-df-container {\n",
              "      display:flex;\n",
              "      gap: 12px;\n",
              "    }\n",
              "\n",
              "    .colab-df-convert {\n",
              "      background-color: #E8F0FE;\n",
              "      border: none;\n",
              "      border-radius: 50%;\n",
              "      cursor: pointer;\n",
              "      display: none;\n",
              "      fill: #1967D2;\n",
              "      height: 32px;\n",
              "      padding: 0 0 0 0;\n",
              "      width: 32px;\n",
              "    }\n",
              "\n",
              "    .colab-df-convert:hover {\n",
              "      background-color: #E2EBFA;\n",
              "      box-shadow: 0px 1px 2px rgba(60, 64, 67, 0.3), 0px 1px 3px 1px rgba(60, 64, 67, 0.15);\n",
              "      fill: #174EA6;\n",
              "    }\n",
              "\n",
              "    .colab-df-buttons div {\n",
              "      margin-bottom: 4px;\n",
              "    }\n",
              "\n",
              "    [theme=dark] .colab-df-convert {\n",
              "      background-color: #3B4455;\n",
              "      fill: #D2E3FC;\n",
              "    }\n",
              "\n",
              "    [theme=dark] .colab-df-convert:hover {\n",
              "      background-color: #434B5C;\n",
              "      box-shadow: 0px 1px 3px 1px rgba(0, 0, 0, 0.15);\n",
              "      filter: drop-shadow(0px 1px 2px rgba(0, 0, 0, 0.3));\n",
              "      fill: #FFFFFF;\n",
              "    }\n",
              "  </style>\n",
              "\n",
              "    <script>\n",
              "      const buttonEl =\n",
              "        document.querySelector('#df-7fbd3e8e-ea04-4988-829d-5a2a5c07b9b5 button.colab-df-convert');\n",
              "      buttonEl.style.display =\n",
              "        google.colab.kernel.accessAllowed ? 'block' : 'none';\n",
              "\n",
              "      async function convertToInteractive(key) {\n",
              "        const element = document.querySelector('#df-7fbd3e8e-ea04-4988-829d-5a2a5c07b9b5');\n",
              "        const dataTable =\n",
              "          await google.colab.kernel.invokeFunction('convertToInteractive',\n",
              "                                                    [key], {});\n",
              "        if (!dataTable) return;\n",
              "\n",
              "        const docLinkHtml = 'Like what you see? Visit the ' +\n",
              "          '<a target=\"_blank\" href=https://colab.research.google.com/notebooks/data_table.ipynb>data table notebook</a>'\n",
              "          + ' to learn more about interactive tables.';\n",
              "        element.innerHTML = '';\n",
              "        dataTable['output_type'] = 'display_data';\n",
              "        await google.colab.output.renderOutput(dataTable, element);\n",
              "        const docLink = document.createElement('div');\n",
              "        docLink.innerHTML = docLinkHtml;\n",
              "        element.appendChild(docLink);\n",
              "      }\n",
              "    </script>\n",
              "  </div>\n",
              "\n",
              "\n",
              "<div id=\"df-cc73c4b4-90ee-429e-86e0-672c794ca640\">\n",
              "  <button class=\"colab-df-quickchart\" onclick=\"quickchart('df-cc73c4b4-90ee-429e-86e0-672c794ca640')\"\n",
              "            title=\"Suggest charts\"\n",
              "            style=\"display:none;\">\n",
              "\n",
              "<svg xmlns=\"http://www.w3.org/2000/svg\" height=\"24px\"viewBox=\"0 0 24 24\"\n",
              "     width=\"24px\">\n",
              "    <g>\n",
              "        <path d=\"M19 3H5c-1.1 0-2 .9-2 2v14c0 1.1.9 2 2 2h14c1.1 0 2-.9 2-2V5c0-1.1-.9-2-2-2zM9 17H7v-7h2v7zm4 0h-2V7h2v10zm4 0h-2v-4h2v4z\"/>\n",
              "    </g>\n",
              "</svg>\n",
              "  </button>\n",
              "\n",
              "<style>\n",
              "  .colab-df-quickchart {\n",
              "      --bg-color: #E8F0FE;\n",
              "      --fill-color: #1967D2;\n",
              "      --hover-bg-color: #E2EBFA;\n",
              "      --hover-fill-color: #174EA6;\n",
              "      --disabled-fill-color: #AAA;\n",
              "      --disabled-bg-color: #DDD;\n",
              "  }\n",
              "\n",
              "  [theme=dark] .colab-df-quickchart {\n",
              "      --bg-color: #3B4455;\n",
              "      --fill-color: #D2E3FC;\n",
              "      --hover-bg-color: #434B5C;\n",
              "      --hover-fill-color: #FFFFFF;\n",
              "      --disabled-bg-color: #3B4455;\n",
              "      --disabled-fill-color: #666;\n",
              "  }\n",
              "\n",
              "  .colab-df-quickchart {\n",
              "    background-color: var(--bg-color);\n",
              "    border: none;\n",
              "    border-radius: 50%;\n",
              "    cursor: pointer;\n",
              "    display: none;\n",
              "    fill: var(--fill-color);\n",
              "    height: 32px;\n",
              "    padding: 0;\n",
              "    width: 32px;\n",
              "  }\n",
              "\n",
              "  .colab-df-quickchart:hover {\n",
              "    background-color: var(--hover-bg-color);\n",
              "    box-shadow: 0 1px 2px rgba(60, 64, 67, 0.3), 0 1px 3px 1px rgba(60, 64, 67, 0.15);\n",
              "    fill: var(--button-hover-fill-color);\n",
              "  }\n",
              "\n",
              "  .colab-df-quickchart-complete:disabled,\n",
              "  .colab-df-quickchart-complete:disabled:hover {\n",
              "    background-color: var(--disabled-bg-color);\n",
              "    fill: var(--disabled-fill-color);\n",
              "    box-shadow: none;\n",
              "  }\n",
              "\n",
              "  .colab-df-spinner {\n",
              "    border: 2px solid var(--fill-color);\n",
              "    border-color: transparent;\n",
              "    border-bottom-color: var(--fill-color);\n",
              "    animation:\n",
              "      spin 1s steps(1) infinite;\n",
              "  }\n",
              "\n",
              "  @keyframes spin {\n",
              "    0% {\n",
              "      border-color: transparent;\n",
              "      border-bottom-color: var(--fill-color);\n",
              "      border-left-color: var(--fill-color);\n",
              "    }\n",
              "    20% {\n",
              "      border-color: transparent;\n",
              "      border-left-color: var(--fill-color);\n",
              "      border-top-color: var(--fill-color);\n",
              "    }\n",
              "    30% {\n",
              "      border-color: transparent;\n",
              "      border-left-color: var(--fill-color);\n",
              "      border-top-color: var(--fill-color);\n",
              "      border-right-color: var(--fill-color);\n",
              "    }\n",
              "    40% {\n",
              "      border-color: transparent;\n",
              "      border-right-color: var(--fill-color);\n",
              "      border-top-color: var(--fill-color);\n",
              "    }\n",
              "    60% {\n",
              "      border-color: transparent;\n",
              "      border-right-color: var(--fill-color);\n",
              "    }\n",
              "    80% {\n",
              "      border-color: transparent;\n",
              "      border-right-color: var(--fill-color);\n",
              "      border-bottom-color: var(--fill-color);\n",
              "    }\n",
              "    90% {\n",
              "      border-color: transparent;\n",
              "      border-bottom-color: var(--fill-color);\n",
              "    }\n",
              "  }\n",
              "</style>\n",
              "\n",
              "  <script>\n",
              "    async function quickchart(key) {\n",
              "      const quickchartButtonEl =\n",
              "        document.querySelector('#' + key + ' button');\n",
              "      quickchartButtonEl.disabled = true;  // To prevent multiple clicks.\n",
              "      quickchartButtonEl.classList.add('colab-df-spinner');\n",
              "      try {\n",
              "        const charts = await google.colab.kernel.invokeFunction(\n",
              "            'suggestCharts', [key], {});\n",
              "      } catch (error) {\n",
              "        console.error('Error during call to suggestCharts:', error);\n",
              "      }\n",
              "      quickchartButtonEl.classList.remove('colab-df-spinner');\n",
              "      quickchartButtonEl.classList.add('colab-df-quickchart-complete');\n",
              "    }\n",
              "    (() => {\n",
              "      let quickchartButtonEl =\n",
              "        document.querySelector('#df-cc73c4b4-90ee-429e-86e0-672c794ca640 button');\n",
              "      quickchartButtonEl.style.display =\n",
              "        google.colab.kernel.accessAllowed ? 'block' : 'none';\n",
              "    })();\n",
              "  </script>\n",
              "</div>\n",
              "\n",
              "    </div>\n",
              "  </div>\n"
            ],
            "application/vnd.google.colaboratory.intrinsic+json": {
              "type": "dataframe",
              "variable_name": "duc",
              "summary": "{\n  \"name\": \"duc\",\n  \"rows\": 500,\n  \"fields\": [\n    {\n      \"column\": \"text\",\n      \"properties\": {\n        \"dtype\": \"string\",\n        \"num_unique_values\": 440,\n        \"samples\": [\n          \"two astronauts ventured back out on another spacewalk wednesday to attach antennas to the international space station under construction nearly 250 miles above earth .\\n\",\n          \"prime minister mahathir mohamad said friday he is not too choosy about who will be his successor , the man need not necessarily be very religious and only preoccupied with doing virtuous deeds at all times , the national news agency , bernama , quoted mahathir as saying after friday prayers at the al-falah mosque in the northern town of jitra in kedah state .\\n\",\n          \"the deal that south africa 's truth and reconciliation commission offered was simple enough : confess your crimes , apply for amnesty and you will go free .\\n\"\n        ],\n        \"semantic_type\": \"\",\n        \"description\": \"\"\n      }\n    },\n    {\n      \"column\": \"summary1\",\n      \"properties\": {\n        \"dtype\": \"string\",\n        \"num_unique_values\": 456,\n        \"samples\": [\n          \"President's next premier-designate likely to be widely trusted lawmaker.\\n\",\n          \"Former top bin Laden aide source of U.S. evidence on terrorists\\n\",\n          \"UN official held hostage freed unharmed; 3 kidnappers killed in operation.\\n\"\n        ],\n        \"semantic_type\": \"\",\n        \"description\": \"\"\n      }\n    },\n    {\n      \"column\": \"summary2\",\n      \"properties\": {\n        \"dtype\": \"string\",\n        \"num_unique_values\": 470,\n        \"samples\": [\n          \"Fighting for Kindu and airfield subsides after rebel artillery strikes.\\n\",\n          \"Israel demands outlaw of military wings of radical Islamic groups.\\n\",\n          \"2 arrested for articles inciting Taliban-style revolution in Bangladesh.\\n\"\n        ],\n        \"semantic_type\": \"\",\n        \"description\": \"\"\n      }\n    },\n    {\n      \"column\": \"summary3\",\n      \"properties\": {\n        \"dtype\": \"string\",\n        \"num_unique_values\": 472,\n        \"samples\": [\n          \"Rebels say soldiers on plane they downed; Congolese Airline says civilian\\n\",\n          \"Islamic Jihad claims responsibility for suicide bombing; promises more\\n\",\n          \"Bangledesh arrests journalists for encouraging an Islamic revolution\\n\"\n        ],\n        \"semantic_type\": \"\",\n        \"description\": \"\"\n      }\n    },\n    {\n      \"column\": \"summary4\",\n      \"properties\": {\n        \"dtype\": \"string\",\n        \"num_unique_values\": 464,\n        \"samples\": [\n          \"Sihanouk praised agreements that led to formation of coalition government\\n\",\n          \"US asks Germany for bin Laden cohort tied to African embassy bombings.\\n\",\n          \"Osama bin Laden's in-law gives scoop to US; takes plea; more charges on way\\n\"\n        ],\n        \"semantic_type\": \"\",\n        \"description\": \"\"\n      }\n    }\n  ]\n}"
            }
          },
          "metadata": {},
          "execution_count": 6
        }
      ]
    },
    {
      "cell_type": "code",
      "source": [
        "#Jair\n",
        "news = pd.read_excel(\"/content/inshorts.xlsx\",engine = 'openpyxl')\n",
        "\n",
        "#Evan\n",
        "#news = pd.read_excel(\"/content/drive/MyDrive/SD_data/inshorts.xlsx\",engine = 'openpyxl')\n",
        "\n",
        "\n",
        "print(f'Dataset size: {len(news)}')"
      ],
      "metadata": {
        "execution": {
          "iopub.status.busy": "2022-11-08T11:38:06.733443Z",
          "iopub.execute_input": "2022-11-08T11:38:06.733763Z",
          "iopub.status.idle": "2022-11-08T11:38:13.252527Z",
          "shell.execute_reply.started": "2022-11-08T11:38:06.733731Z",
          "shell.execute_reply": "2022-11-08T11:38:13.251598Z"
        },
        "trusted": true,
        "colab": {
          "base_uri": "https://localhost:8080/"
        },
        "id": "5GCsistK044C",
        "outputId": "d30ac67a-270d-4b27-8ebf-42556b537d25"
      },
      "execution_count": 7,
      "outputs": [
        {
          "output_type": "stream",
          "name": "stdout",
          "text": [
            "Dataset size: 55104\n"
          ]
        }
      ]
    },
    {
      "cell_type": "code",
      "source": [
        "news.head()"
      ],
      "metadata": {
        "colab": {
          "base_uri": "https://localhost:8080/",
          "height": 206
        },
        "id": "nEwW5Os_pGmY",
        "outputId": "555f68b9-d227-4b86-f8d3-812512f3ef6e"
      },
      "execution_count": 8,
      "outputs": [
        {
          "output_type": "execute_result",
          "data": {
            "text/plain": [
              "                                            Headline  \\\n",
              "0  4 ex-bank officials booked for cheating bank o...   \n",
              "1     Supreme Court to go paperless in 6 months: CJI   \n",
              "2  At least 3 killed, 30 injured in blast in Sylh...   \n",
              "3  Why has Reliance been barred from trading in f...   \n",
              "4  Was stopped from entering my own studio at Tim...   \n",
              "\n",
              "                                               Short                 Source   \\\n",
              "0  The CBI on Saturday booked four former officia...  The New Indian Express   \n",
              "1  Chief Justice JS Khehar has said the Supreme C...                 Outlook   \n",
              "2  At least three people were killed, including a...         Hindustan Times   \n",
              "3  Mukesh Ambani-led Reliance Industries (RIL) wa...                Livemint   \n",
              "4  TV news anchor Arnab Goswami has said he was t...                 YouTube   \n",
              "\n",
              "      Time  Publish Date  \n",
              "0  09:25:00   2017-03-26  \n",
              "1  22:18:00   2017-03-25  \n",
              "2  23:39:00   2017-03-25  \n",
              "3  23:08:00   2017-03-25  \n",
              "4  23:24:00   2017-03-25  "
            ],
            "text/html": [
              "\n",
              "  <div id=\"df-b24ce7d6-33f5-4865-948c-888c443364c5\" class=\"colab-df-container\">\n",
              "    <div>\n",
              "<style scoped>\n",
              "    .dataframe tbody tr th:only-of-type {\n",
              "        vertical-align: middle;\n",
              "    }\n",
              "\n",
              "    .dataframe tbody tr th {\n",
              "        vertical-align: top;\n",
              "    }\n",
              "\n",
              "    .dataframe thead th {\n",
              "        text-align: right;\n",
              "    }\n",
              "</style>\n",
              "<table border=\"1\" class=\"dataframe\">\n",
              "  <thead>\n",
              "    <tr style=\"text-align: right;\">\n",
              "      <th></th>\n",
              "      <th>Headline</th>\n",
              "      <th>Short</th>\n",
              "      <th>Source</th>\n",
              "      <th>Time</th>\n",
              "      <th>Publish Date</th>\n",
              "    </tr>\n",
              "  </thead>\n",
              "  <tbody>\n",
              "    <tr>\n",
              "      <th>0</th>\n",
              "      <td>4 ex-bank officials booked for cheating bank o...</td>\n",
              "      <td>The CBI on Saturday booked four former officia...</td>\n",
              "      <td>The New Indian Express</td>\n",
              "      <td>09:25:00</td>\n",
              "      <td>2017-03-26</td>\n",
              "    </tr>\n",
              "    <tr>\n",
              "      <th>1</th>\n",
              "      <td>Supreme Court to go paperless in 6 months: CJI</td>\n",
              "      <td>Chief Justice JS Khehar has said the Supreme C...</td>\n",
              "      <td>Outlook</td>\n",
              "      <td>22:18:00</td>\n",
              "      <td>2017-03-25</td>\n",
              "    </tr>\n",
              "    <tr>\n",
              "      <th>2</th>\n",
              "      <td>At least 3 killed, 30 injured in blast in Sylh...</td>\n",
              "      <td>At least three people were killed, including a...</td>\n",
              "      <td>Hindustan Times</td>\n",
              "      <td>23:39:00</td>\n",
              "      <td>2017-03-25</td>\n",
              "    </tr>\n",
              "    <tr>\n",
              "      <th>3</th>\n",
              "      <td>Why has Reliance been barred from trading in f...</td>\n",
              "      <td>Mukesh Ambani-led Reliance Industries (RIL) wa...</td>\n",
              "      <td>Livemint</td>\n",
              "      <td>23:08:00</td>\n",
              "      <td>2017-03-25</td>\n",
              "    </tr>\n",
              "    <tr>\n",
              "      <th>4</th>\n",
              "      <td>Was stopped from entering my own studio at Tim...</td>\n",
              "      <td>TV news anchor Arnab Goswami has said he was t...</td>\n",
              "      <td>YouTube</td>\n",
              "      <td>23:24:00</td>\n",
              "      <td>2017-03-25</td>\n",
              "    </tr>\n",
              "  </tbody>\n",
              "</table>\n",
              "</div>\n",
              "    <div class=\"colab-df-buttons\">\n",
              "\n",
              "  <div class=\"colab-df-container\">\n",
              "    <button class=\"colab-df-convert\" onclick=\"convertToInteractive('df-b24ce7d6-33f5-4865-948c-888c443364c5')\"\n",
              "            title=\"Convert this dataframe to an interactive table.\"\n",
              "            style=\"display:none;\">\n",
              "\n",
              "  <svg xmlns=\"http://www.w3.org/2000/svg\" height=\"24px\" viewBox=\"0 -960 960 960\">\n",
              "    <path d=\"M120-120v-720h720v720H120Zm60-500h600v-160H180v160Zm220 220h160v-160H400v160Zm0 220h160v-160H400v160ZM180-400h160v-160H180v160Zm440 0h160v-160H620v160ZM180-180h160v-160H180v160Zm440 0h160v-160H620v160Z\"/>\n",
              "  </svg>\n",
              "    </button>\n",
              "\n",
              "  <style>\n",
              "    .colab-df-container {\n",
              "      display:flex;\n",
              "      gap: 12px;\n",
              "    }\n",
              "\n",
              "    .colab-df-convert {\n",
              "      background-color: #E8F0FE;\n",
              "      border: none;\n",
              "      border-radius: 50%;\n",
              "      cursor: pointer;\n",
              "      display: none;\n",
              "      fill: #1967D2;\n",
              "      height: 32px;\n",
              "      padding: 0 0 0 0;\n",
              "      width: 32px;\n",
              "    }\n",
              "\n",
              "    .colab-df-convert:hover {\n",
              "      background-color: #E2EBFA;\n",
              "      box-shadow: 0px 1px 2px rgba(60, 64, 67, 0.3), 0px 1px 3px 1px rgba(60, 64, 67, 0.15);\n",
              "      fill: #174EA6;\n",
              "    }\n",
              "\n",
              "    .colab-df-buttons div {\n",
              "      margin-bottom: 4px;\n",
              "    }\n",
              "\n",
              "    [theme=dark] .colab-df-convert {\n",
              "      background-color: #3B4455;\n",
              "      fill: #D2E3FC;\n",
              "    }\n",
              "\n",
              "    [theme=dark] .colab-df-convert:hover {\n",
              "      background-color: #434B5C;\n",
              "      box-shadow: 0px 1px 3px 1px rgba(0, 0, 0, 0.15);\n",
              "      filter: drop-shadow(0px 1px 2px rgba(0, 0, 0, 0.3));\n",
              "      fill: #FFFFFF;\n",
              "    }\n",
              "  </style>\n",
              "\n",
              "    <script>\n",
              "      const buttonEl =\n",
              "        document.querySelector('#df-b24ce7d6-33f5-4865-948c-888c443364c5 button.colab-df-convert');\n",
              "      buttonEl.style.display =\n",
              "        google.colab.kernel.accessAllowed ? 'block' : 'none';\n",
              "\n",
              "      async function convertToInteractive(key) {\n",
              "        const element = document.querySelector('#df-b24ce7d6-33f5-4865-948c-888c443364c5');\n",
              "        const dataTable =\n",
              "          await google.colab.kernel.invokeFunction('convertToInteractive',\n",
              "                                                    [key], {});\n",
              "        if (!dataTable) return;\n",
              "\n",
              "        const docLinkHtml = 'Like what you see? Visit the ' +\n",
              "          '<a target=\"_blank\" href=https://colab.research.google.com/notebooks/data_table.ipynb>data table notebook</a>'\n",
              "          + ' to learn more about interactive tables.';\n",
              "        element.innerHTML = '';\n",
              "        dataTable['output_type'] = 'display_data';\n",
              "        await google.colab.output.renderOutput(dataTable, element);\n",
              "        const docLink = document.createElement('div');\n",
              "        docLink.innerHTML = docLinkHtml;\n",
              "        element.appendChild(docLink);\n",
              "      }\n",
              "    </script>\n",
              "  </div>\n",
              "\n",
              "\n",
              "<div id=\"df-ff6b4364-6757-4c04-9bae-6393314a0b56\">\n",
              "  <button class=\"colab-df-quickchart\" onclick=\"quickchart('df-ff6b4364-6757-4c04-9bae-6393314a0b56')\"\n",
              "            title=\"Suggest charts\"\n",
              "            style=\"display:none;\">\n",
              "\n",
              "<svg xmlns=\"http://www.w3.org/2000/svg\" height=\"24px\"viewBox=\"0 0 24 24\"\n",
              "     width=\"24px\">\n",
              "    <g>\n",
              "        <path d=\"M19 3H5c-1.1 0-2 .9-2 2v14c0 1.1.9 2 2 2h14c1.1 0 2-.9 2-2V5c0-1.1-.9-2-2-2zM9 17H7v-7h2v7zm4 0h-2V7h2v10zm4 0h-2v-4h2v4z\"/>\n",
              "    </g>\n",
              "</svg>\n",
              "  </button>\n",
              "\n",
              "<style>\n",
              "  .colab-df-quickchart {\n",
              "      --bg-color: #E8F0FE;\n",
              "      --fill-color: #1967D2;\n",
              "      --hover-bg-color: #E2EBFA;\n",
              "      --hover-fill-color: #174EA6;\n",
              "      --disabled-fill-color: #AAA;\n",
              "      --disabled-bg-color: #DDD;\n",
              "  }\n",
              "\n",
              "  [theme=dark] .colab-df-quickchart {\n",
              "      --bg-color: #3B4455;\n",
              "      --fill-color: #D2E3FC;\n",
              "      --hover-bg-color: #434B5C;\n",
              "      --hover-fill-color: #FFFFFF;\n",
              "      --disabled-bg-color: #3B4455;\n",
              "      --disabled-fill-color: #666;\n",
              "  }\n",
              "\n",
              "  .colab-df-quickchart {\n",
              "    background-color: var(--bg-color);\n",
              "    border: none;\n",
              "    border-radius: 50%;\n",
              "    cursor: pointer;\n",
              "    display: none;\n",
              "    fill: var(--fill-color);\n",
              "    height: 32px;\n",
              "    padding: 0;\n",
              "    width: 32px;\n",
              "  }\n",
              "\n",
              "  .colab-df-quickchart:hover {\n",
              "    background-color: var(--hover-bg-color);\n",
              "    box-shadow: 0 1px 2px rgba(60, 64, 67, 0.3), 0 1px 3px 1px rgba(60, 64, 67, 0.15);\n",
              "    fill: var(--button-hover-fill-color);\n",
              "  }\n",
              "\n",
              "  .colab-df-quickchart-complete:disabled,\n",
              "  .colab-df-quickchart-complete:disabled:hover {\n",
              "    background-color: var(--disabled-bg-color);\n",
              "    fill: var(--disabled-fill-color);\n",
              "    box-shadow: none;\n",
              "  }\n",
              "\n",
              "  .colab-df-spinner {\n",
              "    border: 2px solid var(--fill-color);\n",
              "    border-color: transparent;\n",
              "    border-bottom-color: var(--fill-color);\n",
              "    animation:\n",
              "      spin 1s steps(1) infinite;\n",
              "  }\n",
              "\n",
              "  @keyframes spin {\n",
              "    0% {\n",
              "      border-color: transparent;\n",
              "      border-bottom-color: var(--fill-color);\n",
              "      border-left-color: var(--fill-color);\n",
              "    }\n",
              "    20% {\n",
              "      border-color: transparent;\n",
              "      border-left-color: var(--fill-color);\n",
              "      border-top-color: var(--fill-color);\n",
              "    }\n",
              "    30% {\n",
              "      border-color: transparent;\n",
              "      border-left-color: var(--fill-color);\n",
              "      border-top-color: var(--fill-color);\n",
              "      border-right-color: var(--fill-color);\n",
              "    }\n",
              "    40% {\n",
              "      border-color: transparent;\n",
              "      border-right-color: var(--fill-color);\n",
              "      border-top-color: var(--fill-color);\n",
              "    }\n",
              "    60% {\n",
              "      border-color: transparent;\n",
              "      border-right-color: var(--fill-color);\n",
              "    }\n",
              "    80% {\n",
              "      border-color: transparent;\n",
              "      border-right-color: var(--fill-color);\n",
              "      border-bottom-color: var(--fill-color);\n",
              "    }\n",
              "    90% {\n",
              "      border-color: transparent;\n",
              "      border-bottom-color: var(--fill-color);\n",
              "    }\n",
              "  }\n",
              "</style>\n",
              "\n",
              "  <script>\n",
              "    async function quickchart(key) {\n",
              "      const quickchartButtonEl =\n",
              "        document.querySelector('#' + key + ' button');\n",
              "      quickchartButtonEl.disabled = true;  // To prevent multiple clicks.\n",
              "      quickchartButtonEl.classList.add('colab-df-spinner');\n",
              "      try {\n",
              "        const charts = await google.colab.kernel.invokeFunction(\n",
              "            'suggestCharts', [key], {});\n",
              "      } catch (error) {\n",
              "        console.error('Error during call to suggestCharts:', error);\n",
              "      }\n",
              "      quickchartButtonEl.classList.remove('colab-df-spinner');\n",
              "      quickchartButtonEl.classList.add('colab-df-quickchart-complete');\n",
              "    }\n",
              "    (() => {\n",
              "      let quickchartButtonEl =\n",
              "        document.querySelector('#df-ff6b4364-6757-4c04-9bae-6393314a0b56 button');\n",
              "      quickchartButtonEl.style.display =\n",
              "        google.colab.kernel.accessAllowed ? 'block' : 'none';\n",
              "    })();\n",
              "  </script>\n",
              "</div>\n",
              "\n",
              "    </div>\n",
              "  </div>\n"
            ],
            "application/vnd.google.colaboratory.intrinsic+json": {
              "type": "dataframe",
              "variable_name": "news",
              "summary": "{\n  \"name\": \"news\",\n  \"rows\": 55104,\n  \"fields\": [\n    {\n      \"column\": \"Headline\",\n      \"properties\": {\n        \"dtype\": \"string\",\n        \"num_unique_values\": 54940,\n        \"samples\": [\n          \"Happy to be back with Salman for Tiger Zinda Hai: Kaif\",\n          \" Lawsuit claims Oculus Co-founder spread fake origin story\",\n          \"Gambhir only Indian to make 100s in 5 straight Tests\"\n        ],\n        \"semantic_type\": \"\",\n        \"description\": \"\"\n      }\n    },\n    {\n      \"column\": \"Short\",\n      \"properties\": {\n        \"dtype\": \"string\",\n        \"num_unique_values\": 54997,\n        \"samples\": [\n          \"An Australian couple who own a tropical island resort in Micronesia has decided to give it away in lottery rather than sell it to the highest bidder. The lottery kicked off in April, and so far 55,500 people from 150 countries have bought tickets which start from $49. The lottery for the 16-bed resort will be drawn on Tuesday.\",\n          \"Over 200 rail accidents out of 292, from 2012-13 to January 2016, were caused due to the failure of railway staff as per the data of the Railway Ministry. The data suggested that action was being taken against 542 employees for their negligence and penalties were imposed in over 500 cases based on investigations by Commission of Railway Safety (CRS).\",\n          \"A 1400-km long optical fibre cable has been built connecting the two most precise optical atomic clocks in Europe, located in Germany and France. This marks the first and most accurate comparison of atomic clocks across national borders, a feat that may allow time-sensitive scientific experiments like observing changes in the values of fundamental physical constants over time.\"\n        ],\n        \"semantic_type\": \"\",\n        \"description\": \"\"\n      }\n    },\n    {\n      \"column\": \"Source \",\n      \"properties\": {\n        \"dtype\": \"category\",\n        \"num_unique_values\": 1471,\n        \"samples\": [\n          \"RTI ratings\",\n          \"Wakehealth\",\n          \"Human Rights Watch\"\n        ],\n        \"semantic_type\": \"\",\n        \"description\": \"\"\n      }\n    },\n    {\n      \"column\": \"Time \",\n      \"properties\": {\n        \"dtype\": \"category\",\n        \"num_unique_values\": 1405,\n        \"samples\": [\n          \"03:03:00\",\n          \"16:04:00\",\n          \"15:18:00\"\n        ],\n        \"semantic_type\": \"\",\n        \"description\": \"\"\n      }\n    },\n    {\n      \"column\": \"Publish Date\",\n      \"properties\": {\n        \"dtype\": \"date\",\n        \"min\": \"2016-01-19 00:00:00\",\n        \"max\": \"2017-03-26 00:00:00\",\n        \"num_unique_values\": 433,\n        \"samples\": [\n          \"2016-01-26 00:00:00\",\n          \"2017-01-10 00:00:00\",\n          \"2016-09-26 00:00:00\"\n        ],\n        \"semantic_type\": \"\",\n        \"description\": \"\"\n      }\n    }\n  ]\n}"
            }
          },
          "metadata": {},
          "execution_count": 8
        }
      ]
    },
    {
      "cell_type": "code",
      "source": [
        "news_article_len = pd.Series([len(x) for x in news['Short']])\n",
        "news_summary_len = pd.Series([len(x) for x in news['Headline']])"
      ],
      "metadata": {
        "id": "_iOxBNiGjBJ9"
      },
      "execution_count": 9,
      "outputs": []
    },
    {
      "cell_type": "code",
      "source": [
        "news_article_len.describe()"
      ],
      "metadata": {
        "colab": {
          "base_uri": "https://localhost:8080/",
          "height": 335
        },
        "id": "0hvakv5sjS3d",
        "outputId": "ac869ef8-0c63-4a85-b143-59d3b3df5e4a"
      },
      "execution_count": 10,
      "outputs": [
        {
          "output_type": "execute_result",
          "data": {
            "text/plain": [
              "count    55104.000000\n",
              "mean       368.003049\n",
              "std         26.235510\n",
              "min        280.000000\n",
              "25%        350.000000\n",
              "50%        369.000000\n",
              "75%        387.000000\n",
              "max        469.000000\n",
              "dtype: float64"
            ],
            "text/html": [
              "<div>\n",
              "<style scoped>\n",
              "    .dataframe tbody tr th:only-of-type {\n",
              "        vertical-align: middle;\n",
              "    }\n",
              "\n",
              "    .dataframe tbody tr th {\n",
              "        vertical-align: top;\n",
              "    }\n",
              "\n",
              "    .dataframe thead th {\n",
              "        text-align: right;\n",
              "    }\n",
              "</style>\n",
              "<table border=\"1\" class=\"dataframe\">\n",
              "  <thead>\n",
              "    <tr style=\"text-align: right;\">\n",
              "      <th></th>\n",
              "      <th>0</th>\n",
              "    </tr>\n",
              "  </thead>\n",
              "  <tbody>\n",
              "    <tr>\n",
              "      <th>count</th>\n",
              "      <td>55104.000000</td>\n",
              "    </tr>\n",
              "    <tr>\n",
              "      <th>mean</th>\n",
              "      <td>368.003049</td>\n",
              "    </tr>\n",
              "    <tr>\n",
              "      <th>std</th>\n",
              "      <td>26.235510</td>\n",
              "    </tr>\n",
              "    <tr>\n",
              "      <th>min</th>\n",
              "      <td>280.000000</td>\n",
              "    </tr>\n",
              "    <tr>\n",
              "      <th>25%</th>\n",
              "      <td>350.000000</td>\n",
              "    </tr>\n",
              "    <tr>\n",
              "      <th>50%</th>\n",
              "      <td>369.000000</td>\n",
              "    </tr>\n",
              "    <tr>\n",
              "      <th>75%</th>\n",
              "      <td>387.000000</td>\n",
              "    </tr>\n",
              "    <tr>\n",
              "      <th>max</th>\n",
              "      <td>469.000000</td>\n",
              "    </tr>\n",
              "  </tbody>\n",
              "</table>\n",
              "</div><br><label><b>dtype:</b> float64</label>"
            ]
          },
          "metadata": {},
          "execution_count": 10
        }
      ]
    },
    {
      "cell_type": "code",
      "source": [
        "news_summary_len.describe()"
      ],
      "metadata": {
        "colab": {
          "base_uri": "https://localhost:8080/",
          "height": 335
        },
        "id": "pMVXqxrZjUmI",
        "outputId": "988719f1-1901-40cf-f183-07d342e847ae"
      },
      "execution_count": 11,
      "outputs": [
        {
          "output_type": "execute_result",
          "data": {
            "text/plain": [
              "count    55104.000000\n",
              "mean        51.620282\n",
              "std          7.267463\n",
              "min          8.000000\n",
              "25%         47.000000\n",
              "50%         51.000000\n",
              "75%         57.000000\n",
              "max         84.000000\n",
              "dtype: float64"
            ],
            "text/html": [
              "<div>\n",
              "<style scoped>\n",
              "    .dataframe tbody tr th:only-of-type {\n",
              "        vertical-align: middle;\n",
              "    }\n",
              "\n",
              "    .dataframe tbody tr th {\n",
              "        vertical-align: top;\n",
              "    }\n",
              "\n",
              "    .dataframe thead th {\n",
              "        text-align: right;\n",
              "    }\n",
              "</style>\n",
              "<table border=\"1\" class=\"dataframe\">\n",
              "  <thead>\n",
              "    <tr style=\"text-align: right;\">\n",
              "      <th></th>\n",
              "      <th>0</th>\n",
              "    </tr>\n",
              "  </thead>\n",
              "  <tbody>\n",
              "    <tr>\n",
              "      <th>count</th>\n",
              "      <td>55104.000000</td>\n",
              "    </tr>\n",
              "    <tr>\n",
              "      <th>mean</th>\n",
              "      <td>51.620282</td>\n",
              "    </tr>\n",
              "    <tr>\n",
              "      <th>std</th>\n",
              "      <td>7.267463</td>\n",
              "    </tr>\n",
              "    <tr>\n",
              "      <th>min</th>\n",
              "      <td>8.000000</td>\n",
              "    </tr>\n",
              "    <tr>\n",
              "      <th>25%</th>\n",
              "      <td>47.000000</td>\n",
              "    </tr>\n",
              "    <tr>\n",
              "      <th>50%</th>\n",
              "      <td>51.000000</td>\n",
              "    </tr>\n",
              "    <tr>\n",
              "      <th>75%</th>\n",
              "      <td>57.000000</td>\n",
              "    </tr>\n",
              "    <tr>\n",
              "      <th>max</th>\n",
              "      <td>84.000000</td>\n",
              "    </tr>\n",
              "  </tbody>\n",
              "</table>\n",
              "</div><br><label><b>dtype:</b> float64</label>"
            ]
          },
          "metadata": {},
          "execution_count": 11
        }
      ]
    },
    {
      "cell_type": "code",
      "source": [
        "news.drop(['Source ', 'Time ', 'Publish Date'], axis=1, inplace=True)\n",
        "news.head()"
      ],
      "metadata": {
        "colab": {
          "base_uri": "https://localhost:8080/",
          "height": 206
        },
        "id": "XeUy0f71pD1v",
        "outputId": "d0d69ddb-abce-4632-9efa-bc0abb96e872"
      },
      "execution_count": 13,
      "outputs": [
        {
          "output_type": "execute_result",
          "data": {
            "text/plain": [
              "                                            Headline  \\\n",
              "0  4 ex-bank officials booked for cheating bank o...   \n",
              "1     Supreme Court to go paperless in 6 months: CJI   \n",
              "2  At least 3 killed, 30 injured in blast in Sylh...   \n",
              "3  Why has Reliance been barred from trading in f...   \n",
              "4  Was stopped from entering my own studio at Tim...   \n",
              "\n",
              "                                               Short  \n",
              "0  The CBI on Saturday booked four former officia...  \n",
              "1  Chief Justice JS Khehar has said the Supreme C...  \n",
              "2  At least three people were killed, including a...  \n",
              "3  Mukesh Ambani-led Reliance Industries (RIL) wa...  \n",
              "4  TV news anchor Arnab Goswami has said he was t...  "
            ],
            "text/html": [
              "\n",
              "  <div id=\"df-52994bc6-af35-4a8f-ae9d-7c22b37159fe\" class=\"colab-df-container\">\n",
              "    <div>\n",
              "<style scoped>\n",
              "    .dataframe tbody tr th:only-of-type {\n",
              "        vertical-align: middle;\n",
              "    }\n",
              "\n",
              "    .dataframe tbody tr th {\n",
              "        vertical-align: top;\n",
              "    }\n",
              "\n",
              "    .dataframe thead th {\n",
              "        text-align: right;\n",
              "    }\n",
              "</style>\n",
              "<table border=\"1\" class=\"dataframe\">\n",
              "  <thead>\n",
              "    <tr style=\"text-align: right;\">\n",
              "      <th></th>\n",
              "      <th>Headline</th>\n",
              "      <th>Short</th>\n",
              "    </tr>\n",
              "  </thead>\n",
              "  <tbody>\n",
              "    <tr>\n",
              "      <th>0</th>\n",
              "      <td>4 ex-bank officials booked for cheating bank o...</td>\n",
              "      <td>The CBI on Saturday booked four former officia...</td>\n",
              "    </tr>\n",
              "    <tr>\n",
              "      <th>1</th>\n",
              "      <td>Supreme Court to go paperless in 6 months: CJI</td>\n",
              "      <td>Chief Justice JS Khehar has said the Supreme C...</td>\n",
              "    </tr>\n",
              "    <tr>\n",
              "      <th>2</th>\n",
              "      <td>At least 3 killed, 30 injured in blast in Sylh...</td>\n",
              "      <td>At least three people were killed, including a...</td>\n",
              "    </tr>\n",
              "    <tr>\n",
              "      <th>3</th>\n",
              "      <td>Why has Reliance been barred from trading in f...</td>\n",
              "      <td>Mukesh Ambani-led Reliance Industries (RIL) wa...</td>\n",
              "    </tr>\n",
              "    <tr>\n",
              "      <th>4</th>\n",
              "      <td>Was stopped from entering my own studio at Tim...</td>\n",
              "      <td>TV news anchor Arnab Goswami has said he was t...</td>\n",
              "    </tr>\n",
              "  </tbody>\n",
              "</table>\n",
              "</div>\n",
              "    <div class=\"colab-df-buttons\">\n",
              "\n",
              "  <div class=\"colab-df-container\">\n",
              "    <button class=\"colab-df-convert\" onclick=\"convertToInteractive('df-52994bc6-af35-4a8f-ae9d-7c22b37159fe')\"\n",
              "            title=\"Convert this dataframe to an interactive table.\"\n",
              "            style=\"display:none;\">\n",
              "\n",
              "  <svg xmlns=\"http://www.w3.org/2000/svg\" height=\"24px\" viewBox=\"0 -960 960 960\">\n",
              "    <path d=\"M120-120v-720h720v720H120Zm60-500h600v-160H180v160Zm220 220h160v-160H400v160Zm0 220h160v-160H400v160ZM180-400h160v-160H180v160Zm440 0h160v-160H620v160ZM180-180h160v-160H180v160Zm440 0h160v-160H620v160Z\"/>\n",
              "  </svg>\n",
              "    </button>\n",
              "\n",
              "  <style>\n",
              "    .colab-df-container {\n",
              "      display:flex;\n",
              "      gap: 12px;\n",
              "    }\n",
              "\n",
              "    .colab-df-convert {\n",
              "      background-color: #E8F0FE;\n",
              "      border: none;\n",
              "      border-radius: 50%;\n",
              "      cursor: pointer;\n",
              "      display: none;\n",
              "      fill: #1967D2;\n",
              "      height: 32px;\n",
              "      padding: 0 0 0 0;\n",
              "      width: 32px;\n",
              "    }\n",
              "\n",
              "    .colab-df-convert:hover {\n",
              "      background-color: #E2EBFA;\n",
              "      box-shadow: 0px 1px 2px rgba(60, 64, 67, 0.3), 0px 1px 3px 1px rgba(60, 64, 67, 0.15);\n",
              "      fill: #174EA6;\n",
              "    }\n",
              "\n",
              "    .colab-df-buttons div {\n",
              "      margin-bottom: 4px;\n",
              "    }\n",
              "\n",
              "    [theme=dark] .colab-df-convert {\n",
              "      background-color: #3B4455;\n",
              "      fill: #D2E3FC;\n",
              "    }\n",
              "\n",
              "    [theme=dark] .colab-df-convert:hover {\n",
              "      background-color: #434B5C;\n",
              "      box-shadow: 0px 1px 3px 1px rgba(0, 0, 0, 0.15);\n",
              "      filter: drop-shadow(0px 1px 2px rgba(0, 0, 0, 0.3));\n",
              "      fill: #FFFFFF;\n",
              "    }\n",
              "  </style>\n",
              "\n",
              "    <script>\n",
              "      const buttonEl =\n",
              "        document.querySelector('#df-52994bc6-af35-4a8f-ae9d-7c22b37159fe button.colab-df-convert');\n",
              "      buttonEl.style.display =\n",
              "        google.colab.kernel.accessAllowed ? 'block' : 'none';\n",
              "\n",
              "      async function convertToInteractive(key) {\n",
              "        const element = document.querySelector('#df-52994bc6-af35-4a8f-ae9d-7c22b37159fe');\n",
              "        const dataTable =\n",
              "          await google.colab.kernel.invokeFunction('convertToInteractive',\n",
              "                                                    [key], {});\n",
              "        if (!dataTable) return;\n",
              "\n",
              "        const docLinkHtml = 'Like what you see? Visit the ' +\n",
              "          '<a target=\"_blank\" href=https://colab.research.google.com/notebooks/data_table.ipynb>data table notebook</a>'\n",
              "          + ' to learn more about interactive tables.';\n",
              "        element.innerHTML = '';\n",
              "        dataTable['output_type'] = 'display_data';\n",
              "        await google.colab.output.renderOutput(dataTable, element);\n",
              "        const docLink = document.createElement('div');\n",
              "        docLink.innerHTML = docLinkHtml;\n",
              "        element.appendChild(docLink);\n",
              "      }\n",
              "    </script>\n",
              "  </div>\n",
              "\n",
              "\n",
              "<div id=\"df-81b26ce9-5fe9-4177-be31-c6bb3854ea85\">\n",
              "  <button class=\"colab-df-quickchart\" onclick=\"quickchart('df-81b26ce9-5fe9-4177-be31-c6bb3854ea85')\"\n",
              "            title=\"Suggest charts\"\n",
              "            style=\"display:none;\">\n",
              "\n",
              "<svg xmlns=\"http://www.w3.org/2000/svg\" height=\"24px\"viewBox=\"0 0 24 24\"\n",
              "     width=\"24px\">\n",
              "    <g>\n",
              "        <path d=\"M19 3H5c-1.1 0-2 .9-2 2v14c0 1.1.9 2 2 2h14c1.1 0 2-.9 2-2V5c0-1.1-.9-2-2-2zM9 17H7v-7h2v7zm4 0h-2V7h2v10zm4 0h-2v-4h2v4z\"/>\n",
              "    </g>\n",
              "</svg>\n",
              "  </button>\n",
              "\n",
              "<style>\n",
              "  .colab-df-quickchart {\n",
              "      --bg-color: #E8F0FE;\n",
              "      --fill-color: #1967D2;\n",
              "      --hover-bg-color: #E2EBFA;\n",
              "      --hover-fill-color: #174EA6;\n",
              "      --disabled-fill-color: #AAA;\n",
              "      --disabled-bg-color: #DDD;\n",
              "  }\n",
              "\n",
              "  [theme=dark] .colab-df-quickchart {\n",
              "      --bg-color: #3B4455;\n",
              "      --fill-color: #D2E3FC;\n",
              "      --hover-bg-color: #434B5C;\n",
              "      --hover-fill-color: #FFFFFF;\n",
              "      --disabled-bg-color: #3B4455;\n",
              "      --disabled-fill-color: #666;\n",
              "  }\n",
              "\n",
              "  .colab-df-quickchart {\n",
              "    background-color: var(--bg-color);\n",
              "    border: none;\n",
              "    border-radius: 50%;\n",
              "    cursor: pointer;\n",
              "    display: none;\n",
              "    fill: var(--fill-color);\n",
              "    height: 32px;\n",
              "    padding: 0;\n",
              "    width: 32px;\n",
              "  }\n",
              "\n",
              "  .colab-df-quickchart:hover {\n",
              "    background-color: var(--hover-bg-color);\n",
              "    box-shadow: 0 1px 2px rgba(60, 64, 67, 0.3), 0 1px 3px 1px rgba(60, 64, 67, 0.15);\n",
              "    fill: var(--button-hover-fill-color);\n",
              "  }\n",
              "\n",
              "  .colab-df-quickchart-complete:disabled,\n",
              "  .colab-df-quickchart-complete:disabled:hover {\n",
              "    background-color: var(--disabled-bg-color);\n",
              "    fill: var(--disabled-fill-color);\n",
              "    box-shadow: none;\n",
              "  }\n",
              "\n",
              "  .colab-df-spinner {\n",
              "    border: 2px solid var(--fill-color);\n",
              "    border-color: transparent;\n",
              "    border-bottom-color: var(--fill-color);\n",
              "    animation:\n",
              "      spin 1s steps(1) infinite;\n",
              "  }\n",
              "\n",
              "  @keyframes spin {\n",
              "    0% {\n",
              "      border-color: transparent;\n",
              "      border-bottom-color: var(--fill-color);\n",
              "      border-left-color: var(--fill-color);\n",
              "    }\n",
              "    20% {\n",
              "      border-color: transparent;\n",
              "      border-left-color: var(--fill-color);\n",
              "      border-top-color: var(--fill-color);\n",
              "    }\n",
              "    30% {\n",
              "      border-color: transparent;\n",
              "      border-left-color: var(--fill-color);\n",
              "      border-top-color: var(--fill-color);\n",
              "      border-right-color: var(--fill-color);\n",
              "    }\n",
              "    40% {\n",
              "      border-color: transparent;\n",
              "      border-right-color: var(--fill-color);\n",
              "      border-top-color: var(--fill-color);\n",
              "    }\n",
              "    60% {\n",
              "      border-color: transparent;\n",
              "      border-right-color: var(--fill-color);\n",
              "    }\n",
              "    80% {\n",
              "      border-color: transparent;\n",
              "      border-right-color: var(--fill-color);\n",
              "      border-bottom-color: var(--fill-color);\n",
              "    }\n",
              "    90% {\n",
              "      border-color: transparent;\n",
              "      border-bottom-color: var(--fill-color);\n",
              "    }\n",
              "  }\n",
              "</style>\n",
              "\n",
              "  <script>\n",
              "    async function quickchart(key) {\n",
              "      const quickchartButtonEl =\n",
              "        document.querySelector('#' + key + ' button');\n",
              "      quickchartButtonEl.disabled = true;  // To prevent multiple clicks.\n",
              "      quickchartButtonEl.classList.add('colab-df-spinner');\n",
              "      try {\n",
              "        const charts = await google.colab.kernel.invokeFunction(\n",
              "            'suggestCharts', [key], {});\n",
              "      } catch (error) {\n",
              "        console.error('Error during call to suggestCharts:', error);\n",
              "      }\n",
              "      quickchartButtonEl.classList.remove('colab-df-spinner');\n",
              "      quickchartButtonEl.classList.add('colab-df-quickchart-complete');\n",
              "    }\n",
              "    (() => {\n",
              "      let quickchartButtonEl =\n",
              "        document.querySelector('#df-81b26ce9-5fe9-4177-be31-c6bb3854ea85 button');\n",
              "      quickchartButtonEl.style.display =\n",
              "        google.colab.kernel.accessAllowed ? 'block' : 'none';\n",
              "    })();\n",
              "  </script>\n",
              "</div>\n",
              "\n",
              "    </div>\n",
              "  </div>\n"
            ],
            "application/vnd.google.colaboratory.intrinsic+json": {
              "type": "dataframe",
              "variable_name": "news",
              "summary": "{\n  \"name\": \"news\",\n  \"rows\": 55104,\n  \"fields\": [\n    {\n      \"column\": \"Headline\",\n      \"properties\": {\n        \"dtype\": \"string\",\n        \"num_unique_values\": 54940,\n        \"samples\": [\n          \"Happy to be back with Salman for Tiger Zinda Hai: Kaif\",\n          \" Lawsuit claims Oculus Co-founder spread fake origin story\",\n          \"Gambhir only Indian to make 100s in 5 straight Tests\"\n        ],\n        \"semantic_type\": \"\",\n        \"description\": \"\"\n      }\n    },\n    {\n      \"column\": \"Short\",\n      \"properties\": {\n        \"dtype\": \"string\",\n        \"num_unique_values\": 54997,\n        \"samples\": [\n          \"An Australian couple who own a tropical island resort in Micronesia has decided to give it away in lottery rather than sell it to the highest bidder. The lottery kicked off in April, and so far 55,500 people from 150 countries have bought tickets which start from $49. The lottery for the 16-bed resort will be drawn on Tuesday.\",\n          \"Over 200 rail accidents out of 292, from 2012-13 to January 2016, were caused due to the failure of railway staff as per the data of the Railway Ministry. The data suggested that action was being taken against 542 employees for their negligence and penalties were imposed in over 500 cases based on investigations by Commission of Railway Safety (CRS).\",\n          \"A 1400-km long optical fibre cable has been built connecting the two most precise optical atomic clocks in Europe, located in Germany and France. This marks the first and most accurate comparison of atomic clocks across national borders, a feat that may allow time-sensitive scientific experiments like observing changes in the values of fundamental physical constants over time.\"\n        ],\n        \"semantic_type\": \"\",\n        \"description\": \"\"\n      }\n    }\n  ]\n}"
            }
          },
          "metadata": {},
          "execution_count": 13
        }
      ]
    },
    {
      "cell_type": "code",
      "source": [
        "duc_columns = duc.columns.tolist()\n",
        "duc_columns.remove('text')\n",
        "duc_columns.remove('summary1')\n",
        "duc.drop(duc_columns, axis='columns', inplace=True)\n"
      ],
      "metadata": {
        "execution": {
          "iopub.status.busy": "2022-11-08T11:38:13.254102Z",
          "iopub.execute_input": "2022-11-08T11:38:13.254453Z",
          "iopub.status.idle": "2022-11-08T11:38:13.260026Z",
          "shell.execute_reply.started": "2022-11-08T11:38:13.254416Z",
          "shell.execute_reply": "2022-11-08T11:38:13.259039Z"
        },
        "trusted": true,
        "id": "n2H3F4LJ044C"
      },
      "execution_count": 14,
      "outputs": []
    },
    {
      "cell_type": "code",
      "source": [
        "duc"
      ],
      "metadata": {
        "execution": {
          "iopub.status.busy": "2022-11-08T11:38:13.262075Z",
          "iopub.execute_input": "2022-11-08T11:38:13.262530Z",
          "iopub.status.idle": "2022-11-08T11:38:13.277886Z",
          "shell.execute_reply.started": "2022-11-08T11:38:13.262493Z",
          "shell.execute_reply": "2022-11-08T11:38:13.276935Z"
        },
        "trusted": true,
        "colab": {
          "base_uri": "https://localhost:8080/",
          "height": 423
        },
        "id": "-LX4lTcb044D",
        "outputId": "91a02401-1f78-409b-e9b0-0154c69600ce"
      },
      "execution_count": 15,
      "outputs": [
        {
          "output_type": "execute_result",
          "data": {
            "text/plain": [
              "                                                  text  \\\n",
              "0    cambodian leader hun sen on friday rejected op...   \n",
              "1    king norodom sihanouk has declined requests to...   \n",
              "2    cambodia 's two-party opposition asked the asi...   \n",
              "3    cambodia 's ruling party responded tuesday to ...   \n",
              "4    cambodia 's leading opposition party ruled out...   \n",
              "..                                                 ...   \n",
              "495  german foreign minister joschka fischer , who ...   \n",
              "496  the trials of three outspoken dissidents over ...   \n",
              "497  his friend and political mentor is jailed , ro...   \n",
              "498  by sentencing two of the country 's most promi...   \n",
              "499  six months after president clinton traveled to...   \n",
              "\n",
              "                                              summary1  \n",
              "0    Cambodian government rejects opposition's call...  \n",
              "1    Sihanouk refuses to chair Cambodian political ...  \n",
              "2    Opposition asks end to loans to \"illegal\" Camb...  \n",
              "3    Cambodian party defends leader Hun Sen against...  \n",
              "4    Cambodian party rejects government offer to sh...  \n",
              "..                                                 ...  \n",
              "495  German Foreign Minister says China's arrest of...  \n",
              "496  President Jiang vows to crush any challenges t...  \n",
              "497  China Democracy Party vows to campaign for cha...  \n",
              "498  China's arrest of dissidents could destroy Chi...  \n",
              "499  U.S. policy of trade and diplomacy for democra...  \n",
              "\n",
              "[500 rows x 2 columns]"
            ],
            "text/html": [
              "\n",
              "  <div id=\"df-700e3308-f5d5-4987-8c7c-b26acfc25e82\" class=\"colab-df-container\">\n",
              "    <div>\n",
              "<style scoped>\n",
              "    .dataframe tbody tr th:only-of-type {\n",
              "        vertical-align: middle;\n",
              "    }\n",
              "\n",
              "    .dataframe tbody tr th {\n",
              "        vertical-align: top;\n",
              "    }\n",
              "\n",
              "    .dataframe thead th {\n",
              "        text-align: right;\n",
              "    }\n",
              "</style>\n",
              "<table border=\"1\" class=\"dataframe\">\n",
              "  <thead>\n",
              "    <tr style=\"text-align: right;\">\n",
              "      <th></th>\n",
              "      <th>text</th>\n",
              "      <th>summary1</th>\n",
              "    </tr>\n",
              "  </thead>\n",
              "  <tbody>\n",
              "    <tr>\n",
              "      <th>0</th>\n",
              "      <td>cambodian leader hun sen on friday rejected op...</td>\n",
              "      <td>Cambodian government rejects opposition's call...</td>\n",
              "    </tr>\n",
              "    <tr>\n",
              "      <th>1</th>\n",
              "      <td>king norodom sihanouk has declined requests to...</td>\n",
              "      <td>Sihanouk refuses to chair Cambodian political ...</td>\n",
              "    </tr>\n",
              "    <tr>\n",
              "      <th>2</th>\n",
              "      <td>cambodia 's two-party opposition asked the asi...</td>\n",
              "      <td>Opposition asks end to loans to \"illegal\" Camb...</td>\n",
              "    </tr>\n",
              "    <tr>\n",
              "      <th>3</th>\n",
              "      <td>cambodia 's ruling party responded tuesday to ...</td>\n",
              "      <td>Cambodian party defends leader Hun Sen against...</td>\n",
              "    </tr>\n",
              "    <tr>\n",
              "      <th>4</th>\n",
              "      <td>cambodia 's leading opposition party ruled out...</td>\n",
              "      <td>Cambodian party rejects government offer to sh...</td>\n",
              "    </tr>\n",
              "    <tr>\n",
              "      <th>...</th>\n",
              "      <td>...</td>\n",
              "      <td>...</td>\n",
              "    </tr>\n",
              "    <tr>\n",
              "      <th>495</th>\n",
              "      <td>german foreign minister joschka fischer , who ...</td>\n",
              "      <td>German Foreign Minister says China's arrest of...</td>\n",
              "    </tr>\n",
              "    <tr>\n",
              "      <th>496</th>\n",
              "      <td>the trials of three outspoken dissidents over ...</td>\n",
              "      <td>President Jiang vows to crush any challenges t...</td>\n",
              "    </tr>\n",
              "    <tr>\n",
              "      <th>497</th>\n",
              "      <td>his friend and political mentor is jailed , ro...</td>\n",
              "      <td>China Democracy Party vows to campaign for cha...</td>\n",
              "    </tr>\n",
              "    <tr>\n",
              "      <th>498</th>\n",
              "      <td>by sentencing two of the country 's most promi...</td>\n",
              "      <td>China's arrest of dissidents could destroy Chi...</td>\n",
              "    </tr>\n",
              "    <tr>\n",
              "      <th>499</th>\n",
              "      <td>six months after president clinton traveled to...</td>\n",
              "      <td>U.S. policy of trade and diplomacy for democra...</td>\n",
              "    </tr>\n",
              "  </tbody>\n",
              "</table>\n",
              "<p>500 rows × 2 columns</p>\n",
              "</div>\n",
              "    <div class=\"colab-df-buttons\">\n",
              "\n",
              "  <div class=\"colab-df-container\">\n",
              "    <button class=\"colab-df-convert\" onclick=\"convertToInteractive('df-700e3308-f5d5-4987-8c7c-b26acfc25e82')\"\n",
              "            title=\"Convert this dataframe to an interactive table.\"\n",
              "            style=\"display:none;\">\n",
              "\n",
              "  <svg xmlns=\"http://www.w3.org/2000/svg\" height=\"24px\" viewBox=\"0 -960 960 960\">\n",
              "    <path d=\"M120-120v-720h720v720H120Zm60-500h600v-160H180v160Zm220 220h160v-160H400v160Zm0 220h160v-160H400v160ZM180-400h160v-160H180v160Zm440 0h160v-160H620v160ZM180-180h160v-160H180v160Zm440 0h160v-160H620v160Z\"/>\n",
              "  </svg>\n",
              "    </button>\n",
              "\n",
              "  <style>\n",
              "    .colab-df-container {\n",
              "      display:flex;\n",
              "      gap: 12px;\n",
              "    }\n",
              "\n",
              "    .colab-df-convert {\n",
              "      background-color: #E8F0FE;\n",
              "      border: none;\n",
              "      border-radius: 50%;\n",
              "      cursor: pointer;\n",
              "      display: none;\n",
              "      fill: #1967D2;\n",
              "      height: 32px;\n",
              "      padding: 0 0 0 0;\n",
              "      width: 32px;\n",
              "    }\n",
              "\n",
              "    .colab-df-convert:hover {\n",
              "      background-color: #E2EBFA;\n",
              "      box-shadow: 0px 1px 2px rgba(60, 64, 67, 0.3), 0px 1px 3px 1px rgba(60, 64, 67, 0.15);\n",
              "      fill: #174EA6;\n",
              "    }\n",
              "\n",
              "    .colab-df-buttons div {\n",
              "      margin-bottom: 4px;\n",
              "    }\n",
              "\n",
              "    [theme=dark] .colab-df-convert {\n",
              "      background-color: #3B4455;\n",
              "      fill: #D2E3FC;\n",
              "    }\n",
              "\n",
              "    [theme=dark] .colab-df-convert:hover {\n",
              "      background-color: #434B5C;\n",
              "      box-shadow: 0px 1px 3px 1px rgba(0, 0, 0, 0.15);\n",
              "      filter: drop-shadow(0px 1px 2px rgba(0, 0, 0, 0.3));\n",
              "      fill: #FFFFFF;\n",
              "    }\n",
              "  </style>\n",
              "\n",
              "    <script>\n",
              "      const buttonEl =\n",
              "        document.querySelector('#df-700e3308-f5d5-4987-8c7c-b26acfc25e82 button.colab-df-convert');\n",
              "      buttonEl.style.display =\n",
              "        google.colab.kernel.accessAllowed ? 'block' : 'none';\n",
              "\n",
              "      async function convertToInteractive(key) {\n",
              "        const element = document.querySelector('#df-700e3308-f5d5-4987-8c7c-b26acfc25e82');\n",
              "        const dataTable =\n",
              "          await google.colab.kernel.invokeFunction('convertToInteractive',\n",
              "                                                    [key], {});\n",
              "        if (!dataTable) return;\n",
              "\n",
              "        const docLinkHtml = 'Like what you see? Visit the ' +\n",
              "          '<a target=\"_blank\" href=https://colab.research.google.com/notebooks/data_table.ipynb>data table notebook</a>'\n",
              "          + ' to learn more about interactive tables.';\n",
              "        element.innerHTML = '';\n",
              "        dataTable['output_type'] = 'display_data';\n",
              "        await google.colab.output.renderOutput(dataTable, element);\n",
              "        const docLink = document.createElement('div');\n",
              "        docLink.innerHTML = docLinkHtml;\n",
              "        element.appendChild(docLink);\n",
              "      }\n",
              "    </script>\n",
              "  </div>\n",
              "\n",
              "\n",
              "<div id=\"df-ece0ace9-3845-4e87-99ac-fd0a607fc6d5\">\n",
              "  <button class=\"colab-df-quickchart\" onclick=\"quickchart('df-ece0ace9-3845-4e87-99ac-fd0a607fc6d5')\"\n",
              "            title=\"Suggest charts\"\n",
              "            style=\"display:none;\">\n",
              "\n",
              "<svg xmlns=\"http://www.w3.org/2000/svg\" height=\"24px\"viewBox=\"0 0 24 24\"\n",
              "     width=\"24px\">\n",
              "    <g>\n",
              "        <path d=\"M19 3H5c-1.1 0-2 .9-2 2v14c0 1.1.9 2 2 2h14c1.1 0 2-.9 2-2V5c0-1.1-.9-2-2-2zM9 17H7v-7h2v7zm4 0h-2V7h2v10zm4 0h-2v-4h2v4z\"/>\n",
              "    </g>\n",
              "</svg>\n",
              "  </button>\n",
              "\n",
              "<style>\n",
              "  .colab-df-quickchart {\n",
              "      --bg-color: #E8F0FE;\n",
              "      --fill-color: #1967D2;\n",
              "      --hover-bg-color: #E2EBFA;\n",
              "      --hover-fill-color: #174EA6;\n",
              "      --disabled-fill-color: #AAA;\n",
              "      --disabled-bg-color: #DDD;\n",
              "  }\n",
              "\n",
              "  [theme=dark] .colab-df-quickchart {\n",
              "      --bg-color: #3B4455;\n",
              "      --fill-color: #D2E3FC;\n",
              "      --hover-bg-color: #434B5C;\n",
              "      --hover-fill-color: #FFFFFF;\n",
              "      --disabled-bg-color: #3B4455;\n",
              "      --disabled-fill-color: #666;\n",
              "  }\n",
              "\n",
              "  .colab-df-quickchart {\n",
              "    background-color: var(--bg-color);\n",
              "    border: none;\n",
              "    border-radius: 50%;\n",
              "    cursor: pointer;\n",
              "    display: none;\n",
              "    fill: var(--fill-color);\n",
              "    height: 32px;\n",
              "    padding: 0;\n",
              "    width: 32px;\n",
              "  }\n",
              "\n",
              "  .colab-df-quickchart:hover {\n",
              "    background-color: var(--hover-bg-color);\n",
              "    box-shadow: 0 1px 2px rgba(60, 64, 67, 0.3), 0 1px 3px 1px rgba(60, 64, 67, 0.15);\n",
              "    fill: var(--button-hover-fill-color);\n",
              "  }\n",
              "\n",
              "  .colab-df-quickchart-complete:disabled,\n",
              "  .colab-df-quickchart-complete:disabled:hover {\n",
              "    background-color: var(--disabled-bg-color);\n",
              "    fill: var(--disabled-fill-color);\n",
              "    box-shadow: none;\n",
              "  }\n",
              "\n",
              "  .colab-df-spinner {\n",
              "    border: 2px solid var(--fill-color);\n",
              "    border-color: transparent;\n",
              "    border-bottom-color: var(--fill-color);\n",
              "    animation:\n",
              "      spin 1s steps(1) infinite;\n",
              "  }\n",
              "\n",
              "  @keyframes spin {\n",
              "    0% {\n",
              "      border-color: transparent;\n",
              "      border-bottom-color: var(--fill-color);\n",
              "      border-left-color: var(--fill-color);\n",
              "    }\n",
              "    20% {\n",
              "      border-color: transparent;\n",
              "      border-left-color: var(--fill-color);\n",
              "      border-top-color: var(--fill-color);\n",
              "    }\n",
              "    30% {\n",
              "      border-color: transparent;\n",
              "      border-left-color: var(--fill-color);\n",
              "      border-top-color: var(--fill-color);\n",
              "      border-right-color: var(--fill-color);\n",
              "    }\n",
              "    40% {\n",
              "      border-color: transparent;\n",
              "      border-right-color: var(--fill-color);\n",
              "      border-top-color: var(--fill-color);\n",
              "    }\n",
              "    60% {\n",
              "      border-color: transparent;\n",
              "      border-right-color: var(--fill-color);\n",
              "    }\n",
              "    80% {\n",
              "      border-color: transparent;\n",
              "      border-right-color: var(--fill-color);\n",
              "      border-bottom-color: var(--fill-color);\n",
              "    }\n",
              "    90% {\n",
              "      border-color: transparent;\n",
              "      border-bottom-color: var(--fill-color);\n",
              "    }\n",
              "  }\n",
              "</style>\n",
              "\n",
              "  <script>\n",
              "    async function quickchart(key) {\n",
              "      const quickchartButtonEl =\n",
              "        document.querySelector('#' + key + ' button');\n",
              "      quickchartButtonEl.disabled = true;  // To prevent multiple clicks.\n",
              "      quickchartButtonEl.classList.add('colab-df-spinner');\n",
              "      try {\n",
              "        const charts = await google.colab.kernel.invokeFunction(\n",
              "            'suggestCharts', [key], {});\n",
              "      } catch (error) {\n",
              "        console.error('Error during call to suggestCharts:', error);\n",
              "      }\n",
              "      quickchartButtonEl.classList.remove('colab-df-spinner');\n",
              "      quickchartButtonEl.classList.add('colab-df-quickchart-complete');\n",
              "    }\n",
              "    (() => {\n",
              "      let quickchartButtonEl =\n",
              "        document.querySelector('#df-ece0ace9-3845-4e87-99ac-fd0a607fc6d5 button');\n",
              "      quickchartButtonEl.style.display =\n",
              "        google.colab.kernel.accessAllowed ? 'block' : 'none';\n",
              "    })();\n",
              "  </script>\n",
              "</div>\n",
              "\n",
              "  <div id=\"id_7897dd94-8621-48d3-bfac-fd830a0d662e\">\n",
              "    <style>\n",
              "      .colab-df-generate {\n",
              "        background-color: #E8F0FE;\n",
              "        border: none;\n",
              "        border-radius: 50%;\n",
              "        cursor: pointer;\n",
              "        display: none;\n",
              "        fill: #1967D2;\n",
              "        height: 32px;\n",
              "        padding: 0 0 0 0;\n",
              "        width: 32px;\n",
              "      }\n",
              "\n",
              "      .colab-df-generate:hover {\n",
              "        background-color: #E2EBFA;\n",
              "        box-shadow: 0px 1px 2px rgba(60, 64, 67, 0.3), 0px 1px 3px 1px rgba(60, 64, 67, 0.15);\n",
              "        fill: #174EA6;\n",
              "      }\n",
              "\n",
              "      [theme=dark] .colab-df-generate {\n",
              "        background-color: #3B4455;\n",
              "        fill: #D2E3FC;\n",
              "      }\n",
              "\n",
              "      [theme=dark] .colab-df-generate:hover {\n",
              "        background-color: #434B5C;\n",
              "        box-shadow: 0px 1px 3px 1px rgba(0, 0, 0, 0.15);\n",
              "        filter: drop-shadow(0px 1px 2px rgba(0, 0, 0, 0.3));\n",
              "        fill: #FFFFFF;\n",
              "      }\n",
              "    </style>\n",
              "    <button class=\"colab-df-generate\" onclick=\"generateWithVariable('duc')\"\n",
              "            title=\"Generate code using this dataframe.\"\n",
              "            style=\"display:none;\">\n",
              "\n",
              "  <svg xmlns=\"http://www.w3.org/2000/svg\" height=\"24px\"viewBox=\"0 0 24 24\"\n",
              "       width=\"24px\">\n",
              "    <path d=\"M7,19H8.4L18.45,9,17,7.55,7,17.6ZM5,21V16.75L18.45,3.32a2,2,0,0,1,2.83,0l1.4,1.43a1.91,1.91,0,0,1,.58,1.4,1.91,1.91,0,0,1-.58,1.4L9.25,21ZM18.45,9,17,7.55Zm-12,3A5.31,5.31,0,0,0,4.9,8.1,5.31,5.31,0,0,0,1,6.5,5.31,5.31,0,0,0,4.9,4.9,5.31,5.31,0,0,0,6.5,1,5.31,5.31,0,0,0,8.1,4.9,5.31,5.31,0,0,0,12,6.5,5.46,5.46,0,0,0,6.5,12Z\"/>\n",
              "  </svg>\n",
              "    </button>\n",
              "    <script>\n",
              "      (() => {\n",
              "      const buttonEl =\n",
              "        document.querySelector('#id_7897dd94-8621-48d3-bfac-fd830a0d662e button.colab-df-generate');\n",
              "      buttonEl.style.display =\n",
              "        google.colab.kernel.accessAllowed ? 'block' : 'none';\n",
              "\n",
              "      buttonEl.onclick = () => {\n",
              "        google.colab.notebook.generateWithVariable('duc');\n",
              "      }\n",
              "      })();\n",
              "    </script>\n",
              "  </div>\n",
              "\n",
              "    </div>\n",
              "  </div>\n"
            ],
            "application/vnd.google.colaboratory.intrinsic+json": {
              "type": "dataframe",
              "variable_name": "duc",
              "summary": "{\n  \"name\": \"duc\",\n  \"rows\": 500,\n  \"fields\": [\n    {\n      \"column\": \"text\",\n      \"properties\": {\n        \"dtype\": \"string\",\n        \"num_unique_values\": 440,\n        \"samples\": [\n          \"two astronauts ventured back out on another spacewalk wednesday to attach antennas to the international space station under construction nearly 250 miles above earth .\\n\",\n          \"prime minister mahathir mohamad said friday he is not too choosy about who will be his successor , the man need not necessarily be very religious and only preoccupied with doing virtuous deeds at all times , the national news agency , bernama , quoted mahathir as saying after friday prayers at the al-falah mosque in the northern town of jitra in kedah state .\\n\",\n          \"the deal that south africa 's truth and reconciliation commission offered was simple enough : confess your crimes , apply for amnesty and you will go free .\\n\"\n        ],\n        \"semantic_type\": \"\",\n        \"description\": \"\"\n      }\n    },\n    {\n      \"column\": \"summary1\",\n      \"properties\": {\n        \"dtype\": \"string\",\n        \"num_unique_values\": 456,\n        \"samples\": [\n          \"President's next premier-designate likely to be widely trusted lawmaker.\\n\",\n          \"Former top bin Laden aide source of U.S. evidence on terrorists\\n\",\n          \"UN official held hostage freed unharmed; 3 kidnappers killed in operation.\\n\"\n        ],\n        \"semantic_type\": \"\",\n        \"description\": \"\"\n      }\n    }\n  ]\n}"
            }
          },
          "metadata": {},
          "execution_count": 15
        }
      ]
    },
    {
      "cell_type": "code",
      "source": [
        "duc.rename(columns = { 'summary1':'Headline','text':'Short'}, inplace = True)"
      ],
      "metadata": {
        "execution": {
          "iopub.status.busy": "2022-11-08T11:38:13.279514Z",
          "iopub.execute_input": "2022-11-08T11:38:13.279871Z",
          "iopub.status.idle": "2022-11-08T11:38:13.286476Z",
          "shell.execute_reply.started": "2022-11-08T11:38:13.279829Z",
          "shell.execute_reply": "2022-11-08T11:38:13.285742Z"
        },
        "trusted": true,
        "id": "750fAtcK044D"
      },
      "execution_count": 16,
      "outputs": []
    },
    {
      "cell_type": "code",
      "source": [
        "duc"
      ],
      "metadata": {
        "execution": {
          "iopub.status.busy": "2022-11-08T11:38:15.171248Z",
          "iopub.execute_input": "2022-11-08T11:38:15.171573Z",
          "iopub.status.idle": "2022-11-08T11:38:15.182507Z",
          "shell.execute_reply.started": "2022-11-08T11:38:15.171543Z",
          "shell.execute_reply": "2022-11-08T11:38:15.181685Z"
        },
        "trusted": true,
        "colab": {
          "base_uri": "https://localhost:8080/",
          "height": 423
        },
        "id": "H7yJHpU5044D",
        "outputId": "8f933ca8-c90e-4c83-e8e1-e05dd9692c2a"
      },
      "execution_count": 17,
      "outputs": [
        {
          "output_type": "execute_result",
          "data": {
            "text/plain": [
              "                                                 Short  \\\n",
              "0    cambodian leader hun sen on friday rejected op...   \n",
              "1    king norodom sihanouk has declined requests to...   \n",
              "2    cambodia 's two-party opposition asked the asi...   \n",
              "3    cambodia 's ruling party responded tuesday to ...   \n",
              "4    cambodia 's leading opposition party ruled out...   \n",
              "..                                                 ...   \n",
              "495  german foreign minister joschka fischer , who ...   \n",
              "496  the trials of three outspoken dissidents over ...   \n",
              "497  his friend and political mentor is jailed , ro...   \n",
              "498  by sentencing two of the country 's most promi...   \n",
              "499  six months after president clinton traveled to...   \n",
              "\n",
              "                                              Headline  \n",
              "0    Cambodian government rejects opposition's call...  \n",
              "1    Sihanouk refuses to chair Cambodian political ...  \n",
              "2    Opposition asks end to loans to \"illegal\" Camb...  \n",
              "3    Cambodian party defends leader Hun Sen against...  \n",
              "4    Cambodian party rejects government offer to sh...  \n",
              "..                                                 ...  \n",
              "495  German Foreign Minister says China's arrest of...  \n",
              "496  President Jiang vows to crush any challenges t...  \n",
              "497  China Democracy Party vows to campaign for cha...  \n",
              "498  China's arrest of dissidents could destroy Chi...  \n",
              "499  U.S. policy of trade and diplomacy for democra...  \n",
              "\n",
              "[500 rows x 2 columns]"
            ],
            "text/html": [
              "\n",
              "  <div id=\"df-7bd16448-5559-4a0a-81a1-cb23a8855a65\" class=\"colab-df-container\">\n",
              "    <div>\n",
              "<style scoped>\n",
              "    .dataframe tbody tr th:only-of-type {\n",
              "        vertical-align: middle;\n",
              "    }\n",
              "\n",
              "    .dataframe tbody tr th {\n",
              "        vertical-align: top;\n",
              "    }\n",
              "\n",
              "    .dataframe thead th {\n",
              "        text-align: right;\n",
              "    }\n",
              "</style>\n",
              "<table border=\"1\" class=\"dataframe\">\n",
              "  <thead>\n",
              "    <tr style=\"text-align: right;\">\n",
              "      <th></th>\n",
              "      <th>Short</th>\n",
              "      <th>Headline</th>\n",
              "    </tr>\n",
              "  </thead>\n",
              "  <tbody>\n",
              "    <tr>\n",
              "      <th>0</th>\n",
              "      <td>cambodian leader hun sen on friday rejected op...</td>\n",
              "      <td>Cambodian government rejects opposition's call...</td>\n",
              "    </tr>\n",
              "    <tr>\n",
              "      <th>1</th>\n",
              "      <td>king norodom sihanouk has declined requests to...</td>\n",
              "      <td>Sihanouk refuses to chair Cambodian political ...</td>\n",
              "    </tr>\n",
              "    <tr>\n",
              "      <th>2</th>\n",
              "      <td>cambodia 's two-party opposition asked the asi...</td>\n",
              "      <td>Opposition asks end to loans to \"illegal\" Camb...</td>\n",
              "    </tr>\n",
              "    <tr>\n",
              "      <th>3</th>\n",
              "      <td>cambodia 's ruling party responded tuesday to ...</td>\n",
              "      <td>Cambodian party defends leader Hun Sen against...</td>\n",
              "    </tr>\n",
              "    <tr>\n",
              "      <th>4</th>\n",
              "      <td>cambodia 's leading opposition party ruled out...</td>\n",
              "      <td>Cambodian party rejects government offer to sh...</td>\n",
              "    </tr>\n",
              "    <tr>\n",
              "      <th>...</th>\n",
              "      <td>...</td>\n",
              "      <td>...</td>\n",
              "    </tr>\n",
              "    <tr>\n",
              "      <th>495</th>\n",
              "      <td>german foreign minister joschka fischer , who ...</td>\n",
              "      <td>German Foreign Minister says China's arrest of...</td>\n",
              "    </tr>\n",
              "    <tr>\n",
              "      <th>496</th>\n",
              "      <td>the trials of three outspoken dissidents over ...</td>\n",
              "      <td>President Jiang vows to crush any challenges t...</td>\n",
              "    </tr>\n",
              "    <tr>\n",
              "      <th>497</th>\n",
              "      <td>his friend and political mentor is jailed , ro...</td>\n",
              "      <td>China Democracy Party vows to campaign for cha...</td>\n",
              "    </tr>\n",
              "    <tr>\n",
              "      <th>498</th>\n",
              "      <td>by sentencing two of the country 's most promi...</td>\n",
              "      <td>China's arrest of dissidents could destroy Chi...</td>\n",
              "    </tr>\n",
              "    <tr>\n",
              "      <th>499</th>\n",
              "      <td>six months after president clinton traveled to...</td>\n",
              "      <td>U.S. policy of trade and diplomacy for democra...</td>\n",
              "    </tr>\n",
              "  </tbody>\n",
              "</table>\n",
              "<p>500 rows × 2 columns</p>\n",
              "</div>\n",
              "    <div class=\"colab-df-buttons\">\n",
              "\n",
              "  <div class=\"colab-df-container\">\n",
              "    <button class=\"colab-df-convert\" onclick=\"convertToInteractive('df-7bd16448-5559-4a0a-81a1-cb23a8855a65')\"\n",
              "            title=\"Convert this dataframe to an interactive table.\"\n",
              "            style=\"display:none;\">\n",
              "\n",
              "  <svg xmlns=\"http://www.w3.org/2000/svg\" height=\"24px\" viewBox=\"0 -960 960 960\">\n",
              "    <path d=\"M120-120v-720h720v720H120Zm60-500h600v-160H180v160Zm220 220h160v-160H400v160Zm0 220h160v-160H400v160ZM180-400h160v-160H180v160Zm440 0h160v-160H620v160ZM180-180h160v-160H180v160Zm440 0h160v-160H620v160Z\"/>\n",
              "  </svg>\n",
              "    </button>\n",
              "\n",
              "  <style>\n",
              "    .colab-df-container {\n",
              "      display:flex;\n",
              "      gap: 12px;\n",
              "    }\n",
              "\n",
              "    .colab-df-convert {\n",
              "      background-color: #E8F0FE;\n",
              "      border: none;\n",
              "      border-radius: 50%;\n",
              "      cursor: pointer;\n",
              "      display: none;\n",
              "      fill: #1967D2;\n",
              "      height: 32px;\n",
              "      padding: 0 0 0 0;\n",
              "      width: 32px;\n",
              "    }\n",
              "\n",
              "    .colab-df-convert:hover {\n",
              "      background-color: #E2EBFA;\n",
              "      box-shadow: 0px 1px 2px rgba(60, 64, 67, 0.3), 0px 1px 3px 1px rgba(60, 64, 67, 0.15);\n",
              "      fill: #174EA6;\n",
              "    }\n",
              "\n",
              "    .colab-df-buttons div {\n",
              "      margin-bottom: 4px;\n",
              "    }\n",
              "\n",
              "    [theme=dark] .colab-df-convert {\n",
              "      background-color: #3B4455;\n",
              "      fill: #D2E3FC;\n",
              "    }\n",
              "\n",
              "    [theme=dark] .colab-df-convert:hover {\n",
              "      background-color: #434B5C;\n",
              "      box-shadow: 0px 1px 3px 1px rgba(0, 0, 0, 0.15);\n",
              "      filter: drop-shadow(0px 1px 2px rgba(0, 0, 0, 0.3));\n",
              "      fill: #FFFFFF;\n",
              "    }\n",
              "  </style>\n",
              "\n",
              "    <script>\n",
              "      const buttonEl =\n",
              "        document.querySelector('#df-7bd16448-5559-4a0a-81a1-cb23a8855a65 button.colab-df-convert');\n",
              "      buttonEl.style.display =\n",
              "        google.colab.kernel.accessAllowed ? 'block' : 'none';\n",
              "\n",
              "      async function convertToInteractive(key) {\n",
              "        const element = document.querySelector('#df-7bd16448-5559-4a0a-81a1-cb23a8855a65');\n",
              "        const dataTable =\n",
              "          await google.colab.kernel.invokeFunction('convertToInteractive',\n",
              "                                                    [key], {});\n",
              "        if (!dataTable) return;\n",
              "\n",
              "        const docLinkHtml = 'Like what you see? Visit the ' +\n",
              "          '<a target=\"_blank\" href=https://colab.research.google.com/notebooks/data_table.ipynb>data table notebook</a>'\n",
              "          + ' to learn more about interactive tables.';\n",
              "        element.innerHTML = '';\n",
              "        dataTable['output_type'] = 'display_data';\n",
              "        await google.colab.output.renderOutput(dataTable, element);\n",
              "        const docLink = document.createElement('div');\n",
              "        docLink.innerHTML = docLinkHtml;\n",
              "        element.appendChild(docLink);\n",
              "      }\n",
              "    </script>\n",
              "  </div>\n",
              "\n",
              "\n",
              "<div id=\"df-abb36a48-bc1e-4197-bf08-f184caf4dc10\">\n",
              "  <button class=\"colab-df-quickchart\" onclick=\"quickchart('df-abb36a48-bc1e-4197-bf08-f184caf4dc10')\"\n",
              "            title=\"Suggest charts\"\n",
              "            style=\"display:none;\">\n",
              "\n",
              "<svg xmlns=\"http://www.w3.org/2000/svg\" height=\"24px\"viewBox=\"0 0 24 24\"\n",
              "     width=\"24px\">\n",
              "    <g>\n",
              "        <path d=\"M19 3H5c-1.1 0-2 .9-2 2v14c0 1.1.9 2 2 2h14c1.1 0 2-.9 2-2V5c0-1.1-.9-2-2-2zM9 17H7v-7h2v7zm4 0h-2V7h2v10zm4 0h-2v-4h2v4z\"/>\n",
              "    </g>\n",
              "</svg>\n",
              "  </button>\n",
              "\n",
              "<style>\n",
              "  .colab-df-quickchart {\n",
              "      --bg-color: #E8F0FE;\n",
              "      --fill-color: #1967D2;\n",
              "      --hover-bg-color: #E2EBFA;\n",
              "      --hover-fill-color: #174EA6;\n",
              "      --disabled-fill-color: #AAA;\n",
              "      --disabled-bg-color: #DDD;\n",
              "  }\n",
              "\n",
              "  [theme=dark] .colab-df-quickchart {\n",
              "      --bg-color: #3B4455;\n",
              "      --fill-color: #D2E3FC;\n",
              "      --hover-bg-color: #434B5C;\n",
              "      --hover-fill-color: #FFFFFF;\n",
              "      --disabled-bg-color: #3B4455;\n",
              "      --disabled-fill-color: #666;\n",
              "  }\n",
              "\n",
              "  .colab-df-quickchart {\n",
              "    background-color: var(--bg-color);\n",
              "    border: none;\n",
              "    border-radius: 50%;\n",
              "    cursor: pointer;\n",
              "    display: none;\n",
              "    fill: var(--fill-color);\n",
              "    height: 32px;\n",
              "    padding: 0;\n",
              "    width: 32px;\n",
              "  }\n",
              "\n",
              "  .colab-df-quickchart:hover {\n",
              "    background-color: var(--hover-bg-color);\n",
              "    box-shadow: 0 1px 2px rgba(60, 64, 67, 0.3), 0 1px 3px 1px rgba(60, 64, 67, 0.15);\n",
              "    fill: var(--button-hover-fill-color);\n",
              "  }\n",
              "\n",
              "  .colab-df-quickchart-complete:disabled,\n",
              "  .colab-df-quickchart-complete:disabled:hover {\n",
              "    background-color: var(--disabled-bg-color);\n",
              "    fill: var(--disabled-fill-color);\n",
              "    box-shadow: none;\n",
              "  }\n",
              "\n",
              "  .colab-df-spinner {\n",
              "    border: 2px solid var(--fill-color);\n",
              "    border-color: transparent;\n",
              "    border-bottom-color: var(--fill-color);\n",
              "    animation:\n",
              "      spin 1s steps(1) infinite;\n",
              "  }\n",
              "\n",
              "  @keyframes spin {\n",
              "    0% {\n",
              "      border-color: transparent;\n",
              "      border-bottom-color: var(--fill-color);\n",
              "      border-left-color: var(--fill-color);\n",
              "    }\n",
              "    20% {\n",
              "      border-color: transparent;\n",
              "      border-left-color: var(--fill-color);\n",
              "      border-top-color: var(--fill-color);\n",
              "    }\n",
              "    30% {\n",
              "      border-color: transparent;\n",
              "      border-left-color: var(--fill-color);\n",
              "      border-top-color: var(--fill-color);\n",
              "      border-right-color: var(--fill-color);\n",
              "    }\n",
              "    40% {\n",
              "      border-color: transparent;\n",
              "      border-right-color: var(--fill-color);\n",
              "      border-top-color: var(--fill-color);\n",
              "    }\n",
              "    60% {\n",
              "      border-color: transparent;\n",
              "      border-right-color: var(--fill-color);\n",
              "    }\n",
              "    80% {\n",
              "      border-color: transparent;\n",
              "      border-right-color: var(--fill-color);\n",
              "      border-bottom-color: var(--fill-color);\n",
              "    }\n",
              "    90% {\n",
              "      border-color: transparent;\n",
              "      border-bottom-color: var(--fill-color);\n",
              "    }\n",
              "  }\n",
              "</style>\n",
              "\n",
              "  <script>\n",
              "    async function quickchart(key) {\n",
              "      const quickchartButtonEl =\n",
              "        document.querySelector('#' + key + ' button');\n",
              "      quickchartButtonEl.disabled = true;  // To prevent multiple clicks.\n",
              "      quickchartButtonEl.classList.add('colab-df-spinner');\n",
              "      try {\n",
              "        const charts = await google.colab.kernel.invokeFunction(\n",
              "            'suggestCharts', [key], {});\n",
              "      } catch (error) {\n",
              "        console.error('Error during call to suggestCharts:', error);\n",
              "      }\n",
              "      quickchartButtonEl.classList.remove('colab-df-spinner');\n",
              "      quickchartButtonEl.classList.add('colab-df-quickchart-complete');\n",
              "    }\n",
              "    (() => {\n",
              "      let quickchartButtonEl =\n",
              "        document.querySelector('#df-abb36a48-bc1e-4197-bf08-f184caf4dc10 button');\n",
              "      quickchartButtonEl.style.display =\n",
              "        google.colab.kernel.accessAllowed ? 'block' : 'none';\n",
              "    })();\n",
              "  </script>\n",
              "</div>\n",
              "\n",
              "  <div id=\"id_e195528c-9fc5-4810-9ed8-6dc3da708f35\">\n",
              "    <style>\n",
              "      .colab-df-generate {\n",
              "        background-color: #E8F0FE;\n",
              "        border: none;\n",
              "        border-radius: 50%;\n",
              "        cursor: pointer;\n",
              "        display: none;\n",
              "        fill: #1967D2;\n",
              "        height: 32px;\n",
              "        padding: 0 0 0 0;\n",
              "        width: 32px;\n",
              "      }\n",
              "\n",
              "      .colab-df-generate:hover {\n",
              "        background-color: #E2EBFA;\n",
              "        box-shadow: 0px 1px 2px rgba(60, 64, 67, 0.3), 0px 1px 3px 1px rgba(60, 64, 67, 0.15);\n",
              "        fill: #174EA6;\n",
              "      }\n",
              "\n",
              "      [theme=dark] .colab-df-generate {\n",
              "        background-color: #3B4455;\n",
              "        fill: #D2E3FC;\n",
              "      }\n",
              "\n",
              "      [theme=dark] .colab-df-generate:hover {\n",
              "        background-color: #434B5C;\n",
              "        box-shadow: 0px 1px 3px 1px rgba(0, 0, 0, 0.15);\n",
              "        filter: drop-shadow(0px 1px 2px rgba(0, 0, 0, 0.3));\n",
              "        fill: #FFFFFF;\n",
              "      }\n",
              "    </style>\n",
              "    <button class=\"colab-df-generate\" onclick=\"generateWithVariable('duc')\"\n",
              "            title=\"Generate code using this dataframe.\"\n",
              "            style=\"display:none;\">\n",
              "\n",
              "  <svg xmlns=\"http://www.w3.org/2000/svg\" height=\"24px\"viewBox=\"0 0 24 24\"\n",
              "       width=\"24px\">\n",
              "    <path d=\"M7,19H8.4L18.45,9,17,7.55,7,17.6ZM5,21V16.75L18.45,3.32a2,2,0,0,1,2.83,0l1.4,1.43a1.91,1.91,0,0,1,.58,1.4,1.91,1.91,0,0,1-.58,1.4L9.25,21ZM18.45,9,17,7.55Zm-12,3A5.31,5.31,0,0,0,4.9,8.1,5.31,5.31,0,0,0,1,6.5,5.31,5.31,0,0,0,4.9,4.9,5.31,5.31,0,0,0,6.5,1,5.31,5.31,0,0,0,8.1,4.9,5.31,5.31,0,0,0,12,6.5,5.46,5.46,0,0,0,6.5,12Z\"/>\n",
              "  </svg>\n",
              "    </button>\n",
              "    <script>\n",
              "      (() => {\n",
              "      const buttonEl =\n",
              "        document.querySelector('#id_e195528c-9fc5-4810-9ed8-6dc3da708f35 button.colab-df-generate');\n",
              "      buttonEl.style.display =\n",
              "        google.colab.kernel.accessAllowed ? 'block' : 'none';\n",
              "\n",
              "      buttonEl.onclick = () => {\n",
              "        google.colab.notebook.generateWithVariable('duc');\n",
              "      }\n",
              "      })();\n",
              "    </script>\n",
              "  </div>\n",
              "\n",
              "    </div>\n",
              "  </div>\n"
            ],
            "application/vnd.google.colaboratory.intrinsic+json": {
              "type": "dataframe",
              "variable_name": "duc",
              "summary": "{\n  \"name\": \"duc\",\n  \"rows\": 500,\n  \"fields\": [\n    {\n      \"column\": \"Short\",\n      \"properties\": {\n        \"dtype\": \"string\",\n        \"num_unique_values\": 440,\n        \"samples\": [\n          \"two astronauts ventured back out on another spacewalk wednesday to attach antennas to the international space station under construction nearly 250 miles above earth .\\n\",\n          \"prime minister mahathir mohamad said friday he is not too choosy about who will be his successor , the man need not necessarily be very religious and only preoccupied with doing virtuous deeds at all times , the national news agency , bernama , quoted mahathir as saying after friday prayers at the al-falah mosque in the northern town of jitra in kedah state .\\n\",\n          \"the deal that south africa 's truth and reconciliation commission offered was simple enough : confess your crimes , apply for amnesty and you will go free .\\n\"\n        ],\n        \"semantic_type\": \"\",\n        \"description\": \"\"\n      }\n    },\n    {\n      \"column\": \"Headline\",\n      \"properties\": {\n        \"dtype\": \"string\",\n        \"num_unique_values\": 456,\n        \"samples\": [\n          \"President's next premier-designate likely to be widely trusted lawmaker.\\n\",\n          \"Former top bin Laden aide source of U.S. evidence on terrorists\\n\",\n          \"UN official held hostage freed unharmed; 3 kidnappers killed in operation.\\n\"\n        ],\n        \"semantic_type\": \"\",\n        \"description\": \"\"\n      }\n    }\n  ]\n}"
            }
          },
          "metadata": {},
          "execution_count": 17
        }
      ]
    },
    {
      "cell_type": "code",
      "source": [
        "news"
      ],
      "metadata": {
        "execution": {
          "iopub.status.busy": "2022-11-08T11:38:18.205189Z",
          "iopub.execute_input": "2022-11-08T11:38:18.205523Z",
          "iopub.status.idle": "2022-11-08T11:38:18.229120Z",
          "shell.execute_reply.started": "2022-11-08T11:38:18.205492Z",
          "shell.execute_reply": "2022-11-08T11:38:18.228331Z"
        },
        "trusted": true,
        "colab": {
          "base_uri": "https://localhost:8080/",
          "height": 423
        },
        "id": "DUzbdwVX044D",
        "outputId": "a3ffcd63-30c9-402a-fb78-6a9a233a9c6c"
      },
      "execution_count": 18,
      "outputs": [
        {
          "output_type": "execute_result",
          "data": {
            "text/plain": [
              "                                                Headline  \\\n",
              "0      4 ex-bank officials booked for cheating bank o...   \n",
              "1         Supreme Court to go paperless in 6 months: CJI   \n",
              "2      At least 3 killed, 30 injured in blast in Sylh...   \n",
              "3      Why has Reliance been barred from trading in f...   \n",
              "4      Was stopped from entering my own studio at Tim...   \n",
              "...                                                  ...   \n",
              "55099         Sensex loses 400 points to hit 52-week low   \n",
              "55100      China to inject $91 bn into the money markets   \n",
              "55101   Ghulam Ali set to make acting debut in Bollywood   \n",
              "55102       IS acknowledges death of Jihadi John: Report   \n",
              "55103        Cairn to seek $600 mn from India in damages   \n",
              "\n",
              "                                                   Short  \n",
              "0      The CBI on Saturday booked four former officia...  \n",
              "1      Chief Justice JS Khehar has said the Supreme C...  \n",
              "2      At least three people were killed, including a...  \n",
              "3      Mukesh Ambani-led Reliance Industries (RIL) wa...  \n",
              "4      TV news anchor Arnab Goswami has said he was t...  \n",
              "...                                                  ...  \n",
              "55099  Tracking weak cues from the Asian markets, the...  \n",
              "55100  Amid growing concerns about China&#39;s econom...  \n",
              "55101  Pakistani Ghazal singer Ghulam Ali will soon m...  \n",
              "55102  The Islamic State (IS) has acknowledged the de...  \n",
              "55103  UK-based oil firm Cairn Energy on Tuesday said...  \n",
              "\n",
              "[55104 rows x 2 columns]"
            ],
            "text/html": [
              "\n",
              "  <div id=\"df-c4c65429-3306-43e5-bc2e-7398bba46848\" class=\"colab-df-container\">\n",
              "    <div>\n",
              "<style scoped>\n",
              "    .dataframe tbody tr th:only-of-type {\n",
              "        vertical-align: middle;\n",
              "    }\n",
              "\n",
              "    .dataframe tbody tr th {\n",
              "        vertical-align: top;\n",
              "    }\n",
              "\n",
              "    .dataframe thead th {\n",
              "        text-align: right;\n",
              "    }\n",
              "</style>\n",
              "<table border=\"1\" class=\"dataframe\">\n",
              "  <thead>\n",
              "    <tr style=\"text-align: right;\">\n",
              "      <th></th>\n",
              "      <th>Headline</th>\n",
              "      <th>Short</th>\n",
              "    </tr>\n",
              "  </thead>\n",
              "  <tbody>\n",
              "    <tr>\n",
              "      <th>0</th>\n",
              "      <td>4 ex-bank officials booked for cheating bank o...</td>\n",
              "      <td>The CBI on Saturday booked four former officia...</td>\n",
              "    </tr>\n",
              "    <tr>\n",
              "      <th>1</th>\n",
              "      <td>Supreme Court to go paperless in 6 months: CJI</td>\n",
              "      <td>Chief Justice JS Khehar has said the Supreme C...</td>\n",
              "    </tr>\n",
              "    <tr>\n",
              "      <th>2</th>\n",
              "      <td>At least 3 killed, 30 injured in blast in Sylh...</td>\n",
              "      <td>At least three people were killed, including a...</td>\n",
              "    </tr>\n",
              "    <tr>\n",
              "      <th>3</th>\n",
              "      <td>Why has Reliance been barred from trading in f...</td>\n",
              "      <td>Mukesh Ambani-led Reliance Industries (RIL) wa...</td>\n",
              "    </tr>\n",
              "    <tr>\n",
              "      <th>4</th>\n",
              "      <td>Was stopped from entering my own studio at Tim...</td>\n",
              "      <td>TV news anchor Arnab Goswami has said he was t...</td>\n",
              "    </tr>\n",
              "    <tr>\n",
              "      <th>...</th>\n",
              "      <td>...</td>\n",
              "      <td>...</td>\n",
              "    </tr>\n",
              "    <tr>\n",
              "      <th>55099</th>\n",
              "      <td>Sensex loses 400 points to hit 52-week low</td>\n",
              "      <td>Tracking weak cues from the Asian markets, the...</td>\n",
              "    </tr>\n",
              "    <tr>\n",
              "      <th>55100</th>\n",
              "      <td>China to inject $91 bn into the money markets</td>\n",
              "      <td>Amid growing concerns about China&amp;#39;s econom...</td>\n",
              "    </tr>\n",
              "    <tr>\n",
              "      <th>55101</th>\n",
              "      <td>Ghulam Ali set to make acting debut in Bollywood</td>\n",
              "      <td>Pakistani Ghazal singer Ghulam Ali will soon m...</td>\n",
              "    </tr>\n",
              "    <tr>\n",
              "      <th>55102</th>\n",
              "      <td>IS acknowledges death of Jihadi John: Report</td>\n",
              "      <td>The Islamic State (IS) has acknowledged the de...</td>\n",
              "    </tr>\n",
              "    <tr>\n",
              "      <th>55103</th>\n",
              "      <td>Cairn to seek $600 mn from India in damages</td>\n",
              "      <td>UK-based oil firm Cairn Energy on Tuesday said...</td>\n",
              "    </tr>\n",
              "  </tbody>\n",
              "</table>\n",
              "<p>55104 rows × 2 columns</p>\n",
              "</div>\n",
              "    <div class=\"colab-df-buttons\">\n",
              "\n",
              "  <div class=\"colab-df-container\">\n",
              "    <button class=\"colab-df-convert\" onclick=\"convertToInteractive('df-c4c65429-3306-43e5-bc2e-7398bba46848')\"\n",
              "            title=\"Convert this dataframe to an interactive table.\"\n",
              "            style=\"display:none;\">\n",
              "\n",
              "  <svg xmlns=\"http://www.w3.org/2000/svg\" height=\"24px\" viewBox=\"0 -960 960 960\">\n",
              "    <path d=\"M120-120v-720h720v720H120Zm60-500h600v-160H180v160Zm220 220h160v-160H400v160Zm0 220h160v-160H400v160ZM180-400h160v-160H180v160Zm440 0h160v-160H620v160ZM180-180h160v-160H180v160Zm440 0h160v-160H620v160Z\"/>\n",
              "  </svg>\n",
              "    </button>\n",
              "\n",
              "  <style>\n",
              "    .colab-df-container {\n",
              "      display:flex;\n",
              "      gap: 12px;\n",
              "    }\n",
              "\n",
              "    .colab-df-convert {\n",
              "      background-color: #E8F0FE;\n",
              "      border: none;\n",
              "      border-radius: 50%;\n",
              "      cursor: pointer;\n",
              "      display: none;\n",
              "      fill: #1967D2;\n",
              "      height: 32px;\n",
              "      padding: 0 0 0 0;\n",
              "      width: 32px;\n",
              "    }\n",
              "\n",
              "    .colab-df-convert:hover {\n",
              "      background-color: #E2EBFA;\n",
              "      box-shadow: 0px 1px 2px rgba(60, 64, 67, 0.3), 0px 1px 3px 1px rgba(60, 64, 67, 0.15);\n",
              "      fill: #174EA6;\n",
              "    }\n",
              "\n",
              "    .colab-df-buttons div {\n",
              "      margin-bottom: 4px;\n",
              "    }\n",
              "\n",
              "    [theme=dark] .colab-df-convert {\n",
              "      background-color: #3B4455;\n",
              "      fill: #D2E3FC;\n",
              "    }\n",
              "\n",
              "    [theme=dark] .colab-df-convert:hover {\n",
              "      background-color: #434B5C;\n",
              "      box-shadow: 0px 1px 3px 1px rgba(0, 0, 0, 0.15);\n",
              "      filter: drop-shadow(0px 1px 2px rgba(0, 0, 0, 0.3));\n",
              "      fill: #FFFFFF;\n",
              "    }\n",
              "  </style>\n",
              "\n",
              "    <script>\n",
              "      const buttonEl =\n",
              "        document.querySelector('#df-c4c65429-3306-43e5-bc2e-7398bba46848 button.colab-df-convert');\n",
              "      buttonEl.style.display =\n",
              "        google.colab.kernel.accessAllowed ? 'block' : 'none';\n",
              "\n",
              "      async function convertToInteractive(key) {\n",
              "        const element = document.querySelector('#df-c4c65429-3306-43e5-bc2e-7398bba46848');\n",
              "        const dataTable =\n",
              "          await google.colab.kernel.invokeFunction('convertToInteractive',\n",
              "                                                    [key], {});\n",
              "        if (!dataTable) return;\n",
              "\n",
              "        const docLinkHtml = 'Like what you see? Visit the ' +\n",
              "          '<a target=\"_blank\" href=https://colab.research.google.com/notebooks/data_table.ipynb>data table notebook</a>'\n",
              "          + ' to learn more about interactive tables.';\n",
              "        element.innerHTML = '';\n",
              "        dataTable['output_type'] = 'display_data';\n",
              "        await google.colab.output.renderOutput(dataTable, element);\n",
              "        const docLink = document.createElement('div');\n",
              "        docLink.innerHTML = docLinkHtml;\n",
              "        element.appendChild(docLink);\n",
              "      }\n",
              "    </script>\n",
              "  </div>\n",
              "\n",
              "\n",
              "<div id=\"df-a6da8af9-aa12-48e0-ba2e-e8bf5f8f5eb2\">\n",
              "  <button class=\"colab-df-quickchart\" onclick=\"quickchart('df-a6da8af9-aa12-48e0-ba2e-e8bf5f8f5eb2')\"\n",
              "            title=\"Suggest charts\"\n",
              "            style=\"display:none;\">\n",
              "\n",
              "<svg xmlns=\"http://www.w3.org/2000/svg\" height=\"24px\"viewBox=\"0 0 24 24\"\n",
              "     width=\"24px\">\n",
              "    <g>\n",
              "        <path d=\"M19 3H5c-1.1 0-2 .9-2 2v14c0 1.1.9 2 2 2h14c1.1 0 2-.9 2-2V5c0-1.1-.9-2-2-2zM9 17H7v-7h2v7zm4 0h-2V7h2v10zm4 0h-2v-4h2v4z\"/>\n",
              "    </g>\n",
              "</svg>\n",
              "  </button>\n",
              "\n",
              "<style>\n",
              "  .colab-df-quickchart {\n",
              "      --bg-color: #E8F0FE;\n",
              "      --fill-color: #1967D2;\n",
              "      --hover-bg-color: #E2EBFA;\n",
              "      --hover-fill-color: #174EA6;\n",
              "      --disabled-fill-color: #AAA;\n",
              "      --disabled-bg-color: #DDD;\n",
              "  }\n",
              "\n",
              "  [theme=dark] .colab-df-quickchart {\n",
              "      --bg-color: #3B4455;\n",
              "      --fill-color: #D2E3FC;\n",
              "      --hover-bg-color: #434B5C;\n",
              "      --hover-fill-color: #FFFFFF;\n",
              "      --disabled-bg-color: #3B4455;\n",
              "      --disabled-fill-color: #666;\n",
              "  }\n",
              "\n",
              "  .colab-df-quickchart {\n",
              "    background-color: var(--bg-color);\n",
              "    border: none;\n",
              "    border-radius: 50%;\n",
              "    cursor: pointer;\n",
              "    display: none;\n",
              "    fill: var(--fill-color);\n",
              "    height: 32px;\n",
              "    padding: 0;\n",
              "    width: 32px;\n",
              "  }\n",
              "\n",
              "  .colab-df-quickchart:hover {\n",
              "    background-color: var(--hover-bg-color);\n",
              "    box-shadow: 0 1px 2px rgba(60, 64, 67, 0.3), 0 1px 3px 1px rgba(60, 64, 67, 0.15);\n",
              "    fill: var(--button-hover-fill-color);\n",
              "  }\n",
              "\n",
              "  .colab-df-quickchart-complete:disabled,\n",
              "  .colab-df-quickchart-complete:disabled:hover {\n",
              "    background-color: var(--disabled-bg-color);\n",
              "    fill: var(--disabled-fill-color);\n",
              "    box-shadow: none;\n",
              "  }\n",
              "\n",
              "  .colab-df-spinner {\n",
              "    border: 2px solid var(--fill-color);\n",
              "    border-color: transparent;\n",
              "    border-bottom-color: var(--fill-color);\n",
              "    animation:\n",
              "      spin 1s steps(1) infinite;\n",
              "  }\n",
              "\n",
              "  @keyframes spin {\n",
              "    0% {\n",
              "      border-color: transparent;\n",
              "      border-bottom-color: var(--fill-color);\n",
              "      border-left-color: var(--fill-color);\n",
              "    }\n",
              "    20% {\n",
              "      border-color: transparent;\n",
              "      border-left-color: var(--fill-color);\n",
              "      border-top-color: var(--fill-color);\n",
              "    }\n",
              "    30% {\n",
              "      border-color: transparent;\n",
              "      border-left-color: var(--fill-color);\n",
              "      border-top-color: var(--fill-color);\n",
              "      border-right-color: var(--fill-color);\n",
              "    }\n",
              "    40% {\n",
              "      border-color: transparent;\n",
              "      border-right-color: var(--fill-color);\n",
              "      border-top-color: var(--fill-color);\n",
              "    }\n",
              "    60% {\n",
              "      border-color: transparent;\n",
              "      border-right-color: var(--fill-color);\n",
              "    }\n",
              "    80% {\n",
              "      border-color: transparent;\n",
              "      border-right-color: var(--fill-color);\n",
              "      border-bottom-color: var(--fill-color);\n",
              "    }\n",
              "    90% {\n",
              "      border-color: transparent;\n",
              "      border-bottom-color: var(--fill-color);\n",
              "    }\n",
              "  }\n",
              "</style>\n",
              "\n",
              "  <script>\n",
              "    async function quickchart(key) {\n",
              "      const quickchartButtonEl =\n",
              "        document.querySelector('#' + key + ' button');\n",
              "      quickchartButtonEl.disabled = true;  // To prevent multiple clicks.\n",
              "      quickchartButtonEl.classList.add('colab-df-spinner');\n",
              "      try {\n",
              "        const charts = await google.colab.kernel.invokeFunction(\n",
              "            'suggestCharts', [key], {});\n",
              "      } catch (error) {\n",
              "        console.error('Error during call to suggestCharts:', error);\n",
              "      }\n",
              "      quickchartButtonEl.classList.remove('colab-df-spinner');\n",
              "      quickchartButtonEl.classList.add('colab-df-quickchart-complete');\n",
              "    }\n",
              "    (() => {\n",
              "      let quickchartButtonEl =\n",
              "        document.querySelector('#df-a6da8af9-aa12-48e0-ba2e-e8bf5f8f5eb2 button');\n",
              "      quickchartButtonEl.style.display =\n",
              "        google.colab.kernel.accessAllowed ? 'block' : 'none';\n",
              "    })();\n",
              "  </script>\n",
              "</div>\n",
              "\n",
              "  <div id=\"id_97ee9d14-2ce5-4161-96c1-133d5a3a75b2\">\n",
              "    <style>\n",
              "      .colab-df-generate {\n",
              "        background-color: #E8F0FE;\n",
              "        border: none;\n",
              "        border-radius: 50%;\n",
              "        cursor: pointer;\n",
              "        display: none;\n",
              "        fill: #1967D2;\n",
              "        height: 32px;\n",
              "        padding: 0 0 0 0;\n",
              "        width: 32px;\n",
              "      }\n",
              "\n",
              "      .colab-df-generate:hover {\n",
              "        background-color: #E2EBFA;\n",
              "        box-shadow: 0px 1px 2px rgba(60, 64, 67, 0.3), 0px 1px 3px 1px rgba(60, 64, 67, 0.15);\n",
              "        fill: #174EA6;\n",
              "      }\n",
              "\n",
              "      [theme=dark] .colab-df-generate {\n",
              "        background-color: #3B4455;\n",
              "        fill: #D2E3FC;\n",
              "      }\n",
              "\n",
              "      [theme=dark] .colab-df-generate:hover {\n",
              "        background-color: #434B5C;\n",
              "        box-shadow: 0px 1px 3px 1px rgba(0, 0, 0, 0.15);\n",
              "        filter: drop-shadow(0px 1px 2px rgba(0, 0, 0, 0.3));\n",
              "        fill: #FFFFFF;\n",
              "      }\n",
              "    </style>\n",
              "    <button class=\"colab-df-generate\" onclick=\"generateWithVariable('news')\"\n",
              "            title=\"Generate code using this dataframe.\"\n",
              "            style=\"display:none;\">\n",
              "\n",
              "  <svg xmlns=\"http://www.w3.org/2000/svg\" height=\"24px\"viewBox=\"0 0 24 24\"\n",
              "       width=\"24px\">\n",
              "    <path d=\"M7,19H8.4L18.45,9,17,7.55,7,17.6ZM5,21V16.75L18.45,3.32a2,2,0,0,1,2.83,0l1.4,1.43a1.91,1.91,0,0,1,.58,1.4,1.91,1.91,0,0,1-.58,1.4L9.25,21ZM18.45,9,17,7.55Zm-12,3A5.31,5.31,0,0,0,4.9,8.1,5.31,5.31,0,0,0,1,6.5,5.31,5.31,0,0,0,4.9,4.9,5.31,5.31,0,0,0,6.5,1,5.31,5.31,0,0,0,8.1,4.9,5.31,5.31,0,0,0,12,6.5,5.46,5.46,0,0,0,6.5,12Z\"/>\n",
              "  </svg>\n",
              "    </button>\n",
              "    <script>\n",
              "      (() => {\n",
              "      const buttonEl =\n",
              "        document.querySelector('#id_97ee9d14-2ce5-4161-96c1-133d5a3a75b2 button.colab-df-generate');\n",
              "      buttonEl.style.display =\n",
              "        google.colab.kernel.accessAllowed ? 'block' : 'none';\n",
              "\n",
              "      buttonEl.onclick = () => {\n",
              "        google.colab.notebook.generateWithVariable('news');\n",
              "      }\n",
              "      })();\n",
              "    </script>\n",
              "  </div>\n",
              "\n",
              "    </div>\n",
              "  </div>\n"
            ],
            "application/vnd.google.colaboratory.intrinsic+json": {
              "type": "dataframe",
              "variable_name": "news",
              "summary": "{\n  \"name\": \"news\",\n  \"rows\": 55104,\n  \"fields\": [\n    {\n      \"column\": \"Headline\",\n      \"properties\": {\n        \"dtype\": \"string\",\n        \"num_unique_values\": 54940,\n        \"samples\": [\n          \"Happy to be back with Salman for Tiger Zinda Hai: Kaif\",\n          \" Lawsuit claims Oculus Co-founder spread fake origin story\",\n          \"Gambhir only Indian to make 100s in 5 straight Tests\"\n        ],\n        \"semantic_type\": \"\",\n        \"description\": \"\"\n      }\n    },\n    {\n      \"column\": \"Short\",\n      \"properties\": {\n        \"dtype\": \"string\",\n        \"num_unique_values\": 54997,\n        \"samples\": [\n          \"An Australian couple who own a tropical island resort in Micronesia has decided to give it away in lottery rather than sell it to the highest bidder. The lottery kicked off in April, and so far 55,500 people from 150 countries have bought tickets which start from $49. The lottery for the 16-bed resort will be drawn on Tuesday.\",\n          \"Over 200 rail accidents out of 292, from 2012-13 to January 2016, were caused due to the failure of railway staff as per the data of the Railway Ministry. The data suggested that action was being taken against 542 employees for their negligence and penalties were imposed in over 500 cases based on investigations by Commission of Railway Safety (CRS).\",\n          \"A 1400-km long optical fibre cable has been built connecting the two most precise optical atomic clocks in Europe, located in Germany and France. This marks the first and most accurate comparison of atomic clocks across national borders, a feat that may allow time-sensitive scientific experiments like observing changes in the values of fundamental physical constants over time.\"\n        ],\n        \"semantic_type\": \"\",\n        \"description\": \"\"\n      }\n    }\n  ]\n}"
            }
          },
          "metadata": {},
          "execution_count": 18
        }
      ]
    },
    {
      "cell_type": "code",
      "source": [
        "#df = pd.concat([duc, news])\n",
        "#del df1, df2\n",
        "df = pd.concat([duc, news], ignore_index=True, sort=False)\n",
        "# Shuffling the df\n",
        "df = df.sample(frac=1).reset_index(drop=True)\n",
        "\n",
        "print(f'Dataset size: {len(df)}')\n",
        "news=df"
      ],
      "metadata": {
        "execution": {
          "iopub.status.busy": "2022-11-08T11:42:13.567455Z",
          "iopub.execute_input": "2022-11-08T11:42:13.567791Z",
          "iopub.status.idle": "2022-11-08T11:42:13.591937Z",
          "shell.execute_reply.started": "2022-11-08T11:42:13.567752Z",
          "shell.execute_reply": "2022-11-08T11:42:13.591141Z"
        },
        "trusted": true,
        "colab": {
          "base_uri": "https://localhost:8080/"
        },
        "id": "_g5zo7tD044D",
        "outputId": "88127a0b-f56c-4c7e-891f-b68fc920d1dd"
      },
      "execution_count": 19,
      "outputs": [
        {
          "output_type": "stream",
          "name": "stdout",
          "text": [
            "Dataset size: 55604\n"
          ]
        }
      ]
    },
    {
      "cell_type": "code",
      "source": [
        "news.head()"
      ],
      "metadata": {
        "execution": {
          "iopub.status.busy": "2022-11-08T11:43:30.488343Z",
          "iopub.execute_input": "2022-11-08T11:43:30.488676Z",
          "iopub.status.idle": "2022-11-08T11:43:30.497709Z",
          "shell.execute_reply.started": "2022-11-08T11:43:30.488643Z",
          "shell.execute_reply": "2022-11-08T11:43:30.496574Z"
        },
        "trusted": true,
        "colab": {
          "base_uri": "https://localhost:8080/",
          "height": 206
        },
        "id": "_m9TpfYp044D",
        "outputId": "93026d35-48ed-4fbe-912a-ee3789a7adf7"
      },
      "execution_count": 20,
      "outputs": [
        {
          "output_type": "execute_result",
          "data": {
            "text/plain": [
              "                                               Short  \\\n",
              "0  The memorial of late President APJ Abdul Kalam...   \n",
              "1  Jammu &amp; Kashmir&#39;s Teachers Unions on S...   \n",
              "2  Mumbai has been named the most expensive city ...   \n",
              "3  Delhi&#39;s Transport Minister Gopal Rai on Sa...   \n",
              "4  As per reports, Pakistan Cricket Board (PCB) h...   \n",
              "\n",
              "                                            Headline  \n",
              "0  Ex-Prez Abdul Kalam&#39;s memorial to open on ...  \n",
              "1  J&amp;K teachers protest &#39;humiliation&#39;...  \n",
              "2     TripAdvisor ranks Mumbai costliest Indian city  \n",
              "3       Delhi govt will add 1,000 premium buses: Rai  \n",
              "4  ‘PCB lost $100mn due to India’s refusal to pla...  "
            ],
            "text/html": [
              "\n",
              "  <div id=\"df-725426b0-0141-4e8c-a1f5-08faf4344ca3\" class=\"colab-df-container\">\n",
              "    <div>\n",
              "<style scoped>\n",
              "    .dataframe tbody tr th:only-of-type {\n",
              "        vertical-align: middle;\n",
              "    }\n",
              "\n",
              "    .dataframe tbody tr th {\n",
              "        vertical-align: top;\n",
              "    }\n",
              "\n",
              "    .dataframe thead th {\n",
              "        text-align: right;\n",
              "    }\n",
              "</style>\n",
              "<table border=\"1\" class=\"dataframe\">\n",
              "  <thead>\n",
              "    <tr style=\"text-align: right;\">\n",
              "      <th></th>\n",
              "      <th>Short</th>\n",
              "      <th>Headline</th>\n",
              "    </tr>\n",
              "  </thead>\n",
              "  <tbody>\n",
              "    <tr>\n",
              "      <th>0</th>\n",
              "      <td>The memorial of late President APJ Abdul Kalam...</td>\n",
              "      <td>Ex-Prez Abdul Kalam&amp;#39;s memorial to open on ...</td>\n",
              "    </tr>\n",
              "    <tr>\n",
              "      <th>1</th>\n",
              "      <td>Jammu &amp;amp; Kashmir&amp;#39;s Teachers Unions on S...</td>\n",
              "      <td>J&amp;amp;K teachers protest &amp;#39;humiliation&amp;#39;...</td>\n",
              "    </tr>\n",
              "    <tr>\n",
              "      <th>2</th>\n",
              "      <td>Mumbai has been named the most expensive city ...</td>\n",
              "      <td>TripAdvisor ranks Mumbai costliest Indian city</td>\n",
              "    </tr>\n",
              "    <tr>\n",
              "      <th>3</th>\n",
              "      <td>Delhi&amp;#39;s Transport Minister Gopal Rai on Sa...</td>\n",
              "      <td>Delhi govt will add 1,000 premium buses: Rai</td>\n",
              "    </tr>\n",
              "    <tr>\n",
              "      <th>4</th>\n",
              "      <td>As per reports, Pakistan Cricket Board (PCB) h...</td>\n",
              "      <td>‘PCB lost $100mn due to India’s refusal to pla...</td>\n",
              "    </tr>\n",
              "  </tbody>\n",
              "</table>\n",
              "</div>\n",
              "    <div class=\"colab-df-buttons\">\n",
              "\n",
              "  <div class=\"colab-df-container\">\n",
              "    <button class=\"colab-df-convert\" onclick=\"convertToInteractive('df-725426b0-0141-4e8c-a1f5-08faf4344ca3')\"\n",
              "            title=\"Convert this dataframe to an interactive table.\"\n",
              "            style=\"display:none;\">\n",
              "\n",
              "  <svg xmlns=\"http://www.w3.org/2000/svg\" height=\"24px\" viewBox=\"0 -960 960 960\">\n",
              "    <path d=\"M120-120v-720h720v720H120Zm60-500h600v-160H180v160Zm220 220h160v-160H400v160Zm0 220h160v-160H400v160ZM180-400h160v-160H180v160Zm440 0h160v-160H620v160ZM180-180h160v-160H180v160Zm440 0h160v-160H620v160Z\"/>\n",
              "  </svg>\n",
              "    </button>\n",
              "\n",
              "  <style>\n",
              "    .colab-df-container {\n",
              "      display:flex;\n",
              "      gap: 12px;\n",
              "    }\n",
              "\n",
              "    .colab-df-convert {\n",
              "      background-color: #E8F0FE;\n",
              "      border: none;\n",
              "      border-radius: 50%;\n",
              "      cursor: pointer;\n",
              "      display: none;\n",
              "      fill: #1967D2;\n",
              "      height: 32px;\n",
              "      padding: 0 0 0 0;\n",
              "      width: 32px;\n",
              "    }\n",
              "\n",
              "    .colab-df-convert:hover {\n",
              "      background-color: #E2EBFA;\n",
              "      box-shadow: 0px 1px 2px rgba(60, 64, 67, 0.3), 0px 1px 3px 1px rgba(60, 64, 67, 0.15);\n",
              "      fill: #174EA6;\n",
              "    }\n",
              "\n",
              "    .colab-df-buttons div {\n",
              "      margin-bottom: 4px;\n",
              "    }\n",
              "\n",
              "    [theme=dark] .colab-df-convert {\n",
              "      background-color: #3B4455;\n",
              "      fill: #D2E3FC;\n",
              "    }\n",
              "\n",
              "    [theme=dark] .colab-df-convert:hover {\n",
              "      background-color: #434B5C;\n",
              "      box-shadow: 0px 1px 3px 1px rgba(0, 0, 0, 0.15);\n",
              "      filter: drop-shadow(0px 1px 2px rgba(0, 0, 0, 0.3));\n",
              "      fill: #FFFFFF;\n",
              "    }\n",
              "  </style>\n",
              "\n",
              "    <script>\n",
              "      const buttonEl =\n",
              "        document.querySelector('#df-725426b0-0141-4e8c-a1f5-08faf4344ca3 button.colab-df-convert');\n",
              "      buttonEl.style.display =\n",
              "        google.colab.kernel.accessAllowed ? 'block' : 'none';\n",
              "\n",
              "      async function convertToInteractive(key) {\n",
              "        const element = document.querySelector('#df-725426b0-0141-4e8c-a1f5-08faf4344ca3');\n",
              "        const dataTable =\n",
              "          await google.colab.kernel.invokeFunction('convertToInteractive',\n",
              "                                                    [key], {});\n",
              "        if (!dataTable) return;\n",
              "\n",
              "        const docLinkHtml = 'Like what you see? Visit the ' +\n",
              "          '<a target=\"_blank\" href=https://colab.research.google.com/notebooks/data_table.ipynb>data table notebook</a>'\n",
              "          + ' to learn more about interactive tables.';\n",
              "        element.innerHTML = '';\n",
              "        dataTable['output_type'] = 'display_data';\n",
              "        await google.colab.output.renderOutput(dataTable, element);\n",
              "        const docLink = document.createElement('div');\n",
              "        docLink.innerHTML = docLinkHtml;\n",
              "        element.appendChild(docLink);\n",
              "      }\n",
              "    </script>\n",
              "  </div>\n",
              "\n",
              "\n",
              "<div id=\"df-e6d8aeae-2306-4f78-9d40-2715d72c3663\">\n",
              "  <button class=\"colab-df-quickchart\" onclick=\"quickchart('df-e6d8aeae-2306-4f78-9d40-2715d72c3663')\"\n",
              "            title=\"Suggest charts\"\n",
              "            style=\"display:none;\">\n",
              "\n",
              "<svg xmlns=\"http://www.w3.org/2000/svg\" height=\"24px\"viewBox=\"0 0 24 24\"\n",
              "     width=\"24px\">\n",
              "    <g>\n",
              "        <path d=\"M19 3H5c-1.1 0-2 .9-2 2v14c0 1.1.9 2 2 2h14c1.1 0 2-.9 2-2V5c0-1.1-.9-2-2-2zM9 17H7v-7h2v7zm4 0h-2V7h2v10zm4 0h-2v-4h2v4z\"/>\n",
              "    </g>\n",
              "</svg>\n",
              "  </button>\n",
              "\n",
              "<style>\n",
              "  .colab-df-quickchart {\n",
              "      --bg-color: #E8F0FE;\n",
              "      --fill-color: #1967D2;\n",
              "      --hover-bg-color: #E2EBFA;\n",
              "      --hover-fill-color: #174EA6;\n",
              "      --disabled-fill-color: #AAA;\n",
              "      --disabled-bg-color: #DDD;\n",
              "  }\n",
              "\n",
              "  [theme=dark] .colab-df-quickchart {\n",
              "      --bg-color: #3B4455;\n",
              "      --fill-color: #D2E3FC;\n",
              "      --hover-bg-color: #434B5C;\n",
              "      --hover-fill-color: #FFFFFF;\n",
              "      --disabled-bg-color: #3B4455;\n",
              "      --disabled-fill-color: #666;\n",
              "  }\n",
              "\n",
              "  .colab-df-quickchart {\n",
              "    background-color: var(--bg-color);\n",
              "    border: none;\n",
              "    border-radius: 50%;\n",
              "    cursor: pointer;\n",
              "    display: none;\n",
              "    fill: var(--fill-color);\n",
              "    height: 32px;\n",
              "    padding: 0;\n",
              "    width: 32px;\n",
              "  }\n",
              "\n",
              "  .colab-df-quickchart:hover {\n",
              "    background-color: var(--hover-bg-color);\n",
              "    box-shadow: 0 1px 2px rgba(60, 64, 67, 0.3), 0 1px 3px 1px rgba(60, 64, 67, 0.15);\n",
              "    fill: var(--button-hover-fill-color);\n",
              "  }\n",
              "\n",
              "  .colab-df-quickchart-complete:disabled,\n",
              "  .colab-df-quickchart-complete:disabled:hover {\n",
              "    background-color: var(--disabled-bg-color);\n",
              "    fill: var(--disabled-fill-color);\n",
              "    box-shadow: none;\n",
              "  }\n",
              "\n",
              "  .colab-df-spinner {\n",
              "    border: 2px solid var(--fill-color);\n",
              "    border-color: transparent;\n",
              "    border-bottom-color: var(--fill-color);\n",
              "    animation:\n",
              "      spin 1s steps(1) infinite;\n",
              "  }\n",
              "\n",
              "  @keyframes spin {\n",
              "    0% {\n",
              "      border-color: transparent;\n",
              "      border-bottom-color: var(--fill-color);\n",
              "      border-left-color: var(--fill-color);\n",
              "    }\n",
              "    20% {\n",
              "      border-color: transparent;\n",
              "      border-left-color: var(--fill-color);\n",
              "      border-top-color: var(--fill-color);\n",
              "    }\n",
              "    30% {\n",
              "      border-color: transparent;\n",
              "      border-left-color: var(--fill-color);\n",
              "      border-top-color: var(--fill-color);\n",
              "      border-right-color: var(--fill-color);\n",
              "    }\n",
              "    40% {\n",
              "      border-color: transparent;\n",
              "      border-right-color: var(--fill-color);\n",
              "      border-top-color: var(--fill-color);\n",
              "    }\n",
              "    60% {\n",
              "      border-color: transparent;\n",
              "      border-right-color: var(--fill-color);\n",
              "    }\n",
              "    80% {\n",
              "      border-color: transparent;\n",
              "      border-right-color: var(--fill-color);\n",
              "      border-bottom-color: var(--fill-color);\n",
              "    }\n",
              "    90% {\n",
              "      border-color: transparent;\n",
              "      border-bottom-color: var(--fill-color);\n",
              "    }\n",
              "  }\n",
              "</style>\n",
              "\n",
              "  <script>\n",
              "    async function quickchart(key) {\n",
              "      const quickchartButtonEl =\n",
              "        document.querySelector('#' + key + ' button');\n",
              "      quickchartButtonEl.disabled = true;  // To prevent multiple clicks.\n",
              "      quickchartButtonEl.classList.add('colab-df-spinner');\n",
              "      try {\n",
              "        const charts = await google.colab.kernel.invokeFunction(\n",
              "            'suggestCharts', [key], {});\n",
              "      } catch (error) {\n",
              "        console.error('Error during call to suggestCharts:', error);\n",
              "      }\n",
              "      quickchartButtonEl.classList.remove('colab-df-spinner');\n",
              "      quickchartButtonEl.classList.add('colab-df-quickchart-complete');\n",
              "    }\n",
              "    (() => {\n",
              "      let quickchartButtonEl =\n",
              "        document.querySelector('#df-e6d8aeae-2306-4f78-9d40-2715d72c3663 button');\n",
              "      quickchartButtonEl.style.display =\n",
              "        google.colab.kernel.accessAllowed ? 'block' : 'none';\n",
              "    })();\n",
              "  </script>\n",
              "</div>\n",
              "\n",
              "    </div>\n",
              "  </div>\n"
            ],
            "application/vnd.google.colaboratory.intrinsic+json": {
              "type": "dataframe",
              "variable_name": "news",
              "summary": "{\n  \"name\": \"news\",\n  \"rows\": 55604,\n  \"fields\": [\n    {\n      \"column\": \"Short\",\n      \"properties\": {\n        \"dtype\": \"string\",\n        \"num_unique_values\": 55437,\n        \"samples\": [\n          \"The Enforcement Directorate has summoned former AirAsia India CEO Mittu Chandilya in connection with a Foreign Exchange Management Act probe. Chandilya has also been asked to submit documents related to his personal finances. The ED is probing ousted Tata Chairman Cyrus Mistry&#39;s allegation that fraudulent transactions of \\u20b922 crore, involving non-existent entities, were carried out by the airline.\",\n          \"T in the Park, the largest music festival in Scotland, will &#34;take a break&#34; next year, its organisers have announced. Organisers said the festival, held annually since 1994, has faced &#34;challenges&#34; since it was moved from Balado to Strathallan two years ago. Notably, there were two deaths at the festival this year, and illicit drug use and fights were reported. \",\n          \"BJP leader Shahnawaz Hussain on Wednesday said that Rahul Gandhi is obsessed with PM Narendra Modi as all his speeches start and end with the PM. Hussain said that Rahul doesn&#39;t get tired of blaming the PM and by doing that he wants to be in the news. &#34;Narendra Modi ji must even come in his dreams&#34;, added Hussain. \"\n        ],\n        \"semantic_type\": \"\",\n        \"description\": \"\"\n      }\n    },\n    {\n      \"column\": \"Headline\",\n      \"properties\": {\n        \"dtype\": \"string\",\n        \"num_unique_values\": 55396,\n        \"samples\": [\n          \"UK woman fastest to finish Explorers Grand Slam\",\n          \"Udta Punjab to release in Pakistan with 100 cuts\",\n          \"IISc, IIT-B among THE&#39;s top 50 Asian universities list\"\n        ],\n        \"semantic_type\": \"\",\n        \"description\": \"\"\n      }\n    }\n  ]\n}"
            }
          },
          "metadata": {},
          "execution_count": 20
        }
      ]
    },
    {
      "cell_type": "code",
      "source": [
        "text= \" my name is sandeep&#39;s kumar\"\n",
        "text=text.replace(r'&#39;','`')#.replace(r'&#39;','`', regex=True).replace(r'&amp','&', regex=True).replace(r'&#34;','\"', regex=True)"
      ],
      "metadata": {
        "execution": {
          "iopub.status.busy": "2022-11-08T11:41:49.902660Z",
          "iopub.execute_input": "2022-11-08T11:41:49.903014Z",
          "iopub.status.idle": "2022-11-08T11:41:49.908065Z",
          "shell.execute_reply.started": "2022-11-08T11:41:49.902978Z",
          "shell.execute_reply": "2022-11-08T11:41:49.907057Z"
        },
        "trusted": true,
        "id": "BaP7Cei-044E"
      },
      "execution_count": 21,
      "outputs": []
    },
    {
      "cell_type": "code",
      "source": [
        "text"
      ],
      "metadata": {
        "execution": {
          "iopub.status.busy": "2022-11-08T11:41:53.306281Z",
          "iopub.execute_input": "2022-11-08T11:41:53.306624Z",
          "iopub.status.idle": "2022-11-08T11:41:53.314001Z",
          "shell.execute_reply.started": "2022-11-08T11:41:53.306589Z",
          "shell.execute_reply": "2022-11-08T11:41:53.312970Z"
        },
        "trusted": true,
        "colab": {
          "base_uri": "https://localhost:8080/",
          "height": 36
        },
        "id": "iov8JQZ0044E",
        "outputId": "76a7dfea-f6c3-44c8-9327-54c6029df92e"
      },
      "execution_count": 22,
      "outputs": [
        {
          "output_type": "execute_result",
          "data": {
            "text/plain": [
              "' my name is sandeep`s kumar'"
            ],
            "application/vnd.google.colaboratory.intrinsic+json": {
              "type": "string"
            }
          },
          "metadata": {},
          "execution_count": 22
        }
      ]
    },
    {
      "cell_type": "code",
      "source": [
        "news=news.replace(r'&#45;','-', regex=True).replace(r'&#39;','`', regex=True).replace(r'&amp','&', regex=True).replace(r'&#34;','\"', regex=True)\n",
        "news.head()"
      ],
      "metadata": {
        "execution": {
          "iopub.status.busy": "2022-11-08T11:47:14.934446Z",
          "iopub.execute_input": "2022-11-08T11:47:14.934782Z",
          "iopub.status.idle": "2022-11-08T11:47:15.681748Z",
          "shell.execute_reply.started": "2022-11-08T11:47:14.934745Z",
          "shell.execute_reply": "2022-11-08T11:47:15.680908Z"
        },
        "trusted": true,
        "colab": {
          "base_uri": "https://localhost:8080/",
          "height": 206
        },
        "id": "PXFRwDWO044E",
        "outputId": "b1847fbf-5715-4b65-8616-c101f62d37d5"
      },
      "execution_count": 23,
      "outputs": [
        {
          "output_type": "execute_result",
          "data": {
            "text/plain": [
              "                                               Short  \\\n",
              "0  The memorial of late President APJ Abdul Kalam...   \n",
              "1  Jammu &; Kashmir`s Teachers Unions on Saturday...   \n",
              "2  Mumbai has been named the most expensive city ...   \n",
              "3  Delhi`s Transport Minister Gopal Rai on Saturd...   \n",
              "4  As per reports, Pakistan Cricket Board (PCB) h...   \n",
              "\n",
              "                                            Headline  \n",
              "0  Ex-Prez Abdul Kalam`s memorial to open on July 27  \n",
              "1  J&;K teachers protest `humiliation` due to reform  \n",
              "2     TripAdvisor ranks Mumbai costliest Indian city  \n",
              "3       Delhi govt will add 1,000 premium buses: Rai  \n",
              "4  ‘PCB lost $100mn due to India’s refusal to pla...  "
            ],
            "text/html": [
              "\n",
              "  <div id=\"df-08502f63-9609-4966-82a7-685101a9285b\" class=\"colab-df-container\">\n",
              "    <div>\n",
              "<style scoped>\n",
              "    .dataframe tbody tr th:only-of-type {\n",
              "        vertical-align: middle;\n",
              "    }\n",
              "\n",
              "    .dataframe tbody tr th {\n",
              "        vertical-align: top;\n",
              "    }\n",
              "\n",
              "    .dataframe thead th {\n",
              "        text-align: right;\n",
              "    }\n",
              "</style>\n",
              "<table border=\"1\" class=\"dataframe\">\n",
              "  <thead>\n",
              "    <tr style=\"text-align: right;\">\n",
              "      <th></th>\n",
              "      <th>Short</th>\n",
              "      <th>Headline</th>\n",
              "    </tr>\n",
              "  </thead>\n",
              "  <tbody>\n",
              "    <tr>\n",
              "      <th>0</th>\n",
              "      <td>The memorial of late President APJ Abdul Kalam...</td>\n",
              "      <td>Ex-Prez Abdul Kalam`s memorial to open on July 27</td>\n",
              "    </tr>\n",
              "    <tr>\n",
              "      <th>1</th>\n",
              "      <td>Jammu &amp;; Kashmir`s Teachers Unions on Saturday...</td>\n",
              "      <td>J&amp;;K teachers protest `humiliation` due to reform</td>\n",
              "    </tr>\n",
              "    <tr>\n",
              "      <th>2</th>\n",
              "      <td>Mumbai has been named the most expensive city ...</td>\n",
              "      <td>TripAdvisor ranks Mumbai costliest Indian city</td>\n",
              "    </tr>\n",
              "    <tr>\n",
              "      <th>3</th>\n",
              "      <td>Delhi`s Transport Minister Gopal Rai on Saturd...</td>\n",
              "      <td>Delhi govt will add 1,000 premium buses: Rai</td>\n",
              "    </tr>\n",
              "    <tr>\n",
              "      <th>4</th>\n",
              "      <td>As per reports, Pakistan Cricket Board (PCB) h...</td>\n",
              "      <td>‘PCB lost $100mn due to India’s refusal to pla...</td>\n",
              "    </tr>\n",
              "  </tbody>\n",
              "</table>\n",
              "</div>\n",
              "    <div class=\"colab-df-buttons\">\n",
              "\n",
              "  <div class=\"colab-df-container\">\n",
              "    <button class=\"colab-df-convert\" onclick=\"convertToInteractive('df-08502f63-9609-4966-82a7-685101a9285b')\"\n",
              "            title=\"Convert this dataframe to an interactive table.\"\n",
              "            style=\"display:none;\">\n",
              "\n",
              "  <svg xmlns=\"http://www.w3.org/2000/svg\" height=\"24px\" viewBox=\"0 -960 960 960\">\n",
              "    <path d=\"M120-120v-720h720v720H120Zm60-500h600v-160H180v160Zm220 220h160v-160H400v160Zm0 220h160v-160H400v160ZM180-400h160v-160H180v160Zm440 0h160v-160H620v160ZM180-180h160v-160H180v160Zm440 0h160v-160H620v160Z\"/>\n",
              "  </svg>\n",
              "    </button>\n",
              "\n",
              "  <style>\n",
              "    .colab-df-container {\n",
              "      display:flex;\n",
              "      gap: 12px;\n",
              "    }\n",
              "\n",
              "    .colab-df-convert {\n",
              "      background-color: #E8F0FE;\n",
              "      border: none;\n",
              "      border-radius: 50%;\n",
              "      cursor: pointer;\n",
              "      display: none;\n",
              "      fill: #1967D2;\n",
              "      height: 32px;\n",
              "      padding: 0 0 0 0;\n",
              "      width: 32px;\n",
              "    }\n",
              "\n",
              "    .colab-df-convert:hover {\n",
              "      background-color: #E2EBFA;\n",
              "      box-shadow: 0px 1px 2px rgba(60, 64, 67, 0.3), 0px 1px 3px 1px rgba(60, 64, 67, 0.15);\n",
              "      fill: #174EA6;\n",
              "    }\n",
              "\n",
              "    .colab-df-buttons div {\n",
              "      margin-bottom: 4px;\n",
              "    }\n",
              "\n",
              "    [theme=dark] .colab-df-convert {\n",
              "      background-color: #3B4455;\n",
              "      fill: #D2E3FC;\n",
              "    }\n",
              "\n",
              "    [theme=dark] .colab-df-convert:hover {\n",
              "      background-color: #434B5C;\n",
              "      box-shadow: 0px 1px 3px 1px rgba(0, 0, 0, 0.15);\n",
              "      filter: drop-shadow(0px 1px 2px rgba(0, 0, 0, 0.3));\n",
              "      fill: #FFFFFF;\n",
              "    }\n",
              "  </style>\n",
              "\n",
              "    <script>\n",
              "      const buttonEl =\n",
              "        document.querySelector('#df-08502f63-9609-4966-82a7-685101a9285b button.colab-df-convert');\n",
              "      buttonEl.style.display =\n",
              "        google.colab.kernel.accessAllowed ? 'block' : 'none';\n",
              "\n",
              "      async function convertToInteractive(key) {\n",
              "        const element = document.querySelector('#df-08502f63-9609-4966-82a7-685101a9285b');\n",
              "        const dataTable =\n",
              "          await google.colab.kernel.invokeFunction('convertToInteractive',\n",
              "                                                    [key], {});\n",
              "        if (!dataTable) return;\n",
              "\n",
              "        const docLinkHtml = 'Like what you see? Visit the ' +\n",
              "          '<a target=\"_blank\" href=https://colab.research.google.com/notebooks/data_table.ipynb>data table notebook</a>'\n",
              "          + ' to learn more about interactive tables.';\n",
              "        element.innerHTML = '';\n",
              "        dataTable['output_type'] = 'display_data';\n",
              "        await google.colab.output.renderOutput(dataTable, element);\n",
              "        const docLink = document.createElement('div');\n",
              "        docLink.innerHTML = docLinkHtml;\n",
              "        element.appendChild(docLink);\n",
              "      }\n",
              "    </script>\n",
              "  </div>\n",
              "\n",
              "\n",
              "<div id=\"df-541be769-96a6-42c7-a606-a84d88f6f999\">\n",
              "  <button class=\"colab-df-quickchart\" onclick=\"quickchart('df-541be769-96a6-42c7-a606-a84d88f6f999')\"\n",
              "            title=\"Suggest charts\"\n",
              "            style=\"display:none;\">\n",
              "\n",
              "<svg xmlns=\"http://www.w3.org/2000/svg\" height=\"24px\"viewBox=\"0 0 24 24\"\n",
              "     width=\"24px\">\n",
              "    <g>\n",
              "        <path d=\"M19 3H5c-1.1 0-2 .9-2 2v14c0 1.1.9 2 2 2h14c1.1 0 2-.9 2-2V5c0-1.1-.9-2-2-2zM9 17H7v-7h2v7zm4 0h-2V7h2v10zm4 0h-2v-4h2v4z\"/>\n",
              "    </g>\n",
              "</svg>\n",
              "  </button>\n",
              "\n",
              "<style>\n",
              "  .colab-df-quickchart {\n",
              "      --bg-color: #E8F0FE;\n",
              "      --fill-color: #1967D2;\n",
              "      --hover-bg-color: #E2EBFA;\n",
              "      --hover-fill-color: #174EA6;\n",
              "      --disabled-fill-color: #AAA;\n",
              "      --disabled-bg-color: #DDD;\n",
              "  }\n",
              "\n",
              "  [theme=dark] .colab-df-quickchart {\n",
              "      --bg-color: #3B4455;\n",
              "      --fill-color: #D2E3FC;\n",
              "      --hover-bg-color: #434B5C;\n",
              "      --hover-fill-color: #FFFFFF;\n",
              "      --disabled-bg-color: #3B4455;\n",
              "      --disabled-fill-color: #666;\n",
              "  }\n",
              "\n",
              "  .colab-df-quickchart {\n",
              "    background-color: var(--bg-color);\n",
              "    border: none;\n",
              "    border-radius: 50%;\n",
              "    cursor: pointer;\n",
              "    display: none;\n",
              "    fill: var(--fill-color);\n",
              "    height: 32px;\n",
              "    padding: 0;\n",
              "    width: 32px;\n",
              "  }\n",
              "\n",
              "  .colab-df-quickchart:hover {\n",
              "    background-color: var(--hover-bg-color);\n",
              "    box-shadow: 0 1px 2px rgba(60, 64, 67, 0.3), 0 1px 3px 1px rgba(60, 64, 67, 0.15);\n",
              "    fill: var(--button-hover-fill-color);\n",
              "  }\n",
              "\n",
              "  .colab-df-quickchart-complete:disabled,\n",
              "  .colab-df-quickchart-complete:disabled:hover {\n",
              "    background-color: var(--disabled-bg-color);\n",
              "    fill: var(--disabled-fill-color);\n",
              "    box-shadow: none;\n",
              "  }\n",
              "\n",
              "  .colab-df-spinner {\n",
              "    border: 2px solid var(--fill-color);\n",
              "    border-color: transparent;\n",
              "    border-bottom-color: var(--fill-color);\n",
              "    animation:\n",
              "      spin 1s steps(1) infinite;\n",
              "  }\n",
              "\n",
              "  @keyframes spin {\n",
              "    0% {\n",
              "      border-color: transparent;\n",
              "      border-bottom-color: var(--fill-color);\n",
              "      border-left-color: var(--fill-color);\n",
              "    }\n",
              "    20% {\n",
              "      border-color: transparent;\n",
              "      border-left-color: var(--fill-color);\n",
              "      border-top-color: var(--fill-color);\n",
              "    }\n",
              "    30% {\n",
              "      border-color: transparent;\n",
              "      border-left-color: var(--fill-color);\n",
              "      border-top-color: var(--fill-color);\n",
              "      border-right-color: var(--fill-color);\n",
              "    }\n",
              "    40% {\n",
              "      border-color: transparent;\n",
              "      border-right-color: var(--fill-color);\n",
              "      border-top-color: var(--fill-color);\n",
              "    }\n",
              "    60% {\n",
              "      border-color: transparent;\n",
              "      border-right-color: var(--fill-color);\n",
              "    }\n",
              "    80% {\n",
              "      border-color: transparent;\n",
              "      border-right-color: var(--fill-color);\n",
              "      border-bottom-color: var(--fill-color);\n",
              "    }\n",
              "    90% {\n",
              "      border-color: transparent;\n",
              "      border-bottom-color: var(--fill-color);\n",
              "    }\n",
              "  }\n",
              "</style>\n",
              "\n",
              "  <script>\n",
              "    async function quickchart(key) {\n",
              "      const quickchartButtonEl =\n",
              "        document.querySelector('#' + key + ' button');\n",
              "      quickchartButtonEl.disabled = true;  // To prevent multiple clicks.\n",
              "      quickchartButtonEl.classList.add('colab-df-spinner');\n",
              "      try {\n",
              "        const charts = await google.colab.kernel.invokeFunction(\n",
              "            'suggestCharts', [key], {});\n",
              "      } catch (error) {\n",
              "        console.error('Error during call to suggestCharts:', error);\n",
              "      }\n",
              "      quickchartButtonEl.classList.remove('colab-df-spinner');\n",
              "      quickchartButtonEl.classList.add('colab-df-quickchart-complete');\n",
              "    }\n",
              "    (() => {\n",
              "      let quickchartButtonEl =\n",
              "        document.querySelector('#df-541be769-96a6-42c7-a606-a84d88f6f999 button');\n",
              "      quickchartButtonEl.style.display =\n",
              "        google.colab.kernel.accessAllowed ? 'block' : 'none';\n",
              "    })();\n",
              "  </script>\n",
              "</div>\n",
              "\n",
              "    </div>\n",
              "  </div>\n"
            ],
            "application/vnd.google.colaboratory.intrinsic+json": {
              "type": "dataframe",
              "variable_name": "news",
              "summary": "{\n  \"name\": \"news\",\n  \"rows\": 55604,\n  \"fields\": [\n    {\n      \"column\": \"Short\",\n      \"properties\": {\n        \"dtype\": \"string\",\n        \"num_unique_values\": 55437,\n        \"samples\": [\n          \"The Enforcement Directorate has summoned former AirAsia India CEO Mittu Chandilya in connection with a Foreign Exchange Management Act probe. Chandilya has also been asked to submit documents related to his personal finances. The ED is probing ousted Tata Chairman Cyrus Mistry`s allegation that fraudulent transactions of \\u20b922 crore, involving non-existent entities, were carried out by the airline.\",\n          \"T in the Park, the largest music festival in Scotland, will \\\"take a break\\\" next year, its organisers have announced. Organisers said the festival, held annually since 1994, has faced \\\"challenges\\\" since it was moved from Balado to Strathallan two years ago. Notably, there were two deaths at the festival this year, and illicit drug use and fights were reported. \",\n          \"BJP leader Shahnawaz Hussain on Wednesday said that Rahul Gandhi is obsessed with PM Narendra Modi as all his speeches start and end with the PM. Hussain said that Rahul doesn`t get tired of blaming the PM and by doing that he wants to be in the news. \\\"Narendra Modi ji must even come in his dreams\\\", added Hussain. \"\n        ],\n        \"semantic_type\": \"\",\n        \"description\": \"\"\n      }\n    },\n    {\n      \"column\": \"Headline\",\n      \"properties\": {\n        \"dtype\": \"string\",\n        \"num_unique_values\": 55396,\n        \"samples\": [\n          \"UK woman fastest to finish Explorers Grand Slam\",\n          \"Udta Punjab to release in Pakistan with 100 cuts\",\n          \"IISc, IIT-B among THE`s top 50 Asian universities list\"\n        ],\n        \"semantic_type\": \"\",\n        \"description\": \"\"\n      }\n    }\n  ]\n}"
            }
          },
          "metadata": {},
          "execution_count": 23
        }
      ]
    },
    {
      "cell_type": "code",
      "source": [
        "article = news['Short']\n",
        "summary = news['Headline']"
      ],
      "metadata": {
        "execution": {
          "iopub.status.busy": "2022-11-08T11:47:24.224637Z",
          "iopub.execute_input": "2022-11-08T11:47:24.224987Z",
          "iopub.status.idle": "2022-11-08T11:47:24.302724Z",
          "shell.execute_reply.started": "2022-11-08T11:47:24.224933Z",
          "shell.execute_reply": "2022-11-08T11:47:24.301886Z"
        },
        "trusted": true,
        "id": "5uEawXSk044E"
      },
      "execution_count": 24,
      "outputs": []
    },
    {
      "cell_type": "code",
      "source": [
        "article = article.apply(lambda x: '<SOS> ' + x + ' <EOS>')\n",
        "summary = summary.apply(lambda x: '<SOS> ' + x + ' <EOS>')"
      ],
      "metadata": {
        "id": "ztvKESlLYif8"
      },
      "execution_count": 26,
      "outputs": []
    },
    {
      "cell_type": "code",
      "source": [
        "def preprocess(text):\n",
        "    text = re.sub(r\"&.[1-9]+;\",\" \",text)\n",
        "    return text\n",
        "article = article.apply(lambda x: preprocess(x))\n",
        "summary = summary.apply(lambda x: preprocess(x))"
      ],
      "metadata": {
        "execution": {
          "iopub.status.busy": "2022-11-08T11:47:31.816347Z",
          "iopub.execute_input": "2022-11-08T11:47:31.816667Z",
          "iopub.status.idle": "2022-11-08T11:47:31.968682Z",
          "shell.execute_reply.started": "2022-11-08T11:47:31.816635Z",
          "shell.execute_reply": "2022-11-08T11:47:31.967890Z"
        },
        "trusted": true,
        "id": "vcBHiozG044E"
      },
      "execution_count": 27,
      "outputs": []
    },
    {
      "cell_type": "code",
      "source": [
        "article[8]"
      ],
      "metadata": {
        "execution": {
          "iopub.status.busy": "2022-11-08T11:47:36.355556Z",
          "iopub.execute_input": "2022-11-08T11:47:36.355876Z",
          "iopub.status.idle": "2022-11-08T11:47:36.363956Z",
          "shell.execute_reply.started": "2022-11-08T11:47:36.355845Z",
          "shell.execute_reply": "2022-11-08T11:47:36.363073Z"
        },
        "trusted": true,
        "colab": {
          "base_uri": "https://localhost:8080/",
          "height": 70
        },
        "id": "H6ZH7xAB044E",
        "outputId": "847b609c-0aa0-4f29-e310-476c9a8e6283"
      },
      "execution_count": 28,
      "outputs": [
        {
          "output_type": "execute_result",
          "data": {
            "text/plain": [
              "'<SOS> Low-cost airline SpiceJet would not “go crazy” about market share and will focus on remaining profitable in a responsible manner, Chairman Ajay Singh said. “Market share will happen as we increase our planes and flights,” he stated. Notably, with seven straight quarters of profit after being near closure in 2015, SpiceJet is currently fourth in terms of domestic market share. <EOS>'"
            ],
            "application/vnd.google.colaboratory.intrinsic+json": {
              "type": "string"
            }
          },
          "metadata": {},
          "execution_count": 28
        }
      ]
    },
    {
      "cell_type": "code",
      "source": [
        "\n",
        "print(\"****************************\")\n",
        "summary[8]"
      ],
      "metadata": {
        "execution": {
          "iopub.status.busy": "2022-11-08T11:47:40.914938Z",
          "iopub.execute_input": "2022-11-08T11:47:40.915331Z",
          "iopub.status.idle": "2022-11-08T11:47:40.922086Z",
          "shell.execute_reply.started": "2022-11-08T11:47:40.915296Z",
          "shell.execute_reply": "2022-11-08T11:47:40.921127Z"
        },
        "trusted": true,
        "colab": {
          "base_uri": "https://localhost:8080/",
          "height": 53
        },
        "id": "o7oS-nS9044E",
        "outputId": "90cd545b-d44f-4fca-9d95-7f46c6742ce5"
      },
      "execution_count": 29,
      "outputs": [
        {
          "output_type": "stream",
          "name": "stdout",
          "text": [
            "****************************\n"
          ]
        },
        {
          "output_type": "execute_result",
          "data": {
            "text/plain": [
              "'<SOS> SpiceJet won`t go crazy about market share: Chairman <EOS>'"
            ],
            "application/vnd.google.colaboratory.intrinsic+json": {
              "type": "string"
            }
          },
          "metadata": {},
          "execution_count": 29
        }
      ]
    },
    {
      "cell_type": "code",
      "source": [
        "filters = '!\"#$%&()*+,-./:;=?@[\\\\]^_`{|}~\\t\\n'\n",
        "oov_token = '<unk>'\n",
        "article_tokenizer = tf.keras.preprocessing.text.Tokenizer(oov_token=oov_token)\n",
        "summary_tokenizer = tf.keras.preprocessing.text.Tokenizer(filters=filters, oov_token=oov_token)\n",
        "article_tokenizer.fit_on_texts(article)\n",
        "summary_tokenizer.fit_on_texts(summary)\n",
        "inputs = article_tokenizer.texts_to_sequences(article)\n",
        "targets = summary_tokenizer.texts_to_sequences(summary)"
      ],
      "metadata": {
        "execution": {
          "iopub.status.busy": "2022-11-08T11:47:48.320722Z",
          "iopub.execute_input": "2022-11-08T11:47:48.321206Z",
          "iopub.status.idle": "2022-11-08T11:47:55.799286Z",
          "shell.execute_reply.started": "2022-11-08T11:47:48.321160Z",
          "shell.execute_reply": "2022-11-08T11:47:55.798452Z"
        },
        "trusted": true,
        "id": "DAhSuzQw044F"
      },
      "execution_count": 30,
      "outputs": []
    },
    {
      "cell_type": "code",
      "source": [
        "ENCODER_VOCAB = len(article_tokenizer.word_index) + 1\n",
        "DECODER_VOCAB = len(summary_tokenizer.word_index) + 1\n",
        "print(ENCODER_VOCAB, DECODER_VOCAB)"
      ],
      "metadata": {
        "execution": {
          "iopub.status.busy": "2022-11-08T11:48:00.609515Z",
          "iopub.execute_input": "2022-11-08T11:48:00.609978Z",
          "iopub.status.idle": "2022-11-08T11:48:00.620114Z",
          "shell.execute_reply.started": "2022-11-08T11:48:00.609919Z",
          "shell.execute_reply": "2022-11-08T11:48:00.618969Z"
        },
        "trusted": true,
        "colab": {
          "base_uri": "https://localhost:8080/"
        },
        "id": "4AkB3mRg044F",
        "outputId": "4921b697-235f-49b9-f76c-2af62dcc3a8b"
      },
      "execution_count": 31,
      "outputs": [
        {
          "output_type": "stream",
          "name": "stdout",
          "text": [
            "76618 29955\n"
          ]
        }
      ]
    },
    {
      "cell_type": "code",
      "source": [
        "inputs = tf.keras.preprocessing.sequence.pad_sequences(inputs, maxlen=ENCODER_LEN, padding='post', truncating='post')\n",
        "targets = tf.keras.preprocessing.sequence.pad_sequences(targets, maxlen=DECODER_LEN, padding='post', truncating='post')\n",
        "inputs = tf.cast(inputs, dtype=tf.int64)\n",
        "targets = tf.cast(targets, dtype=tf.int64)"
      ],
      "metadata": {
        "execution": {
          "iopub.status.busy": "2022-11-08T11:48:04.012426Z",
          "iopub.execute_input": "2022-11-08T11:48:04.012756Z",
          "iopub.status.idle": "2022-11-08T11:48:07.141897Z",
          "shell.execute_reply.started": "2022-11-08T11:48:04.012723Z",
          "shell.execute_reply": "2022-11-08T11:48:07.141035Z"
        },
        "trusted": true,
        "id": "mYjSRaRA044F"
      },
      "execution_count": 32,
      "outputs": []
    },
    {
      "cell_type": "code",
      "source": [
        "dataset = tf.data.Dataset.from_tensor_slices((inputs, targets)).shuffle(BUFFER_SIZE).batch(BATCH_SIZE)"
      ],
      "metadata": {
        "execution": {
          "iopub.status.busy": "2022-11-08T11:48:07.143290Z",
          "iopub.execute_input": "2022-11-08T11:48:07.143621Z",
          "iopub.status.idle": "2022-11-08T11:48:07.204436Z",
          "shell.execute_reply.started": "2022-11-08T11:48:07.143583Z",
          "shell.execute_reply": "2022-11-08T11:48:07.203640Z"
        },
        "trusted": true,
        "id": "Xc5zlxm_044F"
      },
      "execution_count": 33,
      "outputs": []
    },
    {
      "cell_type": "code",
      "source": [
        "train_dataset, val_dataset = tf.keras.utils.split_dataset(dataset, left_size=0.8)"
      ],
      "metadata": {
        "id": "jeqYDPtA8l1C"
      },
      "execution_count": 34,
      "outputs": []
    },
    {
      "cell_type": "code",
      "source": [
        "print(article_tokenizer.word_index.get('<eos>', 1))\n",
        "print(article_tokenizer.word_index.get('<sos>', 2))\n",
        "print(summary_tokenizer.word_index.get('<eos>', 1))\n",
        "print(summary_tokenizer.word_index.get('<sos>', 2))"
      ],
      "metadata": {
        "colab": {
          "base_uri": "https://localhost:8080/"
        },
        "id": "Y9DHETdiIUh1",
        "outputId": "c52a9ca5-f866-444e-e1fa-1bf90776a772"
      },
      "execution_count": 35,
      "outputs": [
        {
          "output_type": "stream",
          "name": "stdout",
          "text": [
            "1\n",
            "2\n",
            "3\n",
            "2\n"
          ]
        }
      ]
    },
    {
      "cell_type": "markdown",
      "source": [
        "# Transformer Model\n",
        "\n",
        "The next several blocks of code contain the vanilla Transformer model.\n",
        "\n",
        "If you want to know about what they are and how they work I suggest this video: https://www.youtube.com/watch?v=4Bdc55j80l8\n",
        "\n",
        "It does an excellent job of giving an overview about them and helped me in understanding them."
      ],
      "metadata": {
        "id": "CJOEKM65044F"
      }
    },
    {
      "cell_type": "code",
      "source": [
        "def get_angles(position, i, d_model):\n",
        "    angle_rates = 1 / np.power(10000, (2 * (i // 2)) / np.float32(d_model))\n",
        "    return position * angle_rates\n",
        "\n",
        "def positional_encoding(position, d_model):\n",
        "    angle_rads = get_angles(\n",
        "        np.arange(position)[:, np.newaxis],\n",
        "        np.arange(d_model)[np.newaxis, :],\n",
        "        d_model\n",
        "    )\n",
        "\n",
        "    angle_rads[:, 0::2] = np.sin(angle_rads[:, 0::2])\n",
        "\n",
        "    angle_rads[:, 1::2] = np.cos(angle_rads[:, 1::2])\n",
        "\n",
        "    pos_encoding = angle_rads[np.newaxis, ...]\n",
        "\n",
        "    return tf.cast(pos_encoding, dtype=tf.float32)\n",
        "\n",
        "def create_padding_mask(seq):\n",
        "    seq = tf.cast(tf.math.equal(seq, 0), tf.float32)\n",
        "    return seq[:, tf.newaxis, tf.newaxis, :]\n",
        "\n",
        "def create_look_ahead_mask(size):\n",
        "    mask = 1 - tf.linalg.band_part(tf.ones((size, size)), -1, 0)\n",
        "    return mask\n",
        "\n",
        "def scaled_dot_product_attention(q, k, v, mask):\n",
        "    matmul_qk = tf.matmul(q, k, transpose_b=True)\n",
        "\n",
        "    dk = tf.cast(tf.shape(k)[-1], tf.float32)\n",
        "    scaled_attention_logits = matmul_qk / tf.math.sqrt(dk)\n",
        "\n",
        "    if mask is not None:\n",
        "        scaled_attention_logits += (mask * -1e9)\n",
        "\n",
        "    attention_weights = tf.nn.softmax(scaled_attention_logits, axis=-1)\n",
        "\n",
        "    output = tf.matmul(attention_weights, v)\n",
        "    return output, attention_weights"
      ],
      "metadata": {
        "execution": {
          "iopub.status.busy": "2022-11-08T11:48:10.870572Z",
          "iopub.execute_input": "2022-11-08T11:48:10.870897Z",
          "iopub.status.idle": "2022-11-08T11:48:10.880746Z",
          "shell.execute_reply.started": "2022-11-08T11:48:10.870865Z",
          "shell.execute_reply": "2022-11-08T11:48:10.879602Z"
        },
        "trusted": true,
        "id": "fcDIxjk8044F"
      },
      "execution_count": 36,
      "outputs": []
    },
    {
      "cell_type": "code",
      "source": [
        "class MultiHeadAttention(tf.keras.layers.Layer):\n",
        "    def __init__(self, d_model, num_heads):\n",
        "        super(MultiHeadAttention, self).__init__()\n",
        "        self.num_heads = num_heads\n",
        "        self.d_model = d_model\n",
        "\n",
        "        assert d_model % self.num_heads == 0\n",
        "\n",
        "        self.depth = d_model // self.num_heads\n",
        "\n",
        "        self.wq = tf.keras.layers.Dense(d_model)\n",
        "        self.wk = tf.keras.layers.Dense(d_model)\n",
        "        self.wv = tf.keras.layers.Dense(d_model)\n",
        "\n",
        "        self.dense = tf.keras.layers.Dense(d_model)\n",
        "\n",
        "    def split_heads(self, x, batch_size):\n",
        "        x = tf.reshape(x, (batch_size, -1, self.num_heads, self.depth))\n",
        "        return tf.transpose(x, perm=[0, 2, 1, 3])\n",
        "\n",
        "    def call(self, v, k, q, mask):\n",
        "        batch_size = tf.shape(q)[0]\n",
        "\n",
        "        q = self.wq(q)\n",
        "        k = self.wk(k)\n",
        "        v = self.wv(v)\n",
        "\n",
        "        q = self.split_heads(q, batch_size)\n",
        "        k = self.split_heads(k, batch_size)\n",
        "        v = self.split_heads(v, batch_size)\n",
        "\n",
        "        scaled_attention, attention_weights = scaled_dot_product_attention(\n",
        "            q, k, v, mask)\n",
        "\n",
        "        scaled_attention = tf.transpose(scaled_attention, perm=[0, 2, 1, 3])\n",
        "\n",
        "        concat_attention = tf.reshape(scaled_attention, (batch_size, -1, self.d_model))\n",
        "        output = self.dense(concat_attention)\n",
        "\n",
        "        return output, attention_weights\n",
        "\n",
        "def point_wise_feed_forward_network(d_model, dff):\n",
        "    return tf.keras.Sequential([\n",
        "        tf.keras.layers.Dense(dff, activation='relu'),\n",
        "        tf.keras.layers.Dense(d_model)\n",
        "    ])"
      ],
      "metadata": {
        "execution": {
          "iopub.status.busy": "2022-11-08T11:48:12.239482Z",
          "iopub.execute_input": "2022-11-08T11:48:12.239811Z",
          "iopub.status.idle": "2022-11-08T11:48:12.249655Z",
          "shell.execute_reply.started": "2022-11-08T11:48:12.239772Z",
          "shell.execute_reply": "2022-11-08T11:48:12.248334Z"
        },
        "trusted": true,
        "id": "rjWP4VbG044F"
      },
      "execution_count": 37,
      "outputs": []
    },
    {
      "cell_type": "code",
      "source": [
        "class EncoderLayer(tf.keras.layers.Layer):\n",
        "    def __init__(self, d_model, num_heads, dff, rate=0.1):\n",
        "        super(EncoderLayer, self).__init__()\n",
        "\n",
        "        self.mha = MultiHeadAttention(d_model, num_heads)\n",
        "        self.ffn = point_wise_feed_forward_network(d_model, dff)\n",
        "\n",
        "        self.layernorm1 = tf.keras.layers.LayerNormalization(epsilon=1e-6)\n",
        "        self.layernorm2 = tf.keras.layers.LayerNormalization(epsilon=1e-6)\n",
        "\n",
        "        self.dropout1 = tf.keras.layers.Dropout(rate)\n",
        "        self.dropout2 = tf.keras.layers.Dropout(rate)\n",
        "\n",
        "    def call(self, x, training=False, mask=None):\n",
        "        attn_output, _ = self.mha(x, x, x, mask)\n",
        "        attn_output = self.dropout1(attn_output, training=training)\n",
        "        out1 = self.layernorm1(x + attn_output)\n",
        "\n",
        "        ffn_output = self.ffn(out1)\n",
        "        ffn_output = self.dropout2(ffn_output, training=training)\n",
        "        out2 = self.layernorm2(out1 + ffn_output)\n",
        "\n",
        "        return out2\n"
      ],
      "metadata": {
        "execution": {
          "iopub.status.busy": "2022-11-08T11:48:13.218330Z",
          "iopub.execute_input": "2022-11-08T11:48:13.218662Z",
          "iopub.status.idle": "2022-11-08T11:48:13.225737Z",
          "shell.execute_reply.started": "2022-11-08T11:48:13.218630Z",
          "shell.execute_reply": "2022-11-08T11:48:13.224882Z"
        },
        "trusted": true,
        "id": "5kvLc683044F"
      },
      "execution_count": 38,
      "outputs": []
    },
    {
      "cell_type": "code",
      "source": [
        "class DecoderLayer(tf.keras.layers.Layer):\n",
        "    def __init__(self, d_model, num_heads, dff, rate=0.1):\n",
        "        super(DecoderLayer, self).__init__()\n",
        "\n",
        "        self.mha1 = MultiHeadAttention(d_model, num_heads)\n",
        "        self.mha2 = MultiHeadAttention(d_model, num_heads)\n",
        "\n",
        "        self.ffn = point_wise_feed_forward_network(d_model, dff)\n",
        "\n",
        "        self.layernorm1 = tf.keras.layers.LayerNormalization(epsilon=1e-6)\n",
        "        self.layernorm2 = tf.keras.layers.LayerNormalization(epsilon=1e-6)\n",
        "        self.layernorm3 = tf.keras.layers.LayerNormalization(epsilon=1e-6)\n",
        "\n",
        "        self.dropout1 = tf.keras.layers.Dropout(rate)\n",
        "        self.dropout2 = tf.keras.layers.Dropout(rate)\n",
        "        self.dropout3 = tf.keras.layers.Dropout(rate)\n",
        "\n",
        "    def call(self, x, enc_output, training, look_ahead_mask, padding_mask):\n",
        "        seq_len = tf.shape(x)[1]\n",
        "        attention_weights = {}\n",
        "\n",
        "        attn1, attn_weights_block1 = self.mha1(x, x, x, look_ahead_mask)\n",
        "        attn1 = self.dropout1(attn1, training=training)\n",
        "        out1 = self.layernorm1(attn1 + x)\n",
        "\n",
        "        attn2, attn_weights_block2 = self.mha2(enc_output, enc_output, out1, padding_mask)\n",
        "        attn2 = self.dropout2(attn2, training=training)\n",
        "        out2 = self.layernorm2(attn2 + out1)\n",
        "\n",
        "        ffn_output = self.ffn(out2)\n",
        "        ffn_output = self.dropout3(ffn_output, training=training)\n",
        "        out3 = self.layernorm3(ffn_output + out2)\n",
        "\n",
        "        attention_weights['decoder_layer{}_block1'.format(1)] = attn_weights_block1\n",
        "        attention_weights['decoder_layer{}_block2'.format(1)] = attn_weights_block2\n",
        "\n",
        "        return out3, attention_weights"
      ],
      "metadata": {
        "execution": {
          "iopub.status.busy": "2022-11-08T11:48:14.033308Z",
          "iopub.execute_input": "2022-11-08T11:48:14.033724Z",
          "iopub.status.idle": "2022-11-08T11:48:14.043096Z",
          "shell.execute_reply.started": "2022-11-08T11:48:14.033679Z",
          "shell.execute_reply": "2022-11-08T11:48:14.041985Z"
        },
        "trusted": true,
        "id": "EdwU6sAx044F"
      },
      "execution_count": 39,
      "outputs": []
    },
    {
      "cell_type": "code",
      "source": [
        "class Encoder(tf.keras.layers.Layer):\n",
        "    def __init__(self, num_layers, d_model, num_heads, dff, input_vocab_size, maximum_position_encoding, rate=0.1):\n",
        "        super(Encoder, self).__init__()\n",
        "\n",
        "        self.d_model = d_model\n",
        "        self.num_layers = num_layers\n",
        "\n",
        "        self.embedding = tf.keras.layers.Embedding(input_vocab_size, d_model)\n",
        "        self.pos_encoding = positional_encoding(maximum_position_encoding, self.d_model)\n",
        "\n",
        "        self.enc_layers = [EncoderLayer(d_model, num_heads, dff, rate) for _ in range(num_layers)]\n",
        "\n",
        "        self.dropout = tf.keras.layers.Dropout(rate)\n",
        "\n",
        "    def call(self, x, training=False, mask=None):\n",
        "        x = self.embedding(x)\n",
        "        x *= tf.math.sqrt(tf.cast(self.d_model, tf.float32))\n",
        "        x += self.pos_encoding[:, :tf.shape(x)[1], :]\n",
        "\n",
        "        x = self.dropout(x, training=training)\n",
        "\n",
        "        for i in range(self.num_layers):\n",
        "            x = self.enc_layers[i](x, training=training, mask=mask)  # Pass 'training' as keyword argument\n",
        "\n",
        "        return x\n",
        "\n",
        "class Decoder(tf.keras.layers.Layer):\n",
        "    def __init__(self, num_layers, d_model, num_heads, dff, target_vocab_size, maximum_position_encoding, rate=0.1):\n",
        "        super(Decoder, self).__init__()\n",
        "\n",
        "        self.d_model = d_model\n",
        "        self.num_layers = num_layers\n",
        "\n",
        "        self.embedding = tf.keras.layers.Embedding(target_vocab_size, d_model)\n",
        "        self.pos_encoding = positional_encoding(maximum_position_encoding, d_model)\n",
        "\n",
        "        self.dec_layers = [DecoderLayer(d_model, num_heads, dff, rate) for _ in range(num_layers)]\n",
        "        self.dropout = tf.keras.layers.Dropout(rate)\n",
        "\n",
        "    def call(self, x, enc_output, training=False, look_ahead_mask=None, dec_padding_mask=None):\n",
        "        seq_len = tf.shape(x)[1]\n",
        "        attention_weights = {}\n",
        "\n",
        "        x = self.embedding(x)\n",
        "        x *= tf.math.sqrt(tf.cast(self.d_model, tf.float32))\n",
        "        x += self.pos_encoding[:, :seq_len, :]\n",
        "\n",
        "        x = self.dropout(x, training=training)\n",
        "\n",
        "        for i in range(self.num_layers):\n",
        "            x, attn_weights = self.dec_layers[i](x, enc_output, training=training,\n",
        "                                                 look_ahead_mask=look_ahead_mask,\n",
        "                                                 padding_mask=dec_padding_mask)\n",
        "            attention_weights.update(attn_weights)\n",
        "\n",
        "        return x, attention_weights"
      ],
      "metadata": {
        "execution": {
          "iopub.status.busy": "2022-11-08T11:48:14.758717Z",
          "iopub.execute_input": "2022-11-08T11:48:14.759064Z",
          "iopub.status.idle": "2022-11-08T11:48:14.771758Z",
          "shell.execute_reply.started": "2022-11-08T11:48:14.759030Z",
          "shell.execute_reply": "2022-11-08T11:48:14.770740Z"
        },
        "trusted": true,
        "id": "ovGV8gHh044G"
      },
      "execution_count": 40,
      "outputs": []
    },
    {
      "cell_type": "code",
      "source": [
        "class Transformer(tf.keras.Model):\n",
        "    def __init__(self, num_layers, d_model, num_heads, dff, input_vocab_size, target_vocab_size, pe_input, pe_target, rate=0.1):\n",
        "        super(Transformer, self).__init__()\n",
        "\n",
        "        self.encoder = Encoder(num_layers, d_model, num_heads, dff, input_vocab_size, pe_input, rate)\n",
        "\n",
        "        self.decoder = Decoder(num_layers, d_model, num_heads, dff, target_vocab_size, pe_target, rate)\n",
        "\n",
        "        self.final_layer = tf.keras.layers.Dense(target_vocab_size)\n",
        "\n",
        "    def call(self, inp, tar, training=False, enc_padding_mask=None, look_ahead_mask=None, dec_padding_mask=None):\n",
        "        enc_output = self.encoder(inp, training=training, mask=enc_padding_mask)\n",
        "\n",
        "        dec_output, attention_weights = self.decoder(tar, enc_output, training=training,\n",
        "                                                     look_ahead_mask=look_ahead_mask,\n",
        "                                                     dec_padding_mask=dec_padding_mask)\n",
        "\n",
        "        final_output = self.final_layer(dec_output)\n",
        "\n",
        "        return final_output, attention_weights\n",
        "\n",
        "    def summary(self):\n",
        "        super(Transformer, self).summary()\n",
        "        print(\"Encoder:\")\n",
        "        self.encoder.summary()\n",
        "        print(\"Decoder:\")\n",
        "        self.decoder.summary()\n",
        "        print(\"Final Layer:\")\n",
        "        self.final_layer.summary()"
      ],
      "metadata": {
        "execution": {
          "iopub.status.busy": "2022-11-08T11:48:15.590423Z",
          "iopub.execute_input": "2022-11-08T11:48:15.590747Z",
          "iopub.status.idle": "2022-11-08T11:48:15.597722Z",
          "shell.execute_reply.started": "2022-11-08T11:48:15.590716Z",
          "shell.execute_reply": "2022-11-08T11:48:15.596607Z"
        },
        "trusted": true,
        "id": "tv3lUX0R044G"
      },
      "execution_count": 41,
      "outputs": []
    },
    {
      "cell_type": "code",
      "source": [
        "num_layers = 4\n",
        "d_model = 128\n",
        "dff = 512\n",
        "num_heads = 8\n",
        "dropout_rate = 0.2\n",
        "EPOCHS = 30"
      ],
      "metadata": {
        "execution": {
          "iopub.status.busy": "2022-11-08T11:48:52.878644Z",
          "iopub.execute_input": "2022-11-08T11:48:52.878980Z",
          "iopub.status.idle": "2022-11-08T11:48:52.882912Z",
          "shell.execute_reply.started": "2022-11-08T11:48:52.878934Z",
          "shell.execute_reply": "2022-11-08T11:48:52.881908Z"
        },
        "trusted": true,
        "id": "FVSXvjDP044G"
      },
      "execution_count": 42,
      "outputs": []
    },
    {
      "cell_type": "markdown",
      "source": [
        "# Custom Learning Rate"
      ],
      "metadata": {
        "id": "8vhvwPFk044G"
      }
    },
    {
      "cell_type": "code",
      "source": [
        "class CustomSchedule(tf.keras.optimizers.schedules.LearningRateSchedule):\n",
        "    def __init__(self, d_model, warmup_steps=4000):\n",
        "        super(CustomSchedule, self).__init__()\n",
        "\n",
        "        self.d_model = d_model\n",
        "        self.d_model = tf.cast(self.d_model, tf.float32)\n",
        "\n",
        "        self.warmup_steps = warmup_steps\n",
        "\n",
        "    def __call__(self, step):\n",
        "        step = tf.cast(step, tf.float32)  # Cast step to float32\n",
        "        arg1 = tf.math.rsqrt(step)\n",
        "        arg2 = step * (self.warmup_steps ** -1.5)\n",
        "\n",
        "        return tf.math.rsqrt(self.d_model) * tf.math.minimum(arg1, arg2)"
      ],
      "metadata": {
        "execution": {
          "iopub.status.busy": "2022-11-08T11:48:56.374858Z",
          "iopub.execute_input": "2022-11-08T11:48:56.375227Z",
          "iopub.status.idle": "2022-11-08T11:48:56.381364Z",
          "shell.execute_reply.started": "2022-11-08T11:48:56.375193Z",
          "shell.execute_reply": "2022-11-08T11:48:56.379907Z"
        },
        "trusted": true,
        "id": "D2IiqCrG044G"
      },
      "execution_count": 43,
      "outputs": []
    },
    {
      "cell_type": "code",
      "source": [
        "learning_rate = CustomSchedule(d_model)\n",
        "\n",
        "optimizer = tf.keras.optimizers.Adam(learning_rate, beta_1=0.9, beta_2=0.98, epsilon=1e-9)\n",
        "\n",
        "\n",
        "# optimizer = tf.keras.optimizers.AdamW(\n",
        "#     learning_rate=learning_rate,\n",
        "#     beta_1=0.9,\n",
        "#     beta_2=0.98,\n",
        "#     epsilon=1e-9,\n",
        "#     weight_decay=0.01  # You can adjust this value based on your needs\n",
        "# )"
      ],
      "metadata": {
        "execution": {
          "iopub.status.busy": "2022-11-08T11:48:58.141058Z",
          "iopub.execute_input": "2022-11-08T11:48:58.141388Z",
          "iopub.status.idle": "2022-11-08T11:48:58.147328Z",
          "shell.execute_reply.started": "2022-11-08T11:48:58.141357Z",
          "shell.execute_reply": "2022-11-08T11:48:58.146350Z"
        },
        "trusted": true,
        "id": "MLz8WmBQ044G"
      },
      "execution_count": 44,
      "outputs": []
    },
    {
      "cell_type": "code",
      "source": [
        "temp_learning_rate_schedule = CustomSchedule(d_model)\n",
        "\n",
        "plt.plot(temp_learning_rate_schedule(tf.range(40000, dtype=tf.float32)))\n",
        "plt.ylabel(\"Learning Rate\")\n",
        "plt.xlabel(\"Train Step\")"
      ],
      "metadata": {
        "execution": {
          "iopub.status.busy": "2022-11-08T11:48:59.489325Z",
          "iopub.execute_input": "2022-11-08T11:48:59.489647Z",
          "iopub.status.idle": "2022-11-08T11:48:59.677570Z",
          "shell.execute_reply.started": "2022-11-08T11:48:59.489615Z",
          "shell.execute_reply": "2022-11-08T11:48:59.676811Z"
        },
        "trusted": true,
        "colab": {
          "base_uri": "https://localhost:8080/",
          "height": 466
        },
        "id": "P40YgmmS044G",
        "outputId": "3fb1f547-6a75-4333-e8cb-46f106bece84"
      },
      "execution_count": 45,
      "outputs": [
        {
          "output_type": "execute_result",
          "data": {
            "text/plain": [
              "Text(0.5, 0, 'Train Step')"
            ]
          },
          "metadata": {},
          "execution_count": 45
        },
        {
          "output_type": "display_data",
          "data": {
            "text/plain": [
              "<Figure size 640x480 with 1 Axes>"
            ],
            "image/png": "[encoded data removed]"
          },
          "metadata": {}
        }
      ]
    },
    {
      "cell_type": "markdown",
      "source": [
        "# Custom Loss and Accuracy"
      ],
      "metadata": {
        "id": "FO1-136V044H"
      }
    },
    {
      "cell_type": "code",
      "source": [
        "loss_object = tf.keras.losses.SparseCategoricalCrossentropy(from_logits=True, reduction='none')\n",
        "def loss_function(real, pred):\n",
        "    mask = tf.math.logical_not(tf.math.equal(real, 0))\n",
        "    loss_ = loss_object(real, pred)\n",
        "\n",
        "    mask = tf.cast(mask, dtype=loss_.dtype)\n",
        "    loss_ *= mask\n",
        "\n",
        "    return tf.reduce_sum(loss_)/tf.reduce_sum(mask)\n",
        "\n",
        "\n",
        "def accuracy_function(real, pred):\n",
        "    accuracies = tf.equal(real, tf.argmax(pred, axis=2))\n",
        "    #accuracies = tf.cast(accuracies, dtype= tf.float32)\n",
        "\n",
        "    mask = tf.math.logical_not(tf.math.equal(real, 0))\n",
        "    accuracies = tf.math.logical_and(mask, accuracies)\n",
        "\n",
        "    accuracies = tf.cast(accuracies, dtype=tf.float32)\n",
        "    mask = tf.cast(mask, dtype=tf.float32)\n",
        "    return tf.reduce_sum(accuracies)/tf.reduce_sum(mask)"
      ],
      "metadata": {
        "execution": {
          "iopub.status.busy": "2022-11-08T11:49:06.522666Z",
          "iopub.execute_input": "2022-11-08T11:49:06.525068Z",
          "iopub.status.idle": "2022-11-08T11:49:06.535763Z",
          "shell.execute_reply.started": "2022-11-08T11:49:06.525021Z",
          "shell.execute_reply": "2022-11-08T11:49:06.534741Z"
        },
        "trusted": true,
        "id": "fw-Iog6_044H"
      },
      "execution_count": 46,
      "outputs": []
    },
    {
      "cell_type": "code",
      "source": [
        "transformer = Transformer(\n",
        "    num_layers=num_layers,\n",
        "    d_model=d_model,\n",
        "    num_heads=num_heads,\n",
        "    dff=dff,\n",
        "    input_vocab_size=ENCODER_VOCAB,\n",
        "    target_vocab_size=DECODER_VOCAB,\n",
        "    pe_input=1000,\n",
        "    pe_target=1000,\n",
        "    rate=dropout_rate)"
      ],
      "metadata": {
        "execution": {
          "iopub.status.busy": "2022-11-08T11:49:17.107512Z",
          "iopub.execute_input": "2022-11-08T11:49:17.107845Z",
          "iopub.status.idle": "2022-11-08T11:49:17.197744Z",
          "shell.execute_reply.started": "2022-11-08T11:49:17.107811Z",
          "shell.execute_reply": "2022-11-08T11:49:17.196904Z"
        },
        "trusted": true,
        "id": "b0D7oQ--044H"
      },
      "execution_count": 47,
      "outputs": []
    },
    {
      "cell_type": "code",
      "source": [
        "def create_masks(inp, tar):\n",
        "    enc_padding_mask = create_padding_mask(inp)\n",
        "    dec_padding_mask = create_padding_mask(inp)\n",
        "\n",
        "    look_ahead_mask = create_look_ahead_mask(tf.shape(tar)[1])\n",
        "    dec_target_padding_mask = create_padding_mask(tar)\n",
        "    combined_mask = tf.maximum(dec_target_padding_mask, look_ahead_mask)\n",
        "\n",
        "    return enc_padding_mask, combined_mask, dec_padding_mask"
      ],
      "metadata": {
        "execution": {
          "iopub.status.busy": "2022-11-08T11:49:19.131367Z",
          "iopub.execute_input": "2022-11-08T11:49:19.132086Z",
          "iopub.status.idle": "2022-11-08T11:49:19.140741Z",
          "shell.execute_reply.started": "2022-11-08T11:49:19.132045Z",
          "shell.execute_reply": "2022-11-08T11:49:19.139537Z"
        },
        "trusted": true,
        "id": "b8IUX3wx044H"
      },
      "execution_count": 48,
      "outputs": []
    },
    {
      "cell_type": "code",
      "source": [
        "checkpoint_path = \"checkpoints\"\n",
        "\n",
        "ckpt = tf.train.Checkpoint(transformer=transformer, optimizer=optimizer)\n",
        "\n",
        "ckpt_manager = tf.train.CheckpointManager(ckpt, checkpoint_path, max_to_keep=5)\n",
        "\n",
        "if ckpt_manager.latest_checkpoint:\n",
        "    ckpt.restore(ckpt_manager.latest_checkpoint)\n",
        "    print('Latest checkpoint restored!!')"
      ],
      "metadata": {
        "execution": {
          "iopub.status.busy": "2022-11-08T11:49:48.016705Z",
          "iopub.execute_input": "2022-11-08T11:49:48.017054Z",
          "iopub.status.idle": "2022-11-08T11:49:48.024970Z",
          "shell.execute_reply.started": "2022-11-08T11:49:48.017019Z",
          "shell.execute_reply": "2022-11-08T11:49:48.024057Z"
        },
        "trusted": true,
        "id": "d2L3vqHj044H"
      },
      "execution_count": 49,
      "outputs": []
    },
    {
      "cell_type": "code",
      "source": [
        "train_loss = tf.keras.metrics.Mean(name='train_loss')\n",
        "train_accuracy = tf.keras.metrics.Mean(name='train_accuracy')"
      ],
      "metadata": {
        "execution": {
          "iopub.status.busy": "2022-11-08T11:49:09.131884Z",
          "iopub.execute_input": "2022-11-08T11:49:09.132258Z",
          "iopub.status.idle": "2022-11-08T11:49:09.154213Z",
          "shell.execute_reply.started": "2022-11-08T11:49:09.132223Z",
          "shell.execute_reply": "2022-11-08T11:49:09.153434Z"
        },
        "trusted": true,
        "id": "jFLF-l4s044H"
      },
      "execution_count": 50,
      "outputs": []
    },
    {
      "cell_type": "code",
      "source": [
        "@tf.function\n",
        "def train_step(inputs, targets):\n",
        "    tar_inp = targets[:, :-1]\n",
        "    tar_real = targets[:, 1:]\n",
        "\n",
        "    enc_padding_mask, combined_mask, dec_padding_mask = create_masks(inputs, tar_inp)\n",
        "\n",
        "    with tf.GradientTape() as tape:\n",
        "        predictions, _ = transformer(\n",
        "            inputs, tar_inp,\n",
        "            training=True,\n",
        "            enc_padding_mask=enc_padding_mask,\n",
        "            look_ahead_mask=combined_mask,\n",
        "            dec_padding_mask=dec_padding_mask\n",
        "        )\n",
        "        loss = loss_function(tar_real, predictions)\n",
        "\n",
        "    gradients = tape.gradient(loss, transformer.trainable_variables)\n",
        "    optimizer.apply_gradients(zip(gradients, transformer.trainable_variables))\n",
        "\n",
        "    train_loss(loss)\n",
        "    train_accuracy(accuracy_function(tar_real, predictions))\n",
        "\n",
        "    #return loss, accuracy_function(tar_real, predictions)"
      ],
      "metadata": {
        "execution": {
          "iopub.status.busy": "2022-11-08T11:49:53.405374Z",
          "iopub.execute_input": "2022-11-08T11:49:53.405696Z",
          "iopub.status.idle": "2022-11-08T11:49:53.411737Z",
          "shell.execute_reply.started": "2022-11-08T11:49:53.405665Z",
          "shell.execute_reply": "2022-11-08T11:49:53.410771Z"
        },
        "trusted": true,
        "id": "ZFoiVewb044H"
      },
      "execution_count": 51,
      "outputs": []
    },
    {
      "cell_type": "code",
      "source": [
        "val_loss = tf.keras.metrics.Mean(name='val_loss')\n",
        "val_accuracy = tf.keras.metrics.Mean(name='val_accuracy')"
      ],
      "metadata": {
        "id": "vXxiFxtJ7928"
      },
      "execution_count": 52,
      "outputs": []
    },
    {
      "cell_type": "code",
      "source": [
        "# prompt: write function for validation step\n",
        "\n",
        "@tf.function\n",
        "def val_step(inp, tar):\n",
        "  tar_inp = tar[:, :-1]\n",
        "  tar_real = tar[:, 1:]\n",
        "\n",
        "  enc_padding_mask, combined_mask, dec_padding_mask = create_masks(inp, tar_inp)\n",
        "\n",
        "  predictions, _ = transformer(\n",
        "      inp, tar_inp,\n",
        "      training=False,\n",
        "      enc_padding_mask=enc_padding_mask,\n",
        "      look_ahead_mask=combined_mask,\n",
        "      dec_padding_mask=dec_padding_mask\n",
        "  )\n",
        "\n",
        "  loss = loss_function(tar_real, predictions)\n",
        "\n",
        "  val_loss(loss)\n",
        "  val_accuracy(accuracy_function(tar_real, predictions))\n"
      ],
      "metadata": {
        "id": "lhLREj608Icz"
      },
      "execution_count": 53,
      "outputs": []
    },
    {
      "cell_type": "markdown",
      "source": [
        "# Training the Model"
      ],
      "metadata": {
        "id": "tW0ieZvq044I"
      }
    },
    {
      "cell_type": "code",
      "source": [
        "import time\n",
        "\n",
        "# Initialize lists to store training and validation losses and accuracies\n",
        "epoch_train_losses = []\n",
        "epoch_train_accuracies = []\n",
        "epoch_val_losses = []\n",
        "epoch_val_accuracies = []\n",
        "\n",
        "# Early stopping parameters\n",
        "patience = 5\n",
        "best_val_loss = float('inf')\n",
        "epochs_without_improvement = 0"
      ],
      "metadata": {
        "id": "NH9dKdOZ_qv9"
      },
      "execution_count": 54,
      "outputs": []
    },
    {
      "cell_type": "code",
      "source": [
        "def train_one_epoch(train_dataset):\n",
        "    \"\"\"Train the model for one epoch and return the average loss and accuracy.\"\"\"\n",
        "    cumulative_loss = 0\n",
        "    cumulative_accuracy = 0\n",
        "    num_batches = 0\n",
        "\n",
        "    for (batch, (inputs, targets)) in enumerate(train_dataset):\n",
        "        train_step(inputs, targets)\n",
        "        cumulative_loss += train_loss.result()\n",
        "        cumulative_accuracy += train_accuracy.result()\n",
        "        num_batches += 1\n",
        "\n",
        "        if batch % 100 == 0:\n",
        "            print(f'Batch {batch} Training Loss {train_loss.result():.4f} Training Accuracy {train_accuracy.result():.4f}')\n",
        "\n",
        "    # Average loss and accuracy for the epoch\n",
        "    return cumulative_loss / num_batches, cumulative_accuracy / num_batches"
      ],
      "metadata": {
        "id": "e9WXpNXx_sH1"
      },
      "execution_count": 55,
      "outputs": []
    },
    {
      "cell_type": "code",
      "source": [
        "def validate_one_epoch(val_dataset):\n",
        "    \"\"\"Validate the model for one epoch and return the average loss and accuracy.\"\"\"\n",
        "    for (inputs, targets) in val_dataset:\n",
        "        val_step(inputs, targets)\n",
        "\n",
        "    return val_loss.result(), val_accuracy.result()"
      ],
      "metadata": {
        "id": "TV9jNi6k_uem"
      },
      "execution_count": 56,
      "outputs": []
    },
    {
      "cell_type": "code",
      "source": [
        "for epoch in range(EPOCHS):\n",
        "    start = time.time()\n",
        "    train_loss.reset_state()\n",
        "    train_accuracy.reset_state()\n",
        "    val_loss.reset_state()\n",
        "    val_accuracy.reset_state()\n",
        "\n",
        "    # Train for one epoch\n",
        "    epoch_train_loss, epoch_train_accuracy = train_one_epoch(train_dataset)\n",
        "    epoch_train_losses.append(epoch_train_loss)\n",
        "    epoch_train_accuracies.append(epoch_train_accuracy)\n",
        "\n",
        "    # Validate for one epoch\n",
        "    epoch_val_loss, epoch_val_accuracy = validate_one_epoch(val_dataset)\n",
        "    epoch_val_losses.append(epoch_val_loss)\n",
        "    epoch_val_accuracies.append(epoch_val_accuracy)\n",
        "\n",
        "    # Save checkpoints every 5 epochs\n",
        "    if (epoch + 1) % 5 == 0:\n",
        "        ckpt_save_path = ckpt_manager.save()\n",
        "        print(f'Saving checkpoint for epoch {epoch + 1} at {ckpt_save_path}')\n",
        "\n",
        "    # Print results for the epoch\n",
        "    print(f'Epoch {epoch + 1} Training Loss {epoch_train_loss:.4f} Training Accuracy {epoch_train_accuracy:.4f}')\n",
        "    print(f'Epoch {epoch + 1} Validation Loss {epoch_val_loss:.4f} Validation Accuracy {epoch_val_accuracy:.4f}')\n",
        "    print(f'Time taken for 1 epoch: {time.time() - start:.2f} secs\\n')\n",
        "\n",
        "    # Early stopping logic\n",
        "    if epoch_val_loss < best_val_loss:\n",
        "        best_val_loss = epoch_val_loss\n",
        "        epochs_without_improvement = 0\n",
        "        ckpt_save_path = ckpt_manager.save()\n",
        "        print(f'New best validation loss. Model saved at {ckpt_save_path}.')\n",
        "    else:\n",
        "        epochs_without_improvement += 1\n",
        "\n",
        "    # Check for early stopping\n",
        "    if epochs_without_improvement >= patience:\n",
        "        print(f'Early stopping triggered after {epoch + 1} epochs without improvement.')\n",
        "        ckpt_save_path = ckpt_manager.save()\n",
        "        print(f'Model saved at {ckpt_save_path} before stopping.')\n",
        "        break"
      ],
      "metadata": {
        "colab": {
          "base_uri": "https://localhost:8080/"
        },
        "id": "U17WS5LN_4rf",
        "outputId": "01f72272-6d6c-4817-99f2-56a9b7f63028"
      },
      "execution_count": 57,
      "outputs": [
        {
          "output_type": "stream",
          "name": "stdout",
          "text": [
            "Batch 0 Training Loss 10.3090 Training Accuracy 0.0000\n",
            "Batch 100 Training Loss 10.2051 Training Accuracy 0.0615\n",
            "Batch 200 Training Loss 9.9926 Training Accuracy 0.0825\n",
            "Batch 300 Training Loss 9.6921 Training Accuracy 0.0896\n",
            "Batch 400 Training Loss 9.3486 Training Accuracy 0.0931\n",
            "Batch 500 Training Loss 9.0343 Training Accuracy 0.0951\n",
            "Batch 600 Training Loss 8.7903 Training Accuracy 0.0966\n",
            "Epoch 1 Training Loss 9.5110 Training Accuracy 0.0805\n",
            "Epoch 1 Validation Loss 7.4371 Validation Accuracy 0.1177\n",
            "Time taken for 1 epoch: 389.21 secs\n",
            "\n",
            "New best validation loss. Model saved at checkpoints/ckpt-1.\n",
            "Batch 0 Training Loss 7.4866 Training Accuracy 0.1225\n",
            "Batch 100 Training Loss 7.3940 Training Accuracy 0.1235\n",
            "Batch 200 Training Loss 7.3487 Training Accuracy 0.1271\n",
            "Batch 300 Training Loss 7.3080 Training Accuracy 0.1293\n",
            "Batch 400 Training Loss 7.2688 Training Accuracy 0.1306\n",
            "Batch 500 Training Loss 7.2340 Training Accuracy 0.1321\n",
            "Batch 600 Training Loss 7.1958 Training Accuracy 0.1334\n",
            "Epoch 2 Training Loss 7.2916 Training Accuracy 0.1293\n",
            "Epoch 2 Validation Loss 6.9700 Validation Accuracy 0.1453\n",
            "Time taken for 1 epoch: 348.36 secs\n",
            "\n",
            "New best validation loss. Model saved at checkpoints/ckpt-2.\n",
            "Batch 0 Training Loss 6.9690 Training Accuracy 0.1340\n",
            "Batch 100 Training Loss 6.8367 Training Accuracy 0.1427\n",
            "Batch 200 Training Loss 6.7941 Training Accuracy 0.1455\n",
            "Batch 300 Training Loss 6.7567 Training Accuracy 0.1474\n",
            "Batch 400 Training Loss 6.7168 Training Accuracy 0.1496\n",
            "Batch 500 Training Loss 6.6813 Training Accuracy 0.1514\n",
            "Batch 600 Training Loss 6.6466 Training Accuracy 0.1529\n",
            "Epoch 3 Training Loss 6.7408 Training Accuracy 0.1483\n",
            "Epoch 3 Validation Loss 6.5599 Validation Accuracy 0.1659\n",
            "Time taken for 1 epoch: 348.59 secs\n",
            "\n",
            "New best validation loss. Model saved at checkpoints/ckpt-3.\n",
            "Batch 0 Training Loss 6.4887 Training Accuracy 0.1520\n",
            "Batch 100 Training Loss 6.3256 Training Accuracy 0.1651\n",
            "Batch 200 Training Loss 6.2869 Training Accuracy 0.1667\n",
            "Batch 300 Training Loss 6.2554 Training Accuracy 0.1682\n",
            "Batch 400 Training Loss 6.2230 Training Accuracy 0.1695\n",
            "Batch 500 Training Loss 6.1973 Training Accuracy 0.1707\n",
            "Batch 600 Training Loss 6.1739 Training Accuracy 0.1716\n",
            "Epoch 4 Training Loss 6.2472 Training Accuracy 0.1685\n",
            "Epoch 4 Validation Loss 6.3279 Validation Accuracy 0.1794\n",
            "Time taken for 1 epoch: 348.34 secs\n",
            "\n",
            "New best validation loss. Model saved at checkpoints/ckpt-4.\n",
            "Batch 0 Training Loss 6.1184 Training Accuracy 0.1650\n",
            "Batch 100 Training Loss 5.9351 Training Accuracy 0.1814\n",
            "Batch 200 Training Loss 5.9045 Training Accuracy 0.1836\n",
            "Batch 300 Training Loss 5.8785 Training Accuracy 0.1855\n",
            "Batch 400 Training Loss 5.8491 Training Accuracy 0.1871\n",
            "Batch 500 Training Loss 5.8272 Training Accuracy 0.1886\n",
            "Batch 600 Training Loss 5.8070 Training Accuracy 0.1901\n",
            "Saving checkpoint for epoch 5 at checkpoints/ckpt-5\n",
            "Epoch 5 Training Loss 5.8710 Training Accuracy 0.1858\n",
            "Epoch 5 Validation Loss 6.2046 Validation Accuracy 0.1954\n",
            "Time taken for 1 epoch: 348.84 secs\n",
            "\n",
            "New best validation loss. Model saved at checkpoints/ckpt-6.\n",
            "Batch 0 Training Loss 5.8206 Training Accuracy 0.1944\n",
            "Batch 100 Training Loss 5.6270 Training Accuracy 0.1994\n",
            "Batch 200 Training Loss 5.5927 Training Accuracy 0.2021\n",
            "Batch 300 Training Loss 5.5703 Training Accuracy 0.2041\n",
            "Batch 400 Training Loss 5.5430 Training Accuracy 0.2058\n",
            "Batch 500 Training Loss 5.5245 Training Accuracy 0.2071\n",
            "Batch 600 Training Loss 5.5099 Training Accuracy 0.2079\n",
            "Epoch 6 Training Loss 5.5666 Training Accuracy 0.2041\n",
            "Epoch 6 Validation Loss 6.0781 Validation Accuracy 0.1990\n",
            "Time taken for 1 epoch: 348.20 secs\n",
            "\n",
            "New best validation loss. Model saved at checkpoints/ckpt-7.\n",
            "Batch 0 Training Loss 5.4866 Training Accuracy 0.2042\n",
            "Batch 100 Training Loss 5.3647 Training Accuracy 0.2171\n",
            "Batch 200 Training Loss 5.3327 Training Accuracy 0.2209\n",
            "Batch 300 Training Loss 5.3040 Training Accuracy 0.2229\n",
            "Batch 400 Training Loss 5.2746 Training Accuracy 0.2248\n",
            "Batch 500 Training Loss 5.2530 Training Accuracy 0.2263\n",
            "Batch 600 Training Loss 5.2358 Training Accuracy 0.2278\n",
            "Epoch 7 Training Loss 5.2994 Training Accuracy 0.2229\n",
            "Epoch 7 Validation Loss 5.9114 Validation Accuracy 0.2138\n",
            "Time taken for 1 epoch: 348.06 secs\n",
            "\n",
            "New best validation loss. Model saved at checkpoints/ckpt-8.\n",
            "Batch 0 Training Loss 5.1933 Training Accuracy 0.2108\n",
            "Batch 100 Training Loss 5.0951 Training Accuracy 0.2377\n",
            "Batch 200 Training Loss 5.0665 Training Accuracy 0.2408\n",
            "Batch 300 Training Loss 5.0440 Training Accuracy 0.2430\n",
            "Batch 400 Training Loss 5.0201 Training Accuracy 0.2444\n",
            "Batch 500 Training Loss 4.9998 Training Accuracy 0.2461\n",
            "Batch 600 Training Loss 4.9848 Training Accuracy 0.2473\n",
            "Epoch 8 Training Loss 5.0369 Training Accuracy 0.2428\n",
            "Epoch 8 Validation Loss 5.8746 Validation Accuracy 0.2196\n",
            "Time taken for 1 epoch: 348.12 secs\n",
            "\n",
            "New best validation loss. Model saved at checkpoints/ckpt-9.\n",
            "Batch 0 Training Loss 4.9099 Training Accuracy 0.2631\n",
            "Batch 100 Training Loss 4.8631 Training Accuracy 0.2550\n",
            "Batch 200 Training Loss 4.8431 Training Accuracy 0.2573\n",
            "Batch 300 Training Loss 4.8236 Training Accuracy 0.2597\n",
            "Batch 400 Training Loss 4.8034 Training Accuracy 0.2611\n",
            "Batch 500 Training Loss 4.7898 Training Accuracy 0.2624\n",
            "Batch 600 Training Loss 4.7745 Training Accuracy 0.2634\n",
            "Epoch 9 Training Loss 4.8172 Training Accuracy 0.2598\n",
            "Epoch 9 Validation Loss 5.8979 Validation Accuracy 0.2215\n",
            "Time taken for 1 epoch: 348.04 secs\n",
            "\n",
            "Batch 0 Training Loss 4.7688 Training Accuracy 0.2827\n",
            "Batch 100 Training Loss 4.6847 Training Accuracy 0.2718\n",
            "Batch 200 Training Loss 4.6592 Training Accuracy 0.2745\n",
            "Batch 300 Training Loss 4.6407 Training Accuracy 0.2756\n",
            "Batch 400 Training Loss 4.6220 Training Accuracy 0.2771\n",
            "Batch 500 Training Loss 4.6094 Training Accuracy 0.2781\n",
            "Batch 600 Training Loss 4.5980 Training Accuracy 0.2791\n",
            "Saving checkpoint for epoch 10 at checkpoints/ckpt-10\n",
            "Epoch 10 Training Loss 4.6391 Training Accuracy 0.2758\n",
            "Epoch 10 Validation Loss 5.9065 Validation Accuracy 0.2244\n",
            "Time taken for 1 epoch: 348.85 secs\n",
            "\n",
            "Batch 0 Training Loss 4.5685 Training Accuracy 0.2827\n",
            "Batch 100 Training Loss 4.5319 Training Accuracy 0.2838\n",
            "Batch 200 Training Loss 4.5074 Training Accuracy 0.2872\n",
            "Batch 300 Training Loss 4.4904 Training Accuracy 0.2891\n",
            "Batch 400 Training Loss 4.4714 Training Accuracy 0.2910\n",
            "Batch 500 Training Loss 4.4644 Training Accuracy 0.2919\n",
            "Batch 600 Training Loss 4.4534 Training Accuracy 0.2926\n",
            "Epoch 11 Training Loss 4.4887 Training Accuracy 0.2894\n",
            "Epoch 11 Validation Loss 5.9022 Validation Accuracy 0.2310\n",
            "Time taken for 1 epoch: 347.92 secs\n",
            "\n",
            "Batch 0 Training Loss 4.3379 Training Accuracy 0.2974\n",
            "Batch 100 Training Loss 4.4036 Training Accuracy 0.2969\n",
            "Batch 200 Training Loss 4.3750 Training Accuracy 0.3004\n",
            "Batch 300 Training Loss 4.3567 Training Accuracy 0.3021\n",
            "Batch 400 Training Loss 4.3415 Training Accuracy 0.3037\n",
            "Batch 500 Training Loss 4.3344 Training Accuracy 0.3043\n",
            "Batch 600 Training Loss 4.3251 Training Accuracy 0.3050\n",
            "Epoch 12 Training Loss 4.3568 Training Accuracy 0.3021\n",
            "Epoch 12 Validation Loss 5.9122 Validation Accuracy 0.2315\n",
            "Time taken for 1 epoch: 348.11 secs\n",
            "\n",
            "Batch 0 Training Loss 4.2374 Training Accuracy 0.3235\n",
            "Batch 100 Training Loss 4.2816 Training Accuracy 0.3097\n",
            "Batch 200 Training Loss 4.2597 Training Accuracy 0.3126\n",
            "Batch 300 Training Loss 4.2424 Training Accuracy 0.3142\n",
            "Batch 400 Training Loss 4.2300 Training Accuracy 0.3154\n",
            "Batch 500 Training Loss 4.2215 Training Accuracy 0.3157\n",
            "Batch 600 Training Loss 4.2126 Training Accuracy 0.3166\n",
            "Epoch 13 Training Loss 4.2403 Training Accuracy 0.3143\n",
            "Epoch 13 Validation Loss 5.8961 Validation Accuracy 0.2310\n",
            "Time taken for 1 epoch: 348.05 secs\n",
            "\n",
            "Early stopping triggered after 13 epochs without improvement.\n",
            "Model saved at checkpoints/ckpt-11 before stopping.\n"
          ]
        }
      ]
    },
    {
      "cell_type": "markdown",
      "source": [
        "Above is changes to get validation loss and accuracy, below is original"
      ],
      "metadata": {
        "id": "1ToUn05Z044I"
      }
    },
    {
      "cell_type": "code",
      "source": [
        "# for epoch in range(EPOCHS):\n",
        "#     start = time.time()\n",
        "\n",
        "#     epoch_loss = 0\n",
        "#     epoch_accuracy = 0\n",
        "#     num_batches = 0\n",
        "\n",
        "#     for (batch, (inp, tar)) in enumerate(dataset):\n",
        "#         batch_loss, batch_accuracy = train_step(inp, tar)\n",
        "#         train_loss.update_state(batch_loss)\n",
        "#         train_accuracy.update_state(batch_accuracy)\n",
        "#         epoch_loss = train_loss.result()\n",
        "#         epoch_accuracy = train_accuracy.result()\n",
        "#         num_batches += 1\n",
        "\n",
        "#         if batch % 100 == 0:\n",
        "#             current_loss = epoch_loss / (batch + 1)\n",
        "#             current_accuracy = epoch_accuracy / (batch + 1)\n",
        "#             print(f'Epoch {epoch + 1} Batch {batch} Loss {current_loss:.4f} Accuracy {current_accuracy:.4f}')\n",
        "\n",
        "#     epoch_loss = epoch_loss / num_batches\n",
        "#     epoch_accuracy = epoch_accuracy / num_batches\n",
        "\n",
        "#     losses.append(epoch_loss)\n",
        "#     accuracies.append(epoch_accuracy)\n",
        "\n",
        "#     if (epoch + 1) % 5 == 0:\n",
        "#         ckpt_save_path = ckpt_manager.save()\n",
        "#         print(f'Saving checkpoint for epoch {epoch+1} at {ckpt_save_path}')\n",
        "\n",
        "#     print(f'Epoch {epoch + 1} Loss {epoch_loss:.4f} Accuracy {epoch_accuracy:.4f}')\n",
        "#     print(f'Time taken for 1 epoch: {time.time() - start} secs\\n')"
      ],
      "metadata": {
        "execution": {
          "iopub.status.busy": "2022-11-08T11:50:16.653656Z",
          "iopub.execute_input": "2022-11-08T11:50:16.654010Z",
          "iopub.status.idle": "2022-11-08T13:34:16.312962Z",
          "shell.execute_reply.started": "2022-11-08T11:50:16.653973Z",
          "shell.execute_reply": "2022-11-08T13:34:16.312056Z"
        },
        "trusted": true,
        "id": "_TA-JqfA044I"
      },
      "execution_count": null,
      "outputs": []
    },
    {
      "cell_type": "code",
      "source": [
        "# prompt: write code to plot train and val graphs\n",
        "\n",
        "# Plot training and validation loss\n",
        "plt.figure(figsize=(10, 5))\n",
        "plt.plot(epoch_train_losses, label='Training Loss')\n",
        "plt.plot(epoch_val_losses, label='Validation Loss')\n",
        "plt.title('Training and Validation Loss')\n",
        "plt.xlabel('Epochs')\n",
        "plt.ylabel('Loss')\n",
        "plt.legend()\n",
        "plt.show()\n",
        "\n",
        "# Plot training and validation accuracy\n",
        "plt.figure(figsize=(10, 5))\n",
        "plt.plot(epoch_train_accuracies, label='Training Accuracy')\n",
        "plt.plot(epoch_val_accuracies, label='Validation Accuracy')\n",
        "plt.title('Training and Validation Accuracy')\n",
        "plt.xlabel('Epochs')\n",
        "plt.ylabel('Accuracy')\n",
        "plt.legend()\n",
        "plt.show()\n"
      ],
      "metadata": {
        "colab": {
          "base_uri": "https://localhost:8080/",
          "height": 957
        },
        "id": "VGWhpyXcFsyc",
        "outputId": "9a165f24-f7c9-4665-dfe2-2fd61213e395"
      },
      "execution_count": 58,
      "outputs": [
        {
          "output_type": "display_data",
          "data": {
            "text/plain": [
              "<Figure size 1000x500 with 1 Axes>"
            ],
            "image/png": "[encoded data removed]"
          },
          "metadata": {}
        },
        {
          "output_type": "display_data",
          "data": {
            "text/plain": [
              "<Figure size 1000x500 with 1 Axes>"
            ],
            "image/png": "[encoded data removed]"
          },
          "metadata": {}
        }
      ]
    },
    {
      "cell_type": "code",
      "source": [
        "# prompt: save the trained model\n",
        "\n",
        "# Save the entire model as a SavedModel.\n",
        "transformer.save('my_transformer_model.keras')\n",
        "\n",
        "# Alternatively, save only the weights.\n",
        "#transformer.save_weights('/content/drive/MyDrive/SD_data/my_transformer_weights.weights.h5')\n"
      ],
      "metadata": {
        "id": "HxBQ89DSKILi"
      },
      "execution_count": null,
      "outputs": []
    },
    {
      "cell_type": "markdown",
      "source": [
        "# Evaluation"
      ],
      "metadata": {
        "id": "JKmkLDaw044I"
      }
    },
    {
      "cell_type": "code",
      "source": [
        "def evaluate(input_article):\n",
        "    input_article = article_tokenizer.texts_to_sequences([input_article])\n",
        "    input_article = tf.keras.preprocessing.sequence.pad_sequences(input_article, maxlen=ENCODER_LEN,\n",
        "                                                                   padding='post', truncating='post')\n",
        "\n",
        "    encoder_input = tf.expand_dims(input_article[0], 0)\n",
        "\n",
        "    decoder_input = [summary_tokenizer.word_index['<sos>']]\n",
        "    output = tf.expand_dims(decoder_input, 0)\n",
        "\n",
        "    for i in range(DECODER_LEN):\n",
        "        enc_padding_mask, combined_mask, dec_padding_mask = create_masks(encoder_input, output)\n",
        "\n",
        "        predictions, attention_weights = transformer(\n",
        "            encoder_input,\n",
        "            output,\n",
        "            training=False,\n",
        "            enc_padding_mask=enc_padding_mask,\n",
        "            look_ahead_mask=combined_mask,\n",
        "            dec_padding_mask=dec_padding_mask\n",
        "\n",
        "        )\n",
        "\n",
        "        predictions = predictions[: ,-1:, :]\n",
        "        predicted_id = tf.cast(tf.argmax(predictions, axis=-1), tf.int32)\n",
        "\n",
        "        if predicted_id == summary_tokenizer.word_index['<eos>']:\n",
        "            return tf.squeeze(output, axis=0), attention_weights\n",
        "\n",
        "        output = tf.concat([output, predicted_id], axis=-1)\n",
        "\n",
        "    return tf.squeeze(output, axis=0), attention_weights"
      ],
      "metadata": {
        "execution": {
          "iopub.status.busy": "2022-11-08T13:48:59.815046Z",
          "iopub.execute_input": "2022-11-08T13:48:59.815378Z",
          "iopub.status.idle": "2022-11-08T13:48:59.823251Z",
          "shell.execute_reply.started": "2022-11-08T13:48:59.815345Z",
          "shell.execute_reply": "2022-11-08T13:48:59.822080Z"
        },
        "trusted": true,
        "id": "y37rIuDA044I"
      },
      "execution_count": 59,
      "outputs": []
    },
    {
      "cell_type": "code",
      "source": [
        "def summarize(input_article):\n",
        "    input_article=preprocess(input_article)\n",
        "    summarized = evaluate(input_article=input_article)[0].numpy()\n",
        "    summarized = np.expand_dims(summarized[1:], 0)\n",
        "    return summary_tokenizer.sequences_to_texts(summarized)[0]"
      ],
      "metadata": {
        "execution": {
          "iopub.status.busy": "2022-11-08T13:49:07.478030Z",
          "iopub.execute_input": "2022-11-08T13:49:07.478395Z",
          "iopub.status.idle": "2022-11-08T13:49:07.483231Z",
          "shell.execute_reply.started": "2022-11-08T13:49:07.478360Z",
          "shell.execute_reply": "2022-11-08T13:49:07.482116Z"
        },
        "trusted": true,
        "id": "1gF17hth044I"
      },
      "execution_count": 60,
      "outputs": []
    },
    {
      "cell_type": "markdown",
      "source": [
        "# Predictions\n",
        "\n",
        "Below me make predictions on some texts to see how the model is performimg. Since this was a very basic approach the model wont perform that well but it can surely be improved."
      ],
      "metadata": {
        "id": "bwXHt1B3044I"
      }
    },
    {
      "cell_type": "code",
      "source": [
        "article[5]"
      ],
      "metadata": {
        "execution": {
          "iopub.status.busy": "2022-11-08T13:49:16.937337Z",
          "iopub.execute_input": "2022-11-08T13:49:16.937653Z",
          "iopub.status.idle": "2022-11-08T13:49:16.944863Z",
          "shell.execute_reply.started": "2022-11-08T13:49:16.937623Z",
          "shell.execute_reply": "2022-11-08T13:49:16.943966Z"
        },
        "trusted": true,
        "colab": {
          "base_uri": "https://localhost:8080/",
          "height": 70
        },
        "id": "bHzHs9Wq044J",
        "outputId": "767c7804-ea90-4199-8519-c52522ab42b6"
      },
      "execution_count": 61,
      "outputs": [
        {
          "output_type": "execute_result",
          "data": {
            "text/plain": [
              "'<SOS> Danish tourist Johnny Bonde was bitten by a freshwater crocodile at Lake Kununurra in Australia, after accidentally \"body-slamming\" the reptile, while attempting to take a photo of it, reports said. Bonde`s right arm was bitten by the 2.5-metre-long crocodile. \"I pretty much body-slammed him. If somebody body-slammed me at night, I would be angry too,\" the 27-year-old said. <EOS>'"
            ],
            "application/vnd.google.colaboratory.intrinsic+json": {
              "type": "string"
            }
          },
          "metadata": {},
          "execution_count": 61
        }
      ]
    },
    {
      "cell_type": "code",
      "source": [
        "print(\"Real Headline : \", summary[5][5:-5],\"\\n Predicted Summary : \", summarize(article[5]))"
      ],
      "metadata": {
        "execution": {
          "iopub.status.busy": "2022-11-08T13:49:22.708068Z",
          "iopub.execute_input": "2022-11-08T13:49:22.708395Z",
          "iopub.status.idle": "2022-11-08T13:49:23.292896Z",
          "shell.execute_reply.started": "2022-11-08T13:49:22.708365Z",
          "shell.execute_reply": "2022-11-08T13:49:23.291056Z"
        },
        "trusted": true,
        "colab": {
          "base_uri": "https://localhost:8080/"
        },
        "id": "yorTVLJg044J",
        "outputId": "77bda84b-3803-4273-fd8a-2530d7a8e370"
      },
      "execution_count": 62,
      "outputs": [
        {
          "output_type": "stream",
          "name": "stdout",
          "text": [
            "Real Headline :   Danish tourist bitten after `body-slamming` crocodile  \n",
            " Predicted Summary :  thousands of cancer patient found guilty of 42k guests\n"
          ]
        }
      ]
    },
    {
      "cell_type": "code",
      "source": [
        "article[16]"
      ],
      "metadata": {
        "execution": {
          "iopub.status.busy": "2022-11-08T13:49:29.460603Z",
          "iopub.execute_input": "2022-11-08T13:49:29.460935Z",
          "iopub.status.idle": "2022-11-08T13:49:29.466614Z",
          "shell.execute_reply.started": "2022-11-08T13:49:29.460902Z",
          "shell.execute_reply": "2022-11-08T13:49:29.465592Z"
        },
        "trusted": true,
        "colab": {
          "base_uri": "https://localhost:8080/",
          "height": 70
        },
        "id": "p9msM_wQ044J",
        "outputId": "c5052b6b-6b47-4993-a1ec-93fba9e29b31"
      },
      "execution_count": 63,
      "outputs": [
        {
          "output_type": "execute_result",
          "data": {
            "text/plain": [
              "'<SOS> Singer Sia, known for songs like `Cheap Thrills` and `Chandelier`, was spotted without her wig at the Los Angeles airport on her way to Dubai. The 41-year-old singer usually makes public appearances wearing a half-black-half-blonde faux hair and never shows her face. Sia has introduced her distinctive look in her videos, where dancer Maddie Ziegler is seen in similar wigs.  <EOS>'"
            ],
            "application/vnd.google.colaboratory.intrinsic+json": {
              "type": "string"
            }
          },
          "metadata": {},
          "execution_count": 63
        }
      ]
    },
    {
      "cell_type": "code",
      "source": [
        "print(\"Real Headline : \", summary[16][5:-5],\"\\nPredicted Summary : \", summarize(article[16]))"
      ],
      "metadata": {
        "execution": {
          "iopub.status.busy": "2022-11-08T13:49:35.669857Z",
          "iopub.execute_input": "2022-11-08T13:49:35.670264Z",
          "iopub.status.idle": "2022-11-08T13:49:36.677008Z",
          "shell.execute_reply.started": "2022-11-08T13:49:35.670229Z",
          "shell.execute_reply": "2022-11-08T13:49:36.676055Z"
        },
        "trusted": true,
        "colab": {
          "base_uri": "https://localhost:8080/"
        },
        "id": "OniAeRTK044J",
        "outputId": "7115c4af-be35-479c-bdf8-9ce734e7f70a"
      },
      "execution_count": 64,
      "outputs": [
        {
          "output_type": "stream",
          "name": "stdout",
          "text": [
            "Real Headline :   `Cheap Thrills` singer Sia spotted without her wig  \n",
            "Predicted Summary :  designer sings journalist s daughter song from famous by famous students\n"
          ]
        }
      ]
    },
    {
      "cell_type": "code",
      "source": [
        "article[23]"
      ],
      "metadata": {
        "execution": {
          "iopub.status.busy": "2022-11-08T13:49:58.358543Z",
          "iopub.execute_input": "2022-11-08T13:49:58.358881Z",
          "iopub.status.idle": "2022-11-08T13:49:58.364158Z",
          "shell.execute_reply.started": "2022-11-08T13:49:58.358847Z",
          "shell.execute_reply": "2022-11-08T13:49:58.363300Z"
        },
        "trusted": true,
        "colab": {
          "base_uri": "https://localhost:8080/",
          "height": 70
        },
        "id": "ElvEoIot044J",
        "outputId": "ccc84b70-e2e9-4309-dafe-1595af85390b"
      },
      "execution_count": 65,
      "outputs": [
        {
          "output_type": "execute_result",
          "data": {
            "text/plain": [
              "'<SOS> The parasite causing African sleeping sickness, a life-threatening disease, has been found to take refuge in and transmit through human skin. People with the parasite often show no symptoms of the disease and test negative to blood tests, leading to delayed diagnosis and less survival chances. This information can help eradicate the disease, which killed an estimated 9,000 in 2010. <EOS>'"
            ],
            "application/vnd.google.colaboratory.intrinsic+json": {
              "type": "string"
            }
          },
          "metadata": {},
          "execution_count": 65
        }
      ]
    },
    {
      "cell_type": "code",
      "source": [
        "print(\"Real Headline : \", summary[23][5:-5],\"\\nPredicted Summary : \", summarize(article[23]))"
      ],
      "metadata": {
        "execution": {
          "iopub.status.busy": "2022-11-08T13:50:06.834770Z",
          "iopub.execute_input": "2022-11-08T13:50:06.835123Z",
          "iopub.status.idle": "2022-11-08T13:50:07.899697Z",
          "shell.execute_reply.started": "2022-11-08T13:50:06.835089Z",
          "shell.execute_reply": "2022-11-08T13:50:07.898925Z"
        },
        "trusted": true,
        "colab": {
          "base_uri": "https://localhost:8080/"
        },
        "id": "ojqwqwYe044J",
        "outputId": "86f85a64-8527-43e6-f516-c9bd5bbb6031"
      },
      "execution_count": 66,
      "outputs": [
        {
          "output_type": "stream",
          "name": "stdout",
          "text": [
            "Real Headline :   `African sleeping sickness hides in human skin`  \n",
            "Predicted Summary :  why do we have a human eye shaped camera\n"
          ]
        }
      ]
    },
    {
      "cell_type": "code",
      "source": [
        "print(\"Real Headline : \", summary[0][5:-5],\"\\nPredicted Summary : \", summarize(article[0]))"
      ],
      "metadata": {
        "execution": {
          "iopub.status.busy": "2022-11-08T13:55:20.466297Z",
          "iopub.execute_input": "2022-11-08T13:55:20.466697Z",
          "iopub.status.idle": "2022-11-08T13:55:21.076567Z",
          "shell.execute_reply.started": "2022-11-08T13:55:20.466662Z",
          "shell.execute_reply": "2022-11-08T13:55:21.075484Z"
        },
        "trusted": true,
        "colab": {
          "base_uri": "https://localhost:8080/"
        },
        "id": "p1oFNH-O044J",
        "outputId": "a411179b-b06a-4c7f-c439-73b301d98164"
      },
      "execution_count": 67,
      "outputs": [
        {
          "output_type": "stream",
          "name": "stdout",
          "text": [
            "Real Headline :   Ex-Prez Abdul Kalam`s memorial to open on July 27  \n",
            "Predicted Summary :  pm modi to visit india for 1st time in uk\n"
          ]
        }
      ]
    },
    {
      "cell_type": "code",
      "source": [
        "print(\"Real Headline : \", summary[23][5:-5],\"\\nPredicted Summary : \", summarize(article[23]))"
      ],
      "metadata": {
        "execution": {
          "iopub.status.busy": "2022-11-08T13:55:29.157677Z",
          "iopub.execute_input": "2022-11-08T13:55:29.158075Z",
          "iopub.status.idle": "2022-11-08T13:55:30.006599Z",
          "shell.execute_reply.started": "2022-11-08T13:55:29.158037Z",
          "shell.execute_reply": "2022-11-08T13:55:30.005665Z"
        },
        "trusted": true,
        "colab": {
          "base_uri": "https://localhost:8080/"
        },
        "id": "I5fdg9_G044J",
        "outputId": "ab7e436d-fbb9-4544-c3b2-8fc74d50c013"
      },
      "execution_count": 68,
      "outputs": [
        {
          "output_type": "stream",
          "name": "stdout",
          "text": [
            "Real Headline :   `African sleeping sickness hides in human skin`  \n",
            "Predicted Summary :  why do we have a human eye shaped camera\n"
          ]
        }
      ]
    },
    {
      "cell_type": "code",
      "source": [
        "summarize(\"Text Summarization - as the name suggests - involves generating short summaries of text data, in a few words or sentences. A good example of this in day-to-day life is the Inshorts news summary app, which generates summaries upto max of ~ 60 words.\")"
      ],
      "metadata": {
        "execution": {
          "iopub.status.busy": "2022-11-08T13:55:43.951816Z",
          "iopub.execute_input": "2022-11-08T13:55:43.952195Z",
          "iopub.status.idle": "2022-11-08T13:55:44.447900Z",
          "shell.execute_reply.started": "2022-11-08T13:55:43.952159Z",
          "shell.execute_reply": "2022-11-08T13:55:44.446857Z"
        },
        "trusted": true,
        "colab": {
          "base_uri": "https://localhost:8080/",
          "height": 36
        },
        "id": "TvieiKIW044K",
        "outputId": "133b2d78-10bc-46d4-bde5-044cc412f97c"
      },
      "execution_count": 69,
      "outputs": [
        {
          "output_type": "execute_result",
          "data": {
            "text/plain": [
              "'why do we believe in their skin'"
            ],
            "application/vnd.google.colaboratory.intrinsic+json": {
              "type": "string"
            }
          },
          "metadata": {},
          "execution_count": 69
        }
      ]
    },
    {
      "cell_type": "code",
      "source": [
        "summarize(\"\"\"Cambodian leader Hun Sen on Friday rejected opposition parties' demands\n",
        "for talks outside the country, accusing them of trying to ``internationalize''\n",
        "the political crisis. Government and opposition parties have asked\n",
        "King Norodom Sihanouk to host a summit meeting after a series of post-election\n",
        "negotiations between the two opposition groups and Hun Sen's party\n",
        "to form a new government failed. Opposition leaders Prince Norodom\n",
        "Ranariddh and Sam Rainsy, citing Hun Sen's threats to arrest opposition\n",
        "figures after two alleged attempts on his life, said they could not\n",
        "negotiate freely in Cambodia and called for talks at Sihanouk's residence\n",
        "in Beijing. Hun Sen, however, rejected that. ``I would like to make\n",
        "it clear that all meetings related to Cambodian affairs must be conducted\n",
        "in the Kingdom of Cambodia,'' Hun Sen told reporters after a Cabinet\n",
        "meeting on Friday. ``No-one should internationalize Cambodian affairs.\n",
        "It is detrimental to the sovereignty of Cambodia,'' he said. Hun Sen's\n",
        "Cambodian People's Party won 64 of the 122 parliamentary seats in\n",
        "July's elections, short of the two-thirds majority needed to form\n",
        "a government on its own. Ranariddh and Sam Rainsy have charged that\n",
        "Hun Sen's victory in the elections was achieved through widespread\n",
        "fraud. They have demanded a thorough investigation into their election\n",
        "complaints as a precondition for their cooperation in getting the\n",
        "national assembly moving and a new government formed. Hun Sen said\n",
        "on Friday that the opposition concerns over their safety in the country\n",
        "was ``just an excuse for them to stay abroad.'' Both Ranariddh and\n",
        "Sam Rainsy have been outside the country since parliament was ceremonially\n",
        "opened on Sep. 24. Sam Rainsy and a number of opposition figures have\n",
        "been under court investigation for a grenade attack on Hun Sen's Phnom\n",
        "Penh residence on Sep. 7. Hun Sen was not home at the time of the\n",
        "attack, which was followed by a police crackdown on demonstrators\n",
        "contesting Hun Sen's election victory. The Sam Rainsy Party, in a\n",
        "statement released Friday, accused Hun Sen of being ``unwilling to\n",
        "make any compromise'' on negotiations to break the deadlock. ``A meeting\n",
        "outside Cambodia, as suggested by the opposition, could place all\n",
        "parties on more equal footing,'' said the statement. ``But the ruling\n",
        "party refuses to negotiate unless it is able to threaten its negotiating\n",
        "partners with arrest or worse.'' \"\"\")"
      ],
      "metadata": {
        "execution": {
          "iopub.status.busy": "2022-11-08T13:57:13.735224Z",
          "iopub.execute_input": "2022-11-08T13:57:13.735552Z",
          "iopub.status.idle": "2022-11-08T13:57:14.355643Z",
          "shell.execute_reply.started": "2022-11-08T13:57:13.735520Z",
          "shell.execute_reply": "2022-11-08T13:57:14.354864Z"
        },
        "trusted": true,
        "colab": {
          "base_uri": "https://localhost:8080/",
          "height": 36
        },
        "id": "pZmQhEuI044K",
        "outputId": "e5f09873-2240-49d3-c58d-23e9c9e95e19"
      },
      "execution_count": 70,
      "outputs": [
        {
          "output_type": "execute_result",
          "data": {
            "text/plain": [
              "'un panel recommends un resolution on un resolution'"
            ],
            "application/vnd.google.colaboratory.intrinsic+json": {
              "type": "string"
            }
          },
          "metadata": {},
          "execution_count": 70
        }
      ]
    },
    {
      "cell_type": "code",
      "source": [
        "summarize(\"cambodian leader hun sen on friday rejected opposition parties ' demands for talks outside the country , accusing them of trying to `` internationalize '' the political crisis .\")"
      ],
      "metadata": {
        "execution": {
          "iopub.status.busy": "2022-11-08T13:57:23.162192Z",
          "iopub.execute_input": "2022-11-08T13:57:23.162554Z",
          "iopub.status.idle": "2022-11-08T13:57:23.781675Z",
          "shell.execute_reply.started": "2022-11-08T13:57:23.162519Z",
          "shell.execute_reply": "2022-11-08T13:57:23.780880Z"
        },
        "trusted": true,
        "colab": {
          "base_uri": "https://localhost:8080/",
          "height": 36
        },
        "id": "JWWLz3VZ044K",
        "outputId": "b6e55364-90fe-4b57-ef42-c224660459db"
      },
      "execution_count": 71,
      "outputs": [
        {
          "output_type": "execute_result",
          "data": {
            "text/plain": [
              "'congo govt rejects rules with sedition law'"
            ],
            "application/vnd.google.colaboratory.intrinsic+json": {
              "type": "string"
            }
          },
          "metadata": {},
          "execution_count": 71
        }
      ]
    },
    {
      "cell_type": "markdown",
      "source": [
        "Cambodian government rejects opposition's call for talks abroad\n"
      ],
      "metadata": {
        "id": "Bpc9Vi28044K"
      }
    },
    {
      "cell_type": "code",
      "source": [
        "summarize(\"king norodom sihanouk has declined requests to chair a summit of cambodia 's top political leaders , saying the meeting would not bring any progress in deadlocked negotiations to form a government .\")"
      ],
      "metadata": {
        "execution": {
          "iopub.status.busy": "2022-11-08T13:58:21.610934Z",
          "iopub.execute_input": "2022-11-08T13:58:21.611304Z",
          "iopub.status.idle": "2022-11-08T13:58:22.437754Z",
          "shell.execute_reply.started": "2022-11-08T13:58:21.611263Z",
          "shell.execute_reply": "2022-11-08T13:58:22.436818Z"
        },
        "trusted": true,
        "colab": {
          "base_uri": "https://localhost:8080/",
          "height": 36
        },
        "id": "MZv-3rrv044K",
        "outputId": "f3b244ff-48d9-4e57-bf72-09ff6d58c3c9"
      },
      "execution_count": 72,
      "outputs": [
        {
          "output_type": "execute_result",
          "data": {
            "text/plain": [
              "'uk govt rejects pm s resignation over brexit'"
            ],
            "application/vnd.google.colaboratory.intrinsic+json": {
              "type": "string"
            }
          },
          "metadata": {},
          "execution_count": 72
        }
      ]
    },
    {
      "cell_type": "code",
      "source": [
        "summarize(\"sometime in the summer of 1997 , an operative for osama bin laden sat down at his personal computer in a hideaway in kenya , he was worried , he wrote in an angry dispatch , about the security of the `` east africa network '' of bin laden , the saudi exile accused of masterminding a worldwide terrorist conspiracy against americans .\")"
      ],
      "metadata": {
        "execution": {
          "iopub.status.busy": "2022-11-08T14:01:35.935093Z",
          "iopub.execute_input": "2022-11-08T14:01:35.935432Z",
          "iopub.status.idle": "2022-11-08T14:01:36.483607Z",
          "shell.execute_reply.started": "2022-11-08T14:01:35.935401Z",
          "shell.execute_reply": "2022-11-08T14:01:36.482739Z"
        },
        "trusted": true,
        "colab": {
          "base_uri": "https://localhost:8080/",
          "height": 36
        },
        "id": "7x69-awr044K",
        "outputId": "5ce26e77-4324-46ad-a699-c0a5e89aa937"
      },
      "execution_count": 73,
      "outputs": [
        {
          "output_type": "execute_result",
          "data": {
            "text/plain": [
              "'thousands of human eye shaped using cancer'"
            ],
            "application/vnd.google.colaboratory.intrinsic+json": {
              "type": "string"
            }
          },
          "metadata": {},
          "execution_count": 73
        }
      ]
    },
    {
      "cell_type": "code",
      "source": [
        "summarize(\"six months after president clinton traveled to beijing and challenged china 's leaders to move rapidly toward political reform , the administration 's policy of engaging beijing was called into question monday when chinese courts sentenced three of the nation 's most prominent dissidents to long jail sentences .\")"
      ],
      "metadata": {
        "execution": {
          "iopub.status.busy": "2022-11-08T14:02:01.967056Z",
          "iopub.execute_input": "2022-11-08T14:02:01.967402Z",
          "iopub.status.idle": "2022-11-08T14:02:02.653151Z",
          "shell.execute_reply.started": "2022-11-08T14:02:01.967371Z",
          "shell.execute_reply": "2022-11-08T14:02:02.652340Z"
        },
        "trusted": true,
        "colab": {
          "base_uri": "https://localhost:8080/",
          "height": 36
        },
        "id": "im9QuzLx044L",
        "outputId": "e3bd8949-6294-46c6-f88b-7df4be50e3bc"
      },
      "execution_count": 74,
      "outputs": [
        {
          "output_type": "execute_result",
          "data": {
            "text/plain": [
              "'china accuses china of possible terrorism ex un chief'"
            ],
            "application/vnd.google.colaboratory.intrinsic+json": {
              "type": "string"
            }
          },
          "metadata": {},
          "execution_count": 74
        }
      ]
    },
    {
      "cell_type": "code",
      "source": [
        "summarize(\"fbi agents this week began questioning relatives of the victims of the aug. 7 u.s. embassy bombing as well as the seriously injured on request of the u.s. attorney 's office for the southern district of new york , a u.s. official said thursday .\")"
      ],
      "metadata": {
        "execution": {
          "iopub.status.busy": "2022-11-08T14:04:51.298438Z",
          "iopub.execute_input": "2022-11-08T14:04:51.298790Z",
          "iopub.status.idle": "2022-11-08T14:04:51.927367Z",
          "shell.execute_reply.started": "2022-11-08T14:04:51.298760Z",
          "shell.execute_reply": "2022-11-08T14:04:51.926599Z"
        },
        "trusted": true,
        "colab": {
          "base_uri": "https://localhost:8080/",
          "height": 36
        },
        "id": "uLZ3LlAL044L",
        "outputId": "8c4e4891-feca-4f5f-fd9c-9c32175f11c5"
      },
      "execution_count": 75,
      "outputs": [
        {
          "output_type": "execute_result",
          "data": {
            "text/plain": [
              "'turkey arrests un officials over probe'"
            ],
            "application/vnd.google.colaboratory.intrinsic+json": {
              "type": "string"
            }
          },
          "metadata": {},
          "execution_count": 75
        }
      ]
    },
    {
      "cell_type": "code",
      "source": [
        "summarize(\"Saurav Kant, an alumnus of upGrad and IIIT-B's PG Program in Machine learning and Artificial Intelligence, was a Sr Systems Engineer at Infosys with almost 5 years of work experience. The program and upGrad's 360-degree career support helped him transition to a Data Scientist at Tech Mahindra with 90% salary hike. upGrad's Online Power Learning has powered 3 lakh+ careers.\")"
      ],
      "metadata": {
        "execution": {
          "iopub.status.busy": "2022-11-08T14:16:23.334896Z",
          "iopub.execute_input": "2022-11-08T14:16:23.335412Z",
          "iopub.status.idle": "2022-11-08T14:16:24.084832Z",
          "shell.execute_reply.started": "2022-11-08T14:16:23.335373Z",
          "shell.execute_reply": "2022-11-08T14:16:24.083980Z"
        },
        "trusted": true,
        "colab": {
          "base_uri": "https://localhost:8080/",
          "height": 36
        },
        "id": "6NGP1D20044L",
        "outputId": "14269bee-6b88-4445-87b7-96f9bb273690"
      },
      "execution_count": 76,
      "outputs": [
        {
          "output_type": "execute_result",
          "data": {
            "text/plain": [
              "'amazon buys cloud startup wudstay acquires food startup klozee'"
            ],
            "application/vnd.google.colaboratory.intrinsic+json": {
              "type": "string"
            }
          },
          "metadata": {},
          "execution_count": 76
        }
      ]
    },
    {
      "cell_type": "code",
      "source": [
        "summarize(\"Actor Ranbir Kapoor worked as an assistant director for Sanjay Leela Bhansali&#39;s &#39;Black&#39; in 2005. He is also known to have assisted in the making of the 1996 film &#39;PremGranth&#39; and his father Rishi Kapoor&#39;s directorial debut &#39;Aa Ab Laut Chalen&#39; in 1999. The actor, who has won five Filmfare awards including Best Actor for &#39;Barfi!&#39;, turned 34 on Wednesday.\")"
      ],
      "metadata": {
        "execution": {
          "iopub.status.busy": "2022-11-08T14:17:59.690819Z",
          "iopub.execute_input": "2022-11-08T14:17:59.691182Z",
          "iopub.status.idle": "2022-11-08T14:18:00.369932Z",
          "shell.execute_reply.started": "2022-11-08T14:17:59.691148Z",
          "shell.execute_reply": "2022-11-08T14:18:00.369173Z"
        },
        "trusted": true,
        "colab": {
          "base_uri": "https://localhost:8080/",
          "height": 36
        },
        "id": "is8UoCUB044L",
        "outputId": "3dda7075-7aba-4c32-a113-f844acf7a6a6"
      },
      "execution_count": 77,
      "outputs": [
        {
          "output_type": "execute_result",
          "data": {
            "text/plain": [
              "'ranbir kapoor to star in the world s next film'"
            ],
            "application/vnd.google.colaboratory.intrinsic+json": {
              "type": "string"
            }
          },
          "metadata": {},
          "execution_count": 77
        }
      ]
    },
    {
      "cell_type": "code",
      "source": [
        "print(\"Real Headline : \", summary[0][5:-5],\"\\nPredicted Summary : \", summarize(article[0]))"
      ],
      "metadata": {
        "execution": {
          "iopub.status.busy": "2022-11-08T14:21:34.905229Z",
          "iopub.execute_input": "2022-11-08T14:21:34.905556Z",
          "iopub.status.idle": "2022-11-08T14:21:35.453451Z",
          "shell.execute_reply.started": "2022-11-08T14:21:34.905524Z",
          "shell.execute_reply": "2022-11-08T14:21:35.452557Z"
        },
        "trusted": true,
        "colab": {
          "base_uri": "https://localhost:8080/"
        },
        "id": "SrE66EBn044L",
        "outputId": "63c7e82e-385d-444e-be28-0a01251ec89b"
      },
      "execution_count": 78,
      "outputs": [
        {
          "output_type": "stream",
          "name": "stdout",
          "text": [
            "Real Headline :   Ex-Prez Abdul Kalam`s memorial to open on July 27  \n",
            "Predicted Summary :  pm modi to visit india for 1st time in uk\n"
          ]
        }
      ]
    },
    {
      "cell_type": "code",
      "source": [
        "summarize(\"The CBI on Saturday booked four former officials of Syndicate Bank and six others for cheating, forgery, criminal conspiracy and causing ₹209 crore loss to the state-run bank. The accused had availed home loans and credit from Syndicate Bank on the basis of forged and fabricated documents. These funds were fraudulently transferred to the companies owned by the accused persons.\")"
      ],
      "metadata": {
        "execution": {
          "iopub.status.busy": "2022-11-08T14:23:40.966056Z",
          "iopub.execute_input": "2022-11-08T14:23:40.966393Z",
          "iopub.status.idle": "2022-11-08T14:23:41.787740Z",
          "shell.execute_reply.started": "2022-11-08T14:23:40.966360Z",
          "shell.execute_reply": "2022-11-08T14:23:41.786902Z"
        },
        "trusted": true,
        "colab": {
          "base_uri": "https://localhost:8080/",
          "height": 36
        },
        "id": "ePhhHBSC044L",
        "outputId": "13312d79-fa1a-4e61-b050-eef3449004e2"
      },
      "execution_count": 79,
      "outputs": [
        {
          "output_type": "execute_result",
          "data": {
            "text/plain": [
              "'sbi arrests cbi over ₹1 300 crore cash cash cash in thane'"
            ],
            "application/vnd.google.colaboratory.intrinsic+json": {
              "type": "string"
            }
          },
          "metadata": {},
          "execution_count": 79
        }
      ]
    },
    {
      "cell_type": "markdown",
      "source": [
        "# ROUGE evaluation"
      ],
      "metadata": {
        "id": "0MBWahPDs0fR"
      }
    },
    {
      "cell_type": "code",
      "source": [
        "!pip install rouge --quiet"
      ],
      "metadata": {
        "id": "tXiRauZCVUEs"
      },
      "execution_count": 80,
      "outputs": []
    },
    {
      "cell_type": "code",
      "source": [
        "from rouge import Rouge\n",
        "import numpy as np\n",
        "\n",
        "def calculate_rouge_scores(hypotheses, references):\n",
        "    \"\"\"\n",
        "    Calculate ROUGE-1, ROUGE-2, and ROUGE-L scores.\n",
        "\n",
        "    Args:\n",
        "    hypotheses (list): List of generated summaries\n",
        "    references (list): List of reference summaries\n",
        "\n",
        "    Returns:\n",
        "    dict: Dictionary containing average ROUGE scores\n",
        "    \"\"\"\n",
        "    rouge = Rouge()\n",
        "\n",
        "    # Initialize lists to store individual scores\n",
        "    rouge_1_f1 = []\n",
        "    rouge_2_f1 = []\n",
        "    rouge_l_f1 = []\n",
        "\n",
        "    for hyp, ref in zip(hypotheses, references):\n",
        "        # Calculate ROUGE scores\n",
        "        scores = rouge.get_scores(hyp, ref)[0]\n",
        "\n",
        "        # Extract F1 scores\n",
        "        rouge_1_f1.append(scores['rouge-1']['f'])\n",
        "        rouge_2_f1.append(scores['rouge-2']['f'])\n",
        "        rouge_l_f1.append(scores['rouge-l']['f'])\n",
        "\n",
        "    # Calculate average scores\n",
        "    avg_rouge_1 = np.mean(rouge_1_f1)\n",
        "    avg_rouge_2 = np.mean(rouge_2_f1)\n",
        "    avg_rouge_l = np.mean(rouge_l_f1)\n",
        "\n",
        "    return {\n",
        "        'ROUGE-1': avg_rouge_1,\n",
        "        'ROUGE-2': avg_rouge_2,\n",
        "        'ROUGE-L': avg_rouge_l\n",
        "    }"
      ],
      "metadata": {
        "id": "XpeDtpGc5xu9"
      },
      "execution_count": 81,
      "outputs": []
    },
    {
      "cell_type": "code",
      "source": [
        "# Example usage\n",
        "hypotheses = [\n",
        "    \"The quick brown fox jumps over the lazy dog.\",\n",
        "    \"A journey of a thousand miles begins with a single step.\"\n",
        "]\n",
        "\n",
        "references = [\n",
        "    \"The fast brown fox leaps over the sleepy dog.\",\n",
        "    \"The journey of a thousand miles starts with one step.\"\n",
        "]\n",
        "\n",
        "rouge_scores = calculate_rouge_scores(hypotheses, references)\n",
        "\n",
        "print(\"ROUGE Scores:\")\n",
        "for metric, score in rouge_scores.items():\n",
        "    print(f\"{metric}: {score:.4f}\")"
      ],
      "metadata": {
        "colab": {
          "base_uri": "https://localhost:8080/"
        },
        "id": "b7gZCQ4x54sP",
        "outputId": "599a5449-3896-4fab-836f-95657856a108"
      },
      "execution_count": 82,
      "outputs": [
        {
          "output_type": "stream",
          "name": "stdout",
          "text": [
            "ROUGE Scores:\n",
            "ROUGE-1: 0.6833\n",
            "ROUGE-2: 0.3355\n",
            "ROUGE-L: 0.6833\n"
          ]
        }
      ]
    },
    {
      "cell_type": "code",
      "source": [
        "# Get a sample of articles from your dataset\n",
        "sample_articles = article[:1000]  # Adjust the number as needed\n",
        "\n",
        "# Generate summaries using your transformer model\n",
        "transformer_summaries = [summarize(art) for art in sample_articles]\n",
        "\n",
        "# Get the reference summaries\n",
        "reference_summaries = summary[:1000]  # Adjust to match your sample size\n",
        "\n",
        "# Calculate ROUGE scores for transformer model\n",
        "transformer_rouge_scores = calculate_rouge_scores(transformer_summaries, reference_summaries)\n",
        "\n",
        "\n",
        "print(\"Transformer Model ROUGE Scores:\")\n",
        "for metric, score in transformer_rouge_scores.items():\n",
        "    print(f\"{metric}: {score:.4f}\")\n"
      ],
      "metadata": {
        "colab": {
          "base_uri": "https://localhost:8080/"
        },
        "id": "UtLNjajj5kw1",
        "outputId": "37487451-35a0-418e-bc19-71b241cbf027"
      },
      "execution_count": 84,
      "outputs": [
        {
          "output_type": "stream",
          "name": "stdout",
          "text": [
            "Transformer Model ROUGE Scores:\n",
            "ROUGE-1: 0.0697\n",
            "ROUGE-2: 0.0097\n",
            "ROUGE-L: 0.0669\n"
          ]
        }
      ]
    }
  ]
}